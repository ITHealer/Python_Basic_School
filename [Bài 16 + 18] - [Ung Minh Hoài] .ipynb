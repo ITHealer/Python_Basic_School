{
 "cells": [
  {
   "cell_type": "markdown",
   "id": "f3a22bf0",
   "metadata": {},
   "source": [
    "# Bài tập"
   ]
  },
  {
   "cell_type": "markdown",
   "id": "d04e2aa6",
   "metadata": {},
   "source": [
    "### Bài 16: Viết một chương trình kiểm tra một số n có phải là số đối xứng hay không? Số đối xứng là số khi viết ngược cũng bằng chính nó. Ví dụ: 121, 2332,…\n",
    "Gợi ý:Tìm m là số đảo ngược của n. Nếu n=m thì n là số đối xứng.\n"
   ]
  },
  {
   "cell_type": "code",
   "execution_count": 12,
   "id": "1572a702",
   "metadata": {},
   "outputs": [
    {
     "name": "stdout",
     "output_type": "stream",
     "text": [
      "Nhập vào số nguyên n = 2332\n",
      "2332 là số đối xứng\n"
     ]
    }
   ],
   "source": [
    "n = int(input('Nhập vào số nguyên n = '))\n",
    "\n",
    "# func kiểm tra số đối xứng hay không\n",
    "def check_dx(n):\n",
    "    values = n\n",
    "    temp = 0\n",
    "    while n != 0:\n",
    "        d = n % 10\n",
    "        temp = temp * 10 + d\n",
    "        n //= 10\n",
    "    if temp == values:\n",
    "        print(f'{values} là số đối xứng')\n",
    "    else: \n",
    "        print(f'{values} không là số đối xứng')\n",
    "\n",
    "check_dx(n)"
   ]
  },
  {
   "cell_type": "markdown",
   "id": "66551622",
   "metadata": {},
   "source": [
    "### Bài 18: Viết chương trình tìm ước chung lớn nhất và bội chung nhỏ nhất của hai số nguyên a và b. "
   ]
  },
  {
   "cell_type": "code",
   "execution_count": 1,
   "id": "b4e65c2b",
   "metadata": {},
   "outputs": [
    {
     "name": "stdout",
     "output_type": "stream",
     "text": [
      "Nhập vào số nguyên a = 9\n",
      "Nhập vào số nguyên b = 15\n",
      "USCLN là:  3\n",
      "BSCNN là:  45\n"
     ]
    }
   ],
   "source": [
    "a = int(input('Nhập vào số nguyên a = '))\n",
    "b = int(input('Nhập vào số nguyên b = '))\n",
    "\n",
    "# func USCLN\n",
    "def USCLN(x, y):\n",
    "    while(y):\n",
    "        x, y = y, x % y\n",
    "    return x\n",
    "\n",
    "# func BSCNN\n",
    "def BSCNN(x, y):\n",
    "    bscnn = (x*y)//USCLN(x,y)\n",
    "    return bscnn\n",
    "\n",
    "print('USCLN là: ', USCLN(a, b))\n",
    "print('BSCNN là: ', BSCNN(a, b))"
   ]
  }
 ],
 "metadata": {
  "kernelspec": {
   "display_name": "Python 3 (ipykernel)",
   "language": "python",
   "name": "python3"
  },
  "language_info": {
   "codemirror_mode": {
    "name": "ipython",
    "version": 3
   },
   "file_extension": ".py",
   "mimetype": "text/x-python",
   "name": "python",
   "nbconvert_exporter": "python",
   "pygments_lexer": "ipython3",
   "version": "3.9.12"
  }
 },
 "nbformat": 4,
 "nbformat_minor": 5
}
