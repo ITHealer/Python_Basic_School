{
 "cells": [
  {
   "cell_type": "markdown",
   "id": "81fe8067",
   "metadata": {},
   "source": [
    "Bài 26: Định nghĩa một hàm có thể tạo dictionary, chứa các key là số từ 1 đến 20\n",
    "(bao gồm cả 1 và 20) và các giá trị bình phương của chúng. Hàm chỉ in các giá trị\n",
    "mà thôi.\n",
    "Gợi ý:\n",
    "- Sử dụng dict[key]=value để nhập mục vào dictionary.\n",
    "- Sử dụng toán từ ** để lấy bình phương của một số.\n",
    "- Sử dụng range() cho các vòng lặp.\n",
    "- Sử dụng keys() để di lặp các key trong dictionary. Có thể sử dụng\n",
    "item() để nhận cặp key/value."
   ]
  },
  {
   "cell_type": "code",
   "execution_count": 3,
   "id": "0e2d863c",
   "metadata": {},
   "outputs": [],
   "source": [
    "def printDict():\n",
    "    d=dict()\n",
    "    for i in range(1,21):\n",
    "        d[i]=i**2\n",
    "    return d"
   ]
  },
  {
   "cell_type": "code",
   "execution_count": 60,
   "id": "26b37a47",
   "metadata": {},
   "outputs": [
    {
     "data": {
      "text/plain": [
       "[1,\n",
       " 4,\n",
       " 9,\n",
       " 16,\n",
       " 25,\n",
       " 36,\n",
       " 49,\n",
       " 64,\n",
       " 81,\n",
       " 100,\n",
       " 121,\n",
       " 144,\n",
       " 169,\n",
       " 196,\n",
       " 225,\n",
       " 256,\n",
       " 289,\n",
       " 324,\n",
       " 361,\n",
       " 400]"
      ]
     },
     "execution_count": 60,
     "metadata": {},
     "output_type": "execute_result"
    }
   ],
   "source": [
    "[value for value in d.values()]"
   ]
  },
  {
   "cell_type": "markdown",
   "id": "cc54cac1",
   "metadata": {},
   "source": [
    "Bài 27: Định nghĩa một hàm có thể tạo ra một dictionary chứa key là những số từ 1\n",
    "đến 20 (bao gồm cả 1 và 20) và các giá trị bình phương của key. Hàm chỉ cần in các\n",
    "key."
   ]
  },
  {
   "cell_type": "code",
   "execution_count": 61,
   "id": "50d7766a",
   "metadata": {},
   "outputs": [
    {
     "data": {
      "text/plain": [
       "[1, 2, 3, 4, 5, 6, 7, 8, 9, 10, 11, 12, 13, 14, 15, 16, 17, 18, 19, 20]"
      ]
     },
     "execution_count": 61,
     "metadata": {},
     "output_type": "execute_result"
    }
   ],
   "source": [
    "[key for key in d.keys()]"
   ]
  },
  {
   "cell_type": "markdown",
   "id": "982cce84",
   "metadata": {},
   "source": [
    "Bài 28: Định nghĩa một hàm có thể tạo và in list chứa các giá trị bình phương của\n",
    "các số từ 1 đến 20 (tính cả 1 và 20)."
   ]
  },
  {
   "cell_type": "code",
   "execution_count": 62,
   "id": "84ff10c5",
   "metadata": {},
   "outputs": [],
   "source": [
    "def printList():\n",
    "    lst=[]\n",
    "    for i in range(1,21):\n",
    "        lst.append(i**2)\n",
    "    return lst"
   ]
  },
  {
   "cell_type": "code",
   "execution_count": 71,
   "id": "3d7d822e",
   "metadata": {},
   "outputs": [
    {
     "name": "stdout",
     "output_type": "stream",
     "text": [
      "[1, 4, 9, 16, 25, 36, 49, 64, 81, 100, 121, 144, 169, 196, 225, 256, 289, 324, 361, 400]\n"
     ]
    }
   ],
   "source": [
    "print(printList())"
   ]
  },
  {
   "cell_type": "markdown",
   "id": "93f6379a",
   "metadata": {},
   "source": [
    "Bài 29: Định nghĩa một hàm có thể tạo list chứa các giá trị bình phương của các số\n",
    "từ 1 đến 20 (bao gồm cả 1 và 20) và in 5 mục đầu tiên trong list."
   ]
  },
  {
   "cell_type": "code",
   "execution_count": 76,
   "id": "41530aee",
   "metadata": {},
   "outputs": [
    {
     "data": {
      "text/plain": [
       "[1, 4, 9, 16, 25]"
      ]
     },
     "execution_count": 76,
     "metadata": {},
     "output_type": "execute_result"
    }
   ],
   "source": [
    "lst = printList()\n",
    "lst[:5]"
   ]
  },
  {
   "cell_type": "markdown",
   "id": "2adb3ba6",
   "metadata": {},
   "source": [
    "Bài 30: Định nghĩa một hàm có thể tạo ra list chứa các giá trị bình phương của các\n",
    "số từ 1 đến 20 (bao gồm cả 1 và 20), rồi in 5 mục cuối cùng trong list."
   ]
  },
  {
   "cell_type": "code",
   "execution_count": 80,
   "id": "5aca5cd6",
   "metadata": {},
   "outputs": [
    {
     "data": {
      "text/plain": [
       "[256, 289, 324, 361, 400]"
      ]
     },
     "execution_count": 80,
     "metadata": {},
     "output_type": "execute_result"
    }
   ],
   "source": [
    "lst = printList()\n",
    "lst[-5:]"
   ]
  },
  {
   "cell_type": "code",
   "execution_count": 70,
   "id": "65ff4d42",
   "metadata": {},
   "outputs": [],
   "source": [
    "## Tuple()"
   ]
  },
  {
   "cell_type": "code",
   "execution_count": null,
   "id": "1771c9f8",
   "metadata": {},
   "outputs": [],
   "source": []
  },
  {
   "attachments": {
    "image.png": {
     "image/png": "[encoded data removed]"
    }
   },
   "cell_type": "markdown",
   "id": "055ee5e6",
   "metadata": {},
   "source": [
    "Bài 31: Viết chương trình chấp nhận một chuỗi số, phân tách bằng dấu phẩy từ giao\n",
    "diện điều khiển, tạo ra một danh sách và một tuple chứa mọi số.\n",
    "Ví dụ: Đầu vào được cung cấp là 34,67,55,33,12,98 thì đầu ra là:\n",
    "\n",
    "![image.png](attachment:image.png)"
   ]
  },
  {
   "cell_type": "code",
   "execution_count": 103,
   "id": "088de36c",
   "metadata": {},
   "outputs": [
    {
     "name": "stdout",
     "output_type": "stream",
     "text": [
      "Nhập vào chuỗi số: 32, 23\n",
      "[['32', ' 23']]\n"
     ]
    }
   ],
   "source": [
    "str = input('Nhập vào chuỗi số: ')\n",
    "def chuoiso(str):\n",
    "    lst_cs = []\n",
    "    lst_cs.append(str.split(','))\n",
    "    return lst_cs\n",
    "print(chuoiso(str))\n",
    "\n",
    "# 34,67,55,33,12,98"
   ]
  },
  {
   "cell_type": "code",
   "execution_count": 104,
   "id": "ac693306",
   "metadata": {},
   "outputs": [
    {
     "name": "stdout",
     "output_type": "stream",
     "text": [
      "Nhập vào các giá trị: 34,67,55,33,12,98\n",
      "['34', '67', '55', '33', '12', '98']\n",
      "('34', '67', '55', '33', '12', '98')\n"
     ]
    }
   ],
   "source": [
    "values=input(\"Nhập vào các giá trị: \")\n",
    "l=values.split(\",\")\n",
    "t=tuple(l)\n",
    "print (l)\n",
    "print (t)"
   ]
  },
  {
   "cell_type": "markdown",
   "id": "3c2e5f96",
   "metadata": {},
   "source": [
    "Bài 32: Với số nguyên n nhất định, hãy viết chương trình để tạo ra một dictionary\n",
    "chứa (i, i*i) như là số nguyên từ 1 đến n (bao gồm cả 1 và n) sau đó in ra dictionary\n",
    "này. Ví dụ: Giả sử số n là 8 thì đầu ra sẽ là: {1: 1, 2: 4, 3: 9, 4: 16, 5: 25, 6: 36, 7:\n",
    "49, 8: 64}."
   ]
  },
  {
   "cell_type": "code",
   "execution_count": 8,
   "id": "608f9fa3",
   "metadata": {},
   "outputs": [],
   "source": [
    "d_32=dict()\n",
    "def printDict_32(n):\n",
    "    for i in range(1,n+1):\n",
    "        d_32[i]=i**2\n",
    "    return d_32"
   ]
  },
  {
   "cell_type": "code",
   "execution_count": 9,
   "id": "62f750c4",
   "metadata": {},
   "outputs": [
    {
     "data": {
      "text/plain": [
       "{1: 1, 2: 4, 3: 9, 4: 16, 5: 25, 6: 36, 7: 49, 8: 64, 9: 81, 10: 100}"
      ]
     },
     "execution_count": 9,
     "metadata": {},
     "output_type": "execute_result"
    }
   ],
   "source": [
    "printDict_32(10)"
   ]
  },
  {
   "cell_type": "code",
   "execution_count": 10,
   "id": "b3f44fc9",
   "metadata": {},
   "outputs": [
    {
     "name": "stdout",
     "output_type": "stream",
     "text": [
      "0 1\n",
      "1 2\n",
      "2 3\n",
      "3 4\n",
      "4 5\n",
      "5 6\n",
      "6 7\n",
      "7 8\n",
      "8 9\n",
      "9 10\n"
     ]
    }
   ],
   "source": [
    "for key, value in enumerate(d_32):\n",
    "    print(key, value)"
   ]
  },
  {
   "cell_type": "code",
   "execution_count": 11,
   "id": "c16ee1b3",
   "metadata": {},
   "outputs": [
    {
     "name": "stdout",
     "output_type": "stream",
     "text": [
      "nhap n= 10\n",
      "{1: 1, 2: 4, 3: 9, 4: 16, 5: 25, 6: 36, 7: 49, 8: 64, 9: 81, 10: 100}\n"
     ]
    }
   ],
   "source": [
    "def printDict(n):\n",
    "    d=dict() \n",
    "    for i in range(1,n+1): \n",
    "       d[i]=i**2 \n",
    "    print (d) \n",
    "n=int(input(\"nhap n= \"))\n",
    "printDict(n)\n"
   ]
  },
  {
   "cell_type": "code",
   "execution_count": null,
   "id": "5f69038c",
   "metadata": {},
   "outputs": [],
   "source": []
  }
 ],
 "metadata": {
  "kernelspec": {
   "display_name": "Python 3 (ipykernel)",
   "language": "python",
   "name": "python3"
  },
  "language_info": {
   "codemirror_mode": {
    "name": "ipython",
    "version": 3
   },
   "file_extension": ".py",
   "mimetype": "text/x-python",
   "name": "python",
   "nbconvert_exporter": "python",
   "pygments_lexer": "ipython3",
   "version": "3.9.12"
  }
 },
 "nbformat": 4,
 "nbformat_minor": 5
}
