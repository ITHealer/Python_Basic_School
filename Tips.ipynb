{
 "cells": [
  {
   "cell_type": "markdown",
   "id": "d2533d16",
   "metadata": {},
   "source": [
    "## 1. Ánh xạ danh sách bằng lambdas\n",
    "Đây là một dạng code phổ biến, nhưng cũng có nhiều tranh cãi xung quanh nó. Đoạn code 1 dòng này cho phép bạn lặp qua nội dung của danh sách và triển khai thao tác trên mỗi phần tử riêng lẻ bên trong danh sách. Danh sách có thể được thay thế tại chỗ, tạo phiên bản được chỉnh sửa mà không cần dùng vòng lặp for hoặc while cơ bản.\n",
    "\n",
    "Ví dụ ánh xạ qua 1 danh sách chuỗi và thêm cụm từ “_suffix” vào cuối mỗi phần tử chuỗi:"
   ]
  },
  {
   "cell_type": "code",
   "execution_count": 2,
   "id": "df5c867a",
   "metadata": {},
   "outputs": [
    {
     "data": {
      "text/plain": [
       "['one_suffix', 'two_suffix', 'three_suffix']"
      ]
     },
     "execution_count": 2,
     "metadata": {},
     "output_type": "execute_result"
    }
   ],
   "source": [
    "original_list = ['one', 'two', 'three']\n",
    "new_list = list(map(lambda x: str(x) + '_suffix', original_list))\n",
    "new_list"
   ]
  },
  {
   "cell_type": "markdown",
   "id": "5971cf5b",
   "metadata": {},
   "source": [
    "Công dụng của phương thức này là một vấn đề gây tranh cãi bởi với biểu thức lambda lớn hơn, code trở nên khó đọc hơn so với việc nhập nhiều dòng code của vòng lặp loop truyền thống. Hàm lambda có thể khiến code trở nên lộn xộn và khiến bạn hiểu sai mục đích của code. Chúng ta không nên sử dụng hàm này cho các phép toán danh sách phức tạp, nhưng nếu dùng trong trường hợp thích hợp thì code sẽ ngắn gọn hơn nhiều."
   ]
  },
  {
   "cell_type": "markdown",
   "id": "7ea6f3d5",
   "metadata": {},
   "source": [
    "## 2. Kiểm tra xem chuỗi có nằm trong 1 danh sách chuỗi không"
   ]
  },
  {
   "cell_type": "markdown",
   "id": "fe582c07",
   "metadata": {},
   "source": [
    "Việc biết được một thành phần nào đó có thuộc mục bất kỳ của danh sách hay không là một điều vô cùng cần thiết. Thường được dùng để xác định vị trí của số hiệu phiên bản hoặc tìm một tên cụ thể trong danh sách tên.\n",
    "\n",
    "Bắt đầu với ví dụ tìm tên. Cho danh sách tên như sau:"
   ]
  },
  {
   "cell_type": "code",
   "execution_count": 4,
   "id": "4e167e3b",
   "metadata": {},
   "outputs": [],
   "source": [
    "name_list = ['Kathy Bates', 'George Clooney', 'Will Smith']"
   ]
  },
  {
   "cell_type": "code",
   "execution_count": 5,
   "id": "b56b34f7",
   "metadata": {},
   "outputs": [
    {
     "data": {
      "text/plain": [
       "True"
      ]
     },
     "execution_count": 5,
     "metadata": {},
     "output_type": "execute_result"
    }
   ],
   "source": [
    "any('George' in name for name in name_list)"
   ]
  },
  {
   "cell_type": "markdown",
   "id": "60199778",
   "metadata": {},
   "source": [
    "## 3. Phép gán destructuring chọn lọc"
   ]
  },
  {
   "cell_type": "code",
   "execution_count": 6,
   "id": "21f6cf05",
   "metadata": {},
   "outputs": [],
   "source": [
    "person = ['bob', 'smith', 39, 'professor']"
   ]
  },
  {
   "cell_type": "code",
   "execution_count": 7,
   "id": "3268ad21",
   "metadata": {},
   "outputs": [],
   "source": [
    "first_name, *_, profession = person"
   ]
  },
  {
   "cell_type": "code",
   "execution_count": 8,
   "id": "8a51447d",
   "metadata": {},
   "outputs": [
    {
     "name": "stdout",
     "output_type": "stream",
     "text": [
      "bob\n",
      "professor\n"
     ]
    }
   ],
   "source": [
    "print(first_name)\n",
    "print(profession)"
   ]
  },
  {
   "cell_type": "markdown",
   "id": "4a06f8cf",
   "metadata": {},
   "source": [
    "## 4. Lọc ra các phần tử duy nhất từ danh sách"
   ]
  },
  {
   "cell_type": "code",
   "execution_count": 9,
   "id": "e25a2470",
   "metadata": {},
   "outputs": [],
   "source": [
    "my_numbers = [1, 2, 3, 4, 4, 5, 6, 6, 7, 8]"
   ]
  },
  {
   "cell_type": "code",
   "execution_count": 10,
   "id": "c0153da6",
   "metadata": {},
   "outputs": [],
   "source": [
    "unique_list = list(set(my_numbers))"
   ]
  },
  {
   "cell_type": "code",
   "execution_count": 11,
   "id": "8072be08",
   "metadata": {},
   "outputs": [
    {
     "name": "stdout",
     "output_type": "stream",
     "text": [
      "[1, 2, 3, 4, 5, 6, 7, 8]\n"
     ]
    }
   ],
   "source": [
    "print(unique_list)"
   ]
  },
  {
   "cell_type": "code",
   "execution_count": null,
   "id": "e8470da0",
   "metadata": {},
   "outputs": [],
   "source": []
  }
 ],
 "metadata": {
  "kernelspec": {
   "display_name": "Python 3 (ipykernel)",
   "language": "python",
   "name": "python3"
  },
  "language_info": {
   "codemirror_mode": {
    "name": "ipython",
    "version": 3
   },
   "file_extension": ".py",
   "mimetype": "text/x-python",
   "name": "python",
   "nbconvert_exporter": "python",
   "pygments_lexer": "ipython3",
   "version": "3.9.12"
  }
 },
 "nbformat": 4,
 "nbformat_minor": 5
}
