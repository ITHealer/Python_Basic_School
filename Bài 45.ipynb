{
 "cells": [
  {
   "attachments": {
    "image.png": {
     "image/png": "[encoded data removed]"
    }
   },
   "cell_type": "markdown",
   "id": "d2f222a1",
   "metadata": {},
   "source": [
    "### Bài 45: Cho bảng dữ liệu về giá vàng trong tháng như sau:\n",
    "![image.png](attachment:image.png)\n",
    "\n",
    "Hãy viết chương trình lưu trữ dữ liệu dưới dạng file CSV."
   ]
  },
  {
   "cell_type": "code",
   "execution_count": 6,
   "id": "c30a6f5c",
   "metadata": {},
   "outputs": [],
   "source": [
    "# import library"
   ]
  },
  {
   "cell_type": "code",
   "execution_count": 3,
   "id": "6b4a6b95",
   "metadata": {},
   "outputs": [],
   "source": [
    "import pandas as pd"
   ]
  },
  {
   "cell_type": "code",
   "execution_count": 7,
   "id": "4062c0cc",
   "metadata": {},
   "outputs": [],
   "source": [
    "# data"
   ]
  },
  {
   "cell_type": "code",
   "execution_count": 1,
   "id": "691db8e2",
   "metadata": {},
   "outputs": [],
   "source": [
    "date = ['1/3', '2/3', '3/3', '4/3', '5/3', '6/3', '7/3']\n",
    "gold_out = [46, 47, 46, 45, 46, 46, 45]\n",
    "gold_in = [45, 46, 45.5, 44.5, 45, 45.5, 44.5]"
   ]
  },
  {
   "cell_type": "code",
   "execution_count": 8,
   "id": "728e47db",
   "metadata": {},
   "outputs": [],
   "source": [
    "# nén"
   ]
  },
  {
   "cell_type": "code",
   "execution_count": 2,
   "id": "72ae74ea",
   "metadata": {},
   "outputs": [],
   "source": [
    "DS = zip(date, gold_out, gold_in)"
   ]
  },
  {
   "cell_type": "code",
   "execution_count": 9,
   "id": "47e8e1b4",
   "metadata": {},
   "outputs": [],
   "source": [
    "# save"
   ]
  },
  {
   "cell_type": "code",
   "execution_count": 4,
   "id": "ec71ad06",
   "metadata": {},
   "outputs": [],
   "source": [
    "data = pd.DataFrame(data = DS, columns=['date', 'gold_out', 'gold_in'])\n",
    "data.to_csv('bai45.csv', index=False, header=True)"
   ]
  },
  {
   "cell_type": "code",
   "execution_count": 10,
   "id": "990984d2",
   "metadata": {},
   "outputs": [],
   "source": [
    "# load data"
   ]
  },
  {
   "cell_type": "code",
   "execution_count": 5,
   "id": "74280cc6",
   "metadata": {},
   "outputs": [
    {
     "data": {
      "text/html": [
       "<div>\n",
       "<style scoped>\n",
       "    .dataframe tbody tr th:only-of-type {\n",
       "        vertical-align: middle;\n",
       "    }\n",
       "\n",
       "    .dataframe tbody tr th {\n",
       "        vertical-align: top;\n",
       "    }\n",
       "\n",
       "    .dataframe thead th {\n",
       "        text-align: right;\n",
       "    }\n",
       "</style>\n",
       "<table border=\"1\" class=\"dataframe\">\n",
       "  <thead>\n",
       "    <tr style=\"text-align: right;\">\n",
       "      <th></th>\n",
       "      <th>date</th>\n",
       "      <th>gold_out</th>\n",
       "      <th>gold_in</th>\n",
       "    </tr>\n",
       "  </thead>\n",
       "  <tbody>\n",
       "    <tr>\n",
       "      <th>0</th>\n",
       "      <td>1/3</td>\n",
       "      <td>46</td>\n",
       "      <td>45.0</td>\n",
       "    </tr>\n",
       "    <tr>\n",
       "      <th>1</th>\n",
       "      <td>2/3</td>\n",
       "      <td>47</td>\n",
       "      <td>46.0</td>\n",
       "    </tr>\n",
       "    <tr>\n",
       "      <th>2</th>\n",
       "      <td>3/3</td>\n",
       "      <td>46</td>\n",
       "      <td>45.5</td>\n",
       "    </tr>\n",
       "    <tr>\n",
       "      <th>3</th>\n",
       "      <td>4/3</td>\n",
       "      <td>45</td>\n",
       "      <td>44.5</td>\n",
       "    </tr>\n",
       "    <tr>\n",
       "      <th>4</th>\n",
       "      <td>5/3</td>\n",
       "      <td>46</td>\n",
       "      <td>45.0</td>\n",
       "    </tr>\n",
       "    <tr>\n",
       "      <th>5</th>\n",
       "      <td>6/3</td>\n",
       "      <td>46</td>\n",
       "      <td>45.5</td>\n",
       "    </tr>\n",
       "    <tr>\n",
       "      <th>6</th>\n",
       "      <td>7/3</td>\n",
       "      <td>45</td>\n",
       "      <td>44.5</td>\n",
       "    </tr>\n",
       "  </tbody>\n",
       "</table>\n",
       "</div>"
      ],
      "text/plain": [
       "  date  gold_out  gold_in\n",
       "0  1/3        46     45.0\n",
       "1  2/3        47     46.0\n",
       "2  3/3        46     45.5\n",
       "3  4/3        45     44.5\n",
       "4  5/3        46     45.0\n",
       "5  6/3        46     45.5\n",
       "6  7/3        45     44.5"
      ]
     },
     "execution_count": 5,
     "metadata": {},
     "output_type": "execute_result"
    }
   ],
   "source": [
    "df = pd.read_csv('bai45.csv')\n",
    "df"
   ]
  },
  {
   "cell_type": "code",
   "execution_count": null,
   "id": "470a9c65",
   "metadata": {},
   "outputs": [],
   "source": []
  }
 ],
 "metadata": {
  "kernelspec": {
   "display_name": "Python 3 (ipykernel)",
   "language": "python",
   "name": "python3"
  },
  "language_info": {
   "codemirror_mode": {
    "name": "ipython",
    "version": 3
   },
   "file_extension": ".py",
   "mimetype": "text/x-python",
   "name": "python",
   "nbconvert_exporter": "python",
   "pygments_lexer": "ipython3",
   "version": "3.9.12"
  }
 },
 "nbformat": 4,
 "nbformat_minor": 5
}
