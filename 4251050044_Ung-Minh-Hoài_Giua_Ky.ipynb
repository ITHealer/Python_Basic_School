{
 "cells": [
  {
   "cell_type": "markdown",
   "id": "31e35be6",
   "metadata": {},
   "source": [
    "# <p style=\"background-color:skyblue; font-family:newtimeroman; font-size:250%; text-align:center; border-radius: 15px 50px;\">Python 📝</p>"
   ]
  },
  {
   "cell_type": "markdown",
   "id": "db628391",
   "metadata": {},
   "source": [
    "<p style=\"text-align:center\">\n",
    "    <a href=\"https://github.com/ITHealer?tab=repositories\" target=\"_blank\">\n",
    "    <img src=\"avatar_healer.jpg\" width=\"200\" alt=\"Logo link github\"  />\n",
    "    </a>\n",
    "    <b>4251050044 - Ung Minh Hoài</b> <br>\n",
    "</p>"
   ]
  },
  {
   "cell_type": "markdown",
   "id": "d4e039c5",
   "metadata": {},
   "source": [
    "---\n",
    "# Bài 2.2.1\n",
    "## 1. Yêu cầu: Chỉ ra cho người du lịch hành trình với chi phí là ít nhất?\n",
    "\n",
    "**Input:**\n",
    "* Dòng đầu chứa số n (1≤n≤20) là số thành phố. \n",
    "* n dòng tiếp theo, mỗi dòng chứa n số mô tả mảng C.\n",
    "\n",
    "**Output:**\n",
    "* Dòng đầu tiên ghi chi phí ít̉ nhất.\n",
    "* Dòng thứ hai mô tả hành trình."
   ]
  },
  {
   "attachments": {
    "image.png": {
     "image/png": "[encoded data removed]"
    }
   },
   "cell_type": "markdown",
   "id": "b7b194fa",
   "metadata": {},
   "source": [
    "![image.png](attachment:image.png)"
   ]
  },
  {
   "cell_type": "markdown",
   "id": "fde8c97e",
   "metadata": {},
   "source": [
    "## 2. Code:"
   ]
  },
  {
   "cell_type": "markdown",
   "id": "2ba08639",
   "metadata": {},
   "source": [
    "### Đọc file "
   ]
  },
  {
   "cell_type": "code",
   "execution_count": 15,
   "id": "aca71508",
   "metadata": {},
   "outputs": [],
   "source": [
    "a = []\n",
    "def read_file():\n",
    "    with open('TSPinp.txt', 'r') as f:\n",
    "        for i in f :\n",
    "            data = i.split()\n",
    "            temp_row = []\n",
    "            for j in data :\n",
    "                temp = int(j)\n",
    "                temp_row.append(temp)\n",
    "            a.append(temp_row)\n",
    "        f.seek(0)"
   ]
  },
  {
   "cell_type": "code",
   "execution_count": 5,
   "id": "ad47ae8b",
   "metadata": {},
   "outputs": [
    {
     "data": {
      "text/plain": [
       "[[4], [0, 20, 35, 42], [20, 0, 34, 30], [35, 34, 0, 12], [42, 30, 12, 0]]"
      ]
     },
     "execution_count": 5,
     "metadata": {},
     "output_type": "execute_result"
    }
   ],
   "source": [
    "a"
   ]
  },
  {
   "cell_type": "code",
   "execution_count": 16,
   "id": "1afc6dc9",
   "metadata": {},
   "outputs": [
    {
     "name": "stdout",
     "output_type": "stream",
     "text": [
      "Chi phí ít nhất là:  97\n",
      "Hành trình:  0 1 3 2 0 "
     ]
    }
   ],
   "source": [
    "import math\n",
    "maxsize = float('inf')\n",
    "\n",
    "# Func sao chép tạm thời\n",
    "def copyToFinal(curr_path):\n",
    "    final_path[:N + 1] = curr_path[:]\n",
    "    final_path[N] = curr_path[0]\n",
    "\n",
    "# Func tìm chi phí cạnh nhỏ nhất\n",
    "def firstMin(graph, i):\n",
    "    min = maxsize\n",
    "    for k in range(N):\n",
    "        if graph[i][k] < min and i != k:\n",
    "            min = graph[i][k]\n",
    "    return min\n",
    "\n",
    "# Func tìm chi phí cạnh nhỏ thứ hai\n",
    "def secondMin(graph, i):\n",
    "    first, second = maxsize, maxsize\n",
    "    for j in range(N):\n",
    "        if i == j:\n",
    "            continue\n",
    "        if graph[i][j] <= first:\n",
    "            second = first\n",
    "            first = graph[i][j]\n",
    "        elif(graph[i][j] <= second and\n",
    "            graph[i][j] != first):\n",
    "            second = graph[i][j]\n",
    "    return second\n",
    "\n",
    "# curr_bound: cận dưới của nút gốc\n",
    "# curr_weight: lưu trọng số của đường dẫn hiện tại\n",
    "# level: level hiện tại khi đang di chuyển trong cây không gian tìm kiếm\n",
    "# curr_path[]: lưu hành trình mà sau này sẽ được sao chép vào final_path[]\n",
    "def TSPRec(graph, curr_bound, curr_weight, level, curr_path, visited):\n",
    "    global final_res\n",
    "\n",
    "    # level == N: đã đi qua tất cả các nút một lần\n",
    "    if level == N:\n",
    "        # kiểm tra xem có cạnh nào từ đỉnh cuối cùng trong đường dẫn trở lại đỉnh đầu tiên\n",
    "        if graph[curr_path[level - 1]][curr_path[0]] != 0:\n",
    "            # curr_res: tổng trọng số\n",
    "            curr_res = curr_weight + graph[curr_path[level - 1]]\\\n",
    "                                        [curr_path[0]]\n",
    "            if curr_res < final_res:\n",
    "                copyToFinal(curr_path)\n",
    "                final_res = curr_res\n",
    "        return\n",
    "\n",
    "    # Lặp qua các đỉnh\n",
    "    for i in range(N):\n",
    "        if (graph[curr_path[level-1]][i] != 0 and visited[i] == False):\n",
    "            temp = curr_bound\n",
    "            curr_weight += graph[curr_path[level - 1]][i]\n",
    "\n",
    "            if level == 1:\n",
    "                curr_bound -= ((firstMin(graph, curr_path[level - 1]) + firstMin(graph, i)) / 2)\n",
    "            else:\n",
    "                curr_bound -= ((secondMin(graph, curr_path[level - 1]) + firstMin(graph, i)) / 2)\n",
    "\n",
    "            # curr_bound + curr_weight: là cận dưới thực tế cho nút mà chúng ta đã đến.\n",
    "            if curr_bound + curr_weight < final_res:\n",
    "                curr_path[level] = i\n",
    "                visited[i] = True\n",
    "                \n",
    "                # gọi TSPRec cho level tiếp theo\n",
    "                TSPRec(graph, curr_bound, curr_weight, level + 1, curr_path, visited)\n",
    "\n",
    "            # Nếu không, chúng ta phải cắt bớt nút bằng cách đặt lại tất cả thay đổi đối với curr_weight và curr_bound\n",
    "            curr_weight -= graph[curr_path[level - 1]][i]\n",
    "            curr_bound = temp\n",
    "\n",
    "            # Cũng đặt lại mảng đã truy cập\n",
    "            visited = [False] * len(visited)\n",
    "            for j in range(level):\n",
    "                if curr_path[j] != -1:\n",
    "                    visited[curr_path[j]] = True\n",
    "\n",
    "# Func thiết lập final_path\n",
    "def TSP(graph):\n",
    " \n",
    "    # Khởi tạo các curr_path và mảng đã truy cập\n",
    "    curr_bound = 0\n",
    "    curr_path = [-1] * (N + 1)\n",
    "    visited = [False] * N\n",
    "\n",
    "    # Tính toán giới hạn ban đầu\n",
    "    for i in range(N):\n",
    "        curr_bound += (firstMin(graph, i) + secondMin(graph, i))\n",
    "\n",
    "    # Làm tròn cận dưới thành số nguyên\n",
    "    curr_bound = math.ceil(curr_bound / 2)\n",
    "\n",
    "    # Bắt đầu từ đỉnh 1 nên đỉnh đầu tiên trong curr_path[] là 0\n",
    "    visited[0] = True\n",
    "    curr_path[0] = 0\n",
    "\n",
    "    # Gọi đến TSPRec cho curr_weight bằng 0 và cấp 1\n",
    "    TSPRec(graph, curr_bound, 0, 1, curr_path, visited)\n",
    "\n",
    "if __name__ == '__main__':\n",
    "\n",
    "    # gọi hàm đọc file \n",
    "    read_file()\n",
    "    \n",
    "    # Số thành phố \n",
    "    N = a[0][0]\n",
    "    \n",
    "    # mảng đầu vào\n",
    "    graph = a[1:]\n",
    "    \n",
    "    # final_path[] mô tả hành trình\n",
    "    final_path = [None] * (N + 1)\n",
    "\n",
    "    visited = [False] * N\n",
    "\n",
    "    final_res = maxsize\n",
    "\n",
    "    TSP(graph)\n",
    "\n",
    "    # hiển thị kết quả\n",
    "    print(\"Chi phí ít nhất là: \", final_res)\n",
    "    print(\"Hành trình: \", end = ' ')\n",
    "    for i in range(N + 1):\n",
    "        print(final_path[i], end = ' ')"
   ]
  },
  {
   "cell_type": "markdown",
   "id": "5d99baa6",
   "metadata": {},
   "source": [
    "### Ghi file"
   ]
  },
  {
   "cell_type": "code",
   "execution_count": 18,
   "id": "5583552a",
   "metadata": {},
   "outputs": [],
   "source": [
    "def write_file():\n",
    "    # Ghi vào file txt\n",
    "    with open('TSPout.txt', 'w') as wf:\n",
    "        wf.write(str(final_res) + '\\n')\n",
    "        path = \"\"\n",
    "        for i in range(N + 1):\n",
    "            path = path + str(final_path[i]) + ' '\n",
    "        wf.write(path)"
   ]
  },
  {
   "cell_type": "code",
   "execution_count": 19,
   "id": "45bc8377",
   "metadata": {},
   "outputs": [],
   "source": [
    "write_file()"
   ]
  },
  {
   "attachments": {
    "image.png": {
     "image/png": "[encoded data removed]"
    }
   },
   "cell_type": "markdown",
   "id": "252b91d1",
   "metadata": {},
   "source": [
    "![image.png](attachment:image.png)"
   ]
  },
  {
   "cell_type": "markdown",
   "id": "8d62649a",
   "metadata": {},
   "source": [
    "# END"
   ]
  },
  {
   "cell_type": "code",
   "execution_count": 20,
   "id": "27403bc8",
   "metadata": {},
   "outputs": [
    {
     "name": "stdout",
     "output_type": "stream",
     "text": [
      "97\n"
     ]
    }
   ],
   "source": [
    "# Nháp\n",
    "# V = 4\n",
    "# answer = []\n",
    "\n",
    "# # Hàm tìm đường đi có trọng số thấp nhất\n",
    "# def tsp(graph, v, currPos, n, count, cost):\n",
    "#     if (count == n and graph[currPos][0]):\n",
    "#         answer.append(cost + graph[currPos][0])\n",
    "#         return\n",
    "\n",
    "#     for i in range(n):\n",
    "#         if (v[i] == False and graph[currPos][i]):\n",
    "#             # Đánh dấu là đã truy cập\n",
    "#             v[i] = True\n",
    "#             tsp(graph, v, i, n, count + 1,\n",
    "#                 cost + graph[currPos][i])\n",
    "#             # Đánh dấu nút thứ i là chưa được thăm\n",
    "#             v[i] = False\n",
    "\n",
    "# if __name__ == '__main__':\n",
    "#     n = 4 # số node\n",
    "    \n",
    "#     graph= [[ 0, 20, 35, 42 ],\n",
    "#             [ 20, 0, 34, 30 ],\n",
    "#             [ 35, 34, 0, 12 ],\n",
    "#             [ 42, 30, 12, 0 ]]\n",
    "\n",
    "#     # Mảng Boolean để kiểm tra xem một nút đã được truy cập hay chưa\n",
    "#     v = [False for i in range(n)]\n",
    "\n",
    "#     v[0] = True\n",
    "\n",
    "#     # Find the minimum weight Hamiltonian Cycle\n",
    "#     tsp(graph, v, 0, n, 1, 0)\n",
    "\n",
    "#     print(min(answer))\n"
   ]
  }
 ],
 "metadata": {
  "kernelspec": {
   "display_name": "Python 3 (ipykernel)",
   "language": "python",
   "name": "python3"
  },
  "language_info": {
   "codemirror_mode": {
    "name": "ipython",
    "version": 3
   },
   "file_extension": ".py",
   "mimetype": "text/x-python",
   "name": "python",
   "nbconvert_exporter": "python",
   "pygments_lexer": "ipython3",
   "version": "3.9.12"
  }
 },
 "nbformat": 4,
 "nbformat_minor": 5
}
