{
 "cells": [
  {
   "cell_type": "markdown",
   "id": "01733d01",
   "metadata": {},
   "source": [
    "# Bài 41: Cho mảng một chiều A bất kì, hiển thị lên màn hình các yêu cầu sau:\n",
    "-\tĐếm các số chính phương có trong mảng\n",
    "-\tĐếm số lượng số nguyên tố có trong mảng\n",
    "-\tTính tổng và trung bình cộng các phần tử trong mảng\n",
    "-\tSắp xếp mảng theo thứ tự giảm dần\n"
   ]
  },
  {
   "cell_type": "code",
   "execution_count": 2,
   "id": "7885bc64",
   "metadata": {},
   "outputs": [
    {
     "name": "stdout",
     "output_type": "stream",
     "text": [
      "[ 2 10  1 16  8  9 20 21 25]\n",
      "4\n"
     ]
    }
   ],
   "source": [
    "#Hướng dẫn tìm số chính phương trong mảng\n",
    "import numpy as np\n",
    "import math\n",
    "def socp(n):\n",
    "    b=math.sqrt(n)\n",
    "    b=round(b)\n",
    "    if (b*b==n):\n",
    "        return True\n",
    "    else: return False\n",
    "A=np.array([2,10,1,16,8,9,20,21,25])\n",
    "print(A)\n",
    "d=0\n",
    "k=A.shape[0]\n",
    "for i in range(0,k):\n",
    "    if (socp(A[i])):\n",
    "        d=d+1\n",
    "print (d)\n"
   ]
  },
  {
   "cell_type": "code",
   "execution_count": 3,
   "id": "d651a789",
   "metadata": {},
   "outputs": [
    {
     "name": "stdout",
     "output_type": "stream",
     "text": [
      "nhập số phần tử n=2\n",
      "[2]\n",
      "[-1]\n"
     ]
    }
   ],
   "source": [
    "# Bài 40: Cho trước một số tự nhiên n. Tạo một mảng có n phần tử mà các phần tử có chỉ số chẵn (bắt đầu từ 0) là một cấp số cộng bắt đầu từ 2, công sai bằng -0.5; các phần tử có chỉ số lẻ bằng -1.\n",
    "# Ví dụ: Với n=4, kết quả trả về là mảng [ 2. -1. 1.5 -1. ]. Với n=5, kết quả trả về là mảng [ 2. -1. 1.5 -1. 1. ].\n",
    "# Code mẫu:\n",
    "n=int(input(\"nhập số phần tử n=\"))\n",
    "A[[0]]=2.0\n",
    "for i in range (1,n):\n",
    "    if (i%2==0):\n",
    "        A[[i]]=(A[[i-2]])-0.5\n",
    "    else: A[[i]]=-1\n",
    "for i in range (0,n):\n",
    "    print(A[[i]])\n"
   ]
  },
  {
   "cell_type": "code",
   "execution_count": null,
   "id": "9cb6cf26",
   "metadata": {},
   "outputs": [],
   "source": []
  }
 ],
 "metadata": {
  "kernelspec": {
   "display_name": "Python 3 (ipykernel)",
   "language": "python",
   "name": "python3"
  },
  "language_info": {
   "codemirror_mode": {
    "name": "ipython",
    "version": 3
   },
   "file_extension": ".py",
   "mimetype": "text/x-python",
   "name": "python",
   "nbconvert_exporter": "python",
   "pygments_lexer": "ipython3",
   "version": "3.9.12"
  }
 },
 "nbformat": 4,
 "nbformat_minor": 5
}
