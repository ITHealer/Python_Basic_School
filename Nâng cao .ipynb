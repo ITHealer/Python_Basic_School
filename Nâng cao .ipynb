{
 "cells": [
  {
   "cell_type": "markdown",
   "id": "626fb773",
   "metadata": {},
   "source": [
    "## Viết chương trình tìm tất cả các số chia hết cho 7 nhưng không phải bội số của 5, nằm trong đoạn 2000 và 3200 (tính cả 2000 và 3200). Các số thu được sẽ được in thành chuỗi trên một dòng, cách nhau bằng dấu phẩy."
   ]
  },
  {
   "cell_type": "code",
   "execution_count": 1,
   "id": "a1700691",
   "metadata": {},
   "outputs": [
    {
     "name": "stdout",
     "output_type": "stream",
     "text": [
      "2002,2009,2016,2023,2037,2044,2051,2058,2072,2079,2086,2093,2107,2114,2121,2128,2142,2149,2156,2163,2177,2184,2191,2198,2212,2219,2226,2233,2247,2254,2261,2268,2282,2289,2296,2303,2317,2324,2331,2338,2352,2359,2366,2373,2387,2394,2401,2408,2422,2429,2436,2443,2457,2464,2471,2478,2492,2499,2506,2513,2527,2534,2541,2548,2562,2569,2576,2583,2597,2604,2611,2618,2632,2639,2646,2653,2667,2674,2681,2688,2702,2709,2716,2723,2737,2744,2751,2758,2772,2779,2786,2793,2807,2814,2821,2828,2842,2849,2856,2863,2877,2884,2891,2898,2912,2919,2926,2933,2947,2954,2961,2968,2982,2989,2996,3003,3017,3024,3031,3038,3052,3059,3066,3073,3087,3094,3101,3108,3122,3129,3136,3143,3157,3164,3171,3178,3192,3199\n"
     ]
    }
   ],
   "source": [
    "j=[]\n",
    "for i in range(2000, 3201):\n",
    "    if (i%7==0) and (i%5!=0):\n",
    "        j.append(str(i))\n",
    "print (','.join(j))"
   ]
  },
  {
   "cell_type": "markdown",
   "id": "1e8b528a",
   "metadata": {},
   "source": [
    "## Viết một chương trình có thể tính giai thừa của một số cho trước. Kết quả được in thành chuỗi trên một dòng, phân tách bởi dấu phẩy. Ví dụ, số cho trước là 8 thì kết quả đầu ra phải là 40320"
   ]
  },
  {
   "cell_type": "code",
   "execution_count": 2,
   "id": "4a0f130a",
   "metadata": {},
   "outputs": [
    {
     "name": "stdout",
     "output_type": "stream",
     "text": [
      "Nhập số cần tính giai thừa:8\n",
      "40320\n"
     ]
    }
   ],
   "source": [
    "x=int(input(\"Nhập số cần tính giai thừa:\"))\n",
    "def fact(x):\n",
    "    if x == 0:\n",
    "        return 1\n",
    "    return x * fact(x - 1)\n",
    "print(fact(x))"
   ]
  },
  {
   "cell_type": "markdown",
   "id": "3fe37be4",
   "metadata": {},
   "source": [
    "## Với số nguyên n nhất định, hãy viết chương trình để tạo ra một dictionary chứa (i, i*i) như là số nguyên từ 1 đến n (bao gồm cả 1 và n) sau đó in ra dictionary này.\n",
    "\n",
    "Ví dụ: Giả sử số n là 8 thì đầu ra sẽ là: {1: 1, 2: 4, 3: 9, 4: 16, 5: 25, 6: 36, 7: 49, 8: 64}."
   ]
  },
  {
   "cell_type": "code",
   "execution_count": 3,
   "id": "18249ccf",
   "metadata": {},
   "outputs": [
    {
     "name": "stdout",
     "output_type": "stream",
     "text": [
      "{1: 1, 2: 4, 3: 9, 4: 16, 5: 25, 6: 36, 7: 49, 8: 64}\n"
     ]
    }
   ],
   "source": [
    "def printDict(n):\n",
    "    d = dict()\n",
    "    for i in range(1, n+1):\n",
    "        d[i] = i**2\n",
    "    print(d)\n",
    "    \n",
    "printDict(8)"
   ]
  },
  {
   "cell_type": "code",
   "execution_count": 6,
   "id": "4e842e55",
   "metadata": {},
   "outputs": [
    {
     "data": {
      "text/plain": [
       "[{1}, {2, 4}, {3, 9}, {4, 16}, {5, 25}, {6, 36}, {7, 49}, {8, 64}]"
      ]
     },
     "execution_count": 6,
     "metadata": {},
     "output_type": "execute_result"
    }
   ],
   "source": [
    "def printDict(n):\n",
    "    d = dict()\n",
    "    for i in range(1, n+1):\n",
    "        d[i] = i**2\n",
    "    return d\n",
    "[{key,value} for key, value in printDict(8).items()]"
   ]
  },
  {
   "cell_type": "markdown",
   "id": "efd6a3ab",
   "metadata": {},
   "source": [
    "## Tính tuổi dựa trên ngày tháng năm sinh nhập vào.\n",
    "\n",
    "Ví dụ: Nhập vào ngày tháng năm sinh dạng y/m/d, hãy tính tuổi của người này."
   ]
  },
  {
   "cell_type": "code",
   "execution_count": 8,
   "id": "7e88c183",
   "metadata": {},
   "outputs": [
    {
     "name": "stdout",
     "output_type": "stream",
     "text": [
      "Mời bạn vui lòng nhập ngày tháng năm sinh để tính tuổi\n",
      "Ngày sinh:29\n",
      "Tháng sinh:04\n",
      "Năm sinh:2001\n",
      "### Tuổi của bạn chính xác là:### \n",
      " 21  tuổi  8  tháng và  3  ngày\n"
     ]
    }
   ],
   "source": [
    "import datetime\n",
    "\n",
    "print(\"Mời bạn vui lòng nhập ngày tháng năm sinh để tính tuổi\")\n",
    "birth_day = int(input(\"Ngày sinh:\"))\n",
    "birth_month = int(input(\"Tháng sinh:\"))\n",
    "birth_year = int(input(\"Năm sinh:\"))\n",
    "\n",
    "current_year = datetime.date.today().year\n",
    "current_month = datetime.date.today().month\n",
    "current_day = datetime.date.today().day\n",
    "\n",
    "age_year = current_year - birth_year\n",
    "age_month = abs(current_month-birth_month)\n",
    "age_day = abs(current_day-birth_day)\n",
    "\n",
    "print(\"### Tuổi của bạn chính xác là:### \\n\", age_year, \" tuổi \", age_month, \" tháng và \", age_day, \" ngày\")"
   ]
  },
  {
   "cell_type": "code",
   "execution_count": 10,
   "id": "f44912d7",
   "metadata": {},
   "outputs": [
    {
     "name": "stdout",
     "output_type": "stream",
     "text": [
      "Nhập giá trị của d: 2,3\n",
      "3,3\n"
     ]
    }
   ],
   "source": [
    "import math\n",
    "c=50\n",
    "h=30\n",
    "value = []\n",
    "items=[x for x in input(\"Nhập giá trị của d: \").split(',')]\n",
    "for d in items:\n",
    "    value.append(str(int(round(math.sqrt(2*c*float(d)/h)))))\n",
    "\n",
    "print (','.join(value))"
   ]
  },
  {
   "cell_type": "markdown",
   "id": "d70d652b",
   "metadata": {},
   "source": [
    "### Viết một chương trình có 2 chữ số, X, Y nhận giá trị từ đầu vào và tạo ra một mảng 2 chiều. Giá trị phần tử trong hàng thứ i và cột thứ j của mảng phải là i*j.\n",
    "\n",
    "Lưu ý: i=0,1,...,X-1; j=0,1,...,Y-1.\n",
    "\n",
    "Ví dụ: Giá trị X, Y nhập vào là 3,5 thì đầu ra là: [[0, 0, 0, 0, 0], [0, 1, 2, 3, 4], [0, 2, 4, 6, 8]]"
   ]
  },
  {
   "cell_type": "code",
   "execution_count": 12,
   "id": "7fe9a1df",
   "metadata": {},
   "outputs": [
    {
     "name": "stdout",
     "output_type": "stream",
     "text": [
      "Nhập X, Y: 2,3\n",
      "[[0, 0, 0], [0, 1, 2]]\n"
     ]
    }
   ],
   "source": [
    "input_str = input(\"Nhập X, Y: \")\n",
    "dimensions=[int(x) for x in input_str.split(',')]\n",
    "rowNum=dimensions[0]\n",
    "colNum=dimensions[1]\n",
    "multilist = [[0 for col in range(colNum)] for row in range(rowNum)]\n",
    "\n",
    "for row in range(rowNum):\n",
    "    for col in range(colNum):\n",
    "        multilist[row][col]= row*col\n",
    "\n",
    "print (multilist)"
   ]
  },
  {
   "cell_type": "markdown",
   "id": "e525a851",
   "metadata": {},
   "source": [
    "## Viết một chương trình chấp nhận chuỗi từ do người dùng nhập vào, phân tách nhau bởi dấu phẩy và in những từ đó thành chuỗi theo thứ tự bảng chữ cái, phân tách nhau bằng dấu phẩy.\n",
    "\n",
    "Giả sử đầu vào được nhập là: without,hello,bag,world, thì đầu ra sẽ là: bag,hello,without,world"
   ]
  },
  {
   "cell_type": "code",
   "execution_count": 13,
   "id": "16701375",
   "metadata": {},
   "outputs": [
    {
     "name": "stdout",
     "output_type": "stream",
     "text": [
      "Nhập một chuỗi: anh, yeu, em\n",
      " em, yeu,anh\n"
     ]
    }
   ],
   "source": [
    "items=[x for x in input(\"Nhập một chuỗi: \").split(',')]\n",
    "items.sort()\n",
    "print (','.join(items))"
   ]
  },
  {
   "cell_type": "code",
   "execution_count": 14,
   "id": "5b437810",
   "metadata": {},
   "outputs": [
    {
     "name": "stdout",
     "output_type": "stream",
     "text": [
      "anh\n",
      "em\n",
      "\n",
      "ANH\n",
      "EM\n"
     ]
    }
   ],
   "source": [
    "lines = []\n",
    "while True:\n",
    "   s = input()\n",
    "   if s:\n",
    "      lines.append(s.upper())\n",
    "   else:\n",
    "      break;\n",
    "# Bài Python 12, Code by Quantrimang.com\n",
    "for sentence in lines:\n",
    "    print (sentence)"
   ]
  },
  {
   "cell_type": "markdown",
   "id": "4e9efa4b",
   "metadata": {},
   "source": [
    "## Viết một chương trình chấp nhận đầu vào là một chuỗi các từ tách biệt bởi khoảng trắng, loại bỏ các từ trùng lặp, sắp xếp theo thứ tự bảng chữ cái, rồi in chúng.\n",
    "\n",
    "Giả sử đầu vào là: hello world and practice makes perfect and hello world again\n",
    "\n",
    "Thì đầu ra là: again and hello makes perfect practice world"
   ]
  },
  {
   "cell_type": "code",
   "execution_count": 16,
   "id": "0d4d40d4",
   "metadata": {},
   "outputs": [
    {
     "name": "stdout",
     "output_type": "stream",
     "text": [
      "Nhập chuỗi của bạn: anh yeu em nhieu\n",
      "anh em nhieu yeu\n"
     ]
    }
   ],
   "source": [
    "s = input(\"Nhập chuỗi của bạn: \")\n",
    "words = [word for word in s.split(\" \")]\n",
    "print (\" \".join(sorted(list(set(words)))))"
   ]
  },
  {
   "cell_type": "markdown",
   "id": "ed561b2a",
   "metadata": {},
   "source": [
    "## Viết một chương trình chấp nhận đầu vào là chuỗi các số nhị phân 4 chữ số, phân tách bởi dấu phẩy, kiểm tra xem chúng có chia hết cho 5 không. Sau đó in các số chia hết cho 5 thành dãy phân tách bởi dấu phẩy.\n",
    "\n",
    "Ví dụ đầu vào là: 0100,0011,1010,1001\n",
    "\n",
    "Đầu ra sẽ là: 1010"
   ]
  },
  {
   "cell_type": "code",
   "execution_count": 19,
   "id": "b9305923",
   "metadata": {},
   "outputs": [
    {
     "name": "stdout",
     "output_type": "stream",
     "text": [
      "Nhập các số nhị phân: 1010,1100,1001\n",
      "1010\n"
     ]
    }
   ],
   "source": [
    "value = []\n",
    "items=[x for x in input(\"Nhập các số nhị phân: \").split(',')]\n",
    "for p in items:\n",
    "    intp = int(p, 2)\n",
    "    if not intp%5:\n",
    "        value.append(p)\n",
    "\n",
    "print(','.join(value))"
   ]
  },
  {
   "cell_type": "markdown",
   "id": "94b1c54c",
   "metadata": {},
   "source": [
    "## Viết một chương trình tìm tất cả các số trong đoạn 1000 và 3000 (tính cả 2 số này) sao cho tất cả các chữ số trong số đó là số chẵn. In các số tìm được thành chuỗi cách nhau bởi dấu phẩy, trên một dòng."
   ]
  },
  {
   "cell_type": "code",
   "execution_count": 23,
   "id": "0420fd39",
   "metadata": {},
   "outputs": [
    {
     "name": "stdout",
     "output_type": "stream",
     "text": [
      "2000,2002,2004,2006,2008,2020,2022,2024,2026,2028,2040,2042,2044,2046,2048,2060,2062,2064,2066,2068,2080,2082,2084,2086,2088,2200,2202,2204,2206,2208,2220,2222,2224,2226,2228,2240,2242,2244,2246,2248,2260,2262,2264,2266,2268,2280,2282,2284,2286,2288,2400,2402,2404,2406,2408,2420,2422,2424,2426,2428,2440,2442,2444,2446,2448,2460,2462,2464,2466,2468,2480,2482,2484,2486,2488,2600,2602,2604,2606,2608,2620,2622,2624,2626,2628,2640,2642,2644,2646,2648,2660,2662,2664,2666,2668,2680,2682,2684,2686,2688,2800,2802,2804,2806,2808,2820,2822,2824,2826,2828,2840,2842,2844,2846,2848,2860,2862,2864,2866,2868,2880,2882,2884,2886,2888\n"
     ]
    }
   ],
   "source": [
    "values = []\n",
    "for i in range(1000, 3001):\n",
    "    s = str(i)\n",
    "    if (int(s[0])%2==0) and (int(s[1])%2==0) and (int(s[2])%2==0) and (int(s[3])%2==0):\n",
    "         values.append(s)\n",
    "\n",
    "print (\",\".join(values))"
   ]
  },
  {
   "cell_type": "markdown",
   "id": "df604d6a",
   "metadata": {},
   "source": [
    "# Lọc số lẻ\n"
   ]
  },
  {
   "cell_type": "code",
   "execution_count": 24,
   "id": "85b2501f",
   "metadata": {},
   "outputs": [
    {
     "name": "stdout",
     "output_type": "stream",
     "text": [
      "Nhập dãy số của bạn, cách nhau bởi dấu phẩy: 1,2,3,4,5\n",
      "1,3,5\n"
     ]
    }
   ],
   "source": [
    "values = input(\"Nhập dãy số của bạn, cách nhau bởi dấu phẩy: \")\n",
    "numbers = [x for x in values.split(\",\") if int(x)%2!=0]\n",
    "print (\",\".join(numbers))"
   ]
  },
  {
   "cell_type": "markdown",
   "id": "ed8060b5",
   "metadata": {},
   "source": [
    "## Viết chương trình sắp xếp tuple (name, age, score) theo thứ tự tăng dần, name là string, age và height là number. Tuple được nhập vào bởi người dùng. Tiêu chí sắp xếp là:\n",
    "\n",
    "Sắp xếp theo name sau đó sắp xếp theo age, sau đó sắp xếp theo score. Ưu tiên là tên > tuổi > điểm.\n",
    "\n",
    "Nếu đầu vào là:\n",
    "\n",
    "Tom,19,80\n",
    "John,20,90\n",
    "Jony,17,91\n",
    "Jony,17,93\n",
    "Json,21,85\n",
    "\n",
    "Thì đầu ra sẽ là:\n",
    "\n",
    "[('John', '20', '90'), ('Jony', '17', '91'), ('Jony', '17', '93'), ('Json', '21', '85'), ('Tom', '19', '80')]"
   ]
  },
  {
   "cell_type": "code",
   "execution_count": 26,
   "id": "32e3442e",
   "metadata": {},
   "outputs": [
    {
     "name": "stdout",
     "output_type": "stream",
     "text": [
      "Tom,19,80\n",
      "John,20,90\n",
      "Jony,17,91 \n",
      "\n",
      "[('John', '20', '90'), ('Jony', '17', '91 '), ('Tom', '19', '80')]\n"
     ]
    }
   ],
   "source": [
    "from operator import itemgetter, attrgetter\n",
    "# Bài tập Python 22 Code by Quantrimang.com\n",
    "l = []\n",
    "while True:\n",
    "    s = input()\n",
    "    if not s:\n",
    "       break\n",
    "    l.append(tuple(s.split(\",\")))\n",
    "\n",
    "print (sorted(l, key=itemgetter(0,1,2)))"
   ]
  },
  {
   "cell_type": "code",
   "execution_count": null,
   "id": "e3fda8a3",
   "metadata": {},
   "outputs": [],
   "source": []
  }
 ],
 "metadata": {
  "kernelspec": {
   "display_name": "Python 3 (ipykernel)",
   "language": "python",
   "name": "python3"
  },
  "language_info": {
   "codemirror_mode": {
    "name": "ipython",
    "version": 3
   },
   "file_extension": ".py",
   "mimetype": "text/x-python",
   "name": "python",
   "nbconvert_exporter": "python",
   "pygments_lexer": "ipython3",
   "version": "3.9.12"
  }
 },
 "nbformat": 4,
 "nbformat_minor": 5
}
