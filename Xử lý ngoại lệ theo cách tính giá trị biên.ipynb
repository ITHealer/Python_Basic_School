{
 "cells": [
  {
   "cell_type": "code",
   "execution_count": null,
   "id": "e978d2bf",
   "metadata": {},
   "outputs": [],
   "source": [
    "# [Code] Xử lý ngoại lệ theo cách tính giá trị biên\n",
    "\n",
    "import pandas as pd\n",
    "\n",
    "Location= \"datasets/gradedata.csv\"\n",
    "df =pd.read_csv(Location)\n",
    "q1 =df['grade'].quantile(.25)\n",
    "q3 =df['grade'].quantile(.75)\n",
    "\n",
    "iqr= q3-q1\n",
    "toprange= q3 + iqr * 1.5\n",
    "botrange= q1 - iqr * 1.5\n",
    "\n",
    "copydf= df\n",
    "copydf=copydf.drop(copydf[copydf['grade']>toprange].index)\n",
    "copydf = copydf.drop(copydf[copydf['grade']<botrange].index)"
   ]
  }
 ],
 "metadata": {
  "kernelspec": {
   "display_name": "Python 3 (ipykernel)",
   "language": "python",
   "name": "python3"
  },
  "language_info": {
   "codemirror_mode": {
    "name": "ipython",
    "version": 3
   },
   "file_extension": ".py",
   "mimetype": "text/x-python",
   "name": "python",
   "nbconvert_exporter": "python",
   "pygments_lexer": "ipython3",
   "version": "3.9.12"
  }
 },
 "nbformat": 4,
 "nbformat_minor": 5
}
