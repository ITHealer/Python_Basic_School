{
 "cells": [
  {
   "cell_type": "code",
   "execution_count": 1,
   "id": "f6635bad",
   "metadata": {},
   "outputs": [
    {
     "data": {
      "text/plain": [
       "{'A': 1001, 'B': 2002, 'C': 3003, 'D': 4004}"
      ]
     },
     "execution_count": 1,
     "metadata": {},
     "output_type": "execute_result"
    }
   ],
   "source": [
    "mydict = {'A': 1001,\n",
    "          'B': 2002,\n",
    "          'C': 3003,\n",
    "          'D': 4004}\n",
    "mydict"
   ]
  },
  {
   "cell_type": "code",
   "execution_count": 2,
   "id": "d870d974",
   "metadata": {},
   "outputs": [
    {
     "data": {
      "text/plain": [
       "dict_keys(['A', 'B', 'C', 'D'])"
      ]
     },
     "execution_count": 2,
     "metadata": {},
     "output_type": "execute_result"
    }
   ],
   "source": [
    "mydict.keys()"
   ]
  },
  {
   "cell_type": "code",
   "execution_count": 3,
   "id": "a5e259b7",
   "metadata": {},
   "outputs": [
    {
     "data": {
      "text/plain": [
       "dict_values([1001, 2002, 3003, 4004])"
      ]
     },
     "execution_count": 3,
     "metadata": {},
     "output_type": "execute_result"
    }
   ],
   "source": [
    "mydict.values()"
   ]
  },
  {
   "cell_type": "code",
   "execution_count": 4,
   "id": "fdb3329e",
   "metadata": {},
   "outputs": [
    {
     "data": {
      "text/plain": [
       "dict_items([('A', 1001), ('B', 2002), ('C', 3003), ('D', 4004)])"
      ]
     },
     "execution_count": 4,
     "metadata": {},
     "output_type": "execute_result"
    }
   ],
   "source": [
    "mydict.items()"
   ]
  },
  {
   "cell_type": "code",
   "execution_count": 5,
   "id": "8987f898",
   "metadata": {},
   "outputs": [
    {
     "data": {
      "text/plain": [
       "[('A', 1001), ('B', 2002), ('C', 3003), ('D', 4004)]"
      ]
     },
     "execution_count": 5,
     "metadata": {},
     "output_type": "execute_result"
    }
   ],
   "source": [
    "list(mydict.items())"
   ]
  },
  {
   "cell_type": "code",
   "execution_count": 6,
   "id": "b0acb9f5",
   "metadata": {},
   "outputs": [
    {
     "name": "stdout",
     "output_type": "stream",
     "text": [
      "86.4 ns ± 8.47 ns per loop (mean ± std. dev. of 7 runs, 10,000,000 loops each)\n"
     ]
    }
   ],
   "source": [
    "%%timeit\n",
    "mydict['A']"
   ]
  },
  {
   "cell_type": "markdown",
   "id": "ac6a8d45",
   "metadata": {},
   "source": [
    "# Thêm "
   ]
  },
  {
   "cell_type": "code",
   "execution_count": 7,
   "id": "207a6202",
   "metadata": {},
   "outputs": [
    {
     "data": {
      "text/plain": [
       "{'A': 1001, 'B': 2002, 'C': 3003, 'D': 4004, 'F': 5005}"
      ]
     },
     "execution_count": 7,
     "metadata": {},
     "output_type": "execute_result"
    }
   ],
   "source": [
    "mydict['F'] = 5005\n",
    "mydict"
   ]
  },
  {
   "cell_type": "markdown",
   "id": "e8fba014",
   "metadata": {},
   "source": [
    "# Sửa"
   ]
  },
  {
   "cell_type": "code",
   "execution_count": 8,
   "id": "bc16707e",
   "metadata": {},
   "outputs": [
    {
     "data": {
      "text/plain": [
       "{'A': 1001, 'B': 2002, 'C': 3003, 'D': 'New_Value', 'F': 5005}"
      ]
     },
     "execution_count": 8,
     "metadata": {},
     "output_type": "execute_result"
    }
   ],
   "source": [
    "mydict['D'] = 'New_Value'\n",
    "mydict"
   ]
  },
  {
   "cell_type": "code",
   "execution_count": 9,
   "id": "803f76ed",
   "metadata": {},
   "outputs": [
    {
     "data": {
      "text/plain": [
       "{'A': 1001,\n",
       " 'B': 2002,\n",
       " 'C': 3003,\n",
       " 'D': 'New_Value',\n",
       " 'F': 5005,\n",
       " 'G': 6006,\n",
       " 'H': 7007}"
      ]
     },
     "execution_count": 9,
     "metadata": {},
     "output_type": "execute_result"
    }
   ],
   "source": [
    "mydict.update([('G', 6006), ('H', 7007)])\n",
    "mydict"
   ]
  },
  {
   "cell_type": "code",
   "execution_count": 10,
   "id": "d2f0a343",
   "metadata": {},
   "outputs": [
    {
     "data": {
      "text/plain": [
       "{'A': 1001,\n",
       " 'B': 2002,\n",
       " 'C': 3003,\n",
       " 'D': 'New_Value',\n",
       " 'F': 5005,\n",
       " 'G': 6006,\n",
       " 'H': 7007,\n",
       " 'J': 8008}"
      ]
     },
     "execution_count": 10,
     "metadata": {},
     "output_type": "execute_result"
    }
   ],
   "source": [
    "mydict.update({'J': 8008})\n",
    "mydict"
   ]
  },
  {
   "cell_type": "code",
   "execution_count": 11,
   "id": "95b760d5",
   "metadata": {},
   "outputs": [
    {
     "data": {
      "text/plain": [
       "{'A': 1001,\n",
       " 'B': 2002,\n",
       " 'C': 3003,\n",
       " 'D': 'New_Value',\n",
       " 'F': 5005,\n",
       " 'G': 6006,\n",
       " 'H': 7007,\n",
       " 'J': 8008,\n",
       " 'first': 1,\n",
       " 'second': 2}"
      ]
     },
     "execution_count": 11,
     "metadata": {},
     "output_type": "execute_result"
    }
   ],
   "source": [
    "newdict = {'first': 1, 'second': 2}\n",
    "mydict.update(newdict)\n",
    "mydict"
   ]
  },
  {
   "cell_type": "code",
   "execution_count": 12,
   "id": "9ebb0264",
   "metadata": {},
   "outputs": [
    {
     "data": {
      "text/plain": [
       "{'A': 1001,\n",
       " 'B': 2002,\n",
       " 'C': 3003,\n",
       " 'D': 'New_Value',\n",
       " 'F': 5005,\n",
       " 'G': 6006,\n",
       " 'H': 7007,\n",
       " 'J': 8008,\n",
       " 'second': 2}"
      ]
     },
     "execution_count": 12,
     "metadata": {},
     "output_type": "execute_result"
    }
   ],
   "source": [
    "del mydict['first']\n",
    "mydict"
   ]
  },
  {
   "cell_type": "code",
   "execution_count": 13,
   "id": "45158887",
   "metadata": {},
   "outputs": [
    {
     "data": {
      "text/plain": [
       "'New_Value'"
      ]
     },
     "execution_count": 13,
     "metadata": {},
     "output_type": "execute_result"
    }
   ],
   "source": [
    "mydict.pop('D')"
   ]
  },
  {
   "cell_type": "code",
   "execution_count": 14,
   "id": "8fa2a84c",
   "metadata": {},
   "outputs": [
    {
     "data": {
      "text/plain": [
       "{'A': 1001,\n",
       " 'B': 2002,\n",
       " 'C': 3003,\n",
       " 'F': 5005,\n",
       " 'G': 6006,\n",
       " 'H': 7007,\n",
       " 'J': 8008,\n",
       " 'second': 2}"
      ]
     },
     "execution_count": 14,
     "metadata": {},
     "output_type": "execute_result"
    }
   ],
   "source": [
    "mydict"
   ]
  },
  {
   "cell_type": "code",
   "execution_count": 15,
   "id": "5ecfd910",
   "metadata": {},
   "outputs": [
    {
     "data": {
      "text/plain": [
       "10"
      ]
     },
     "execution_count": 15,
     "metadata": {},
     "output_type": "execute_result"
    }
   ],
   "source": [
    "mydict.pop('Z',10)"
   ]
  },
  {
   "cell_type": "code",
   "execution_count": 16,
   "id": "eeadbace",
   "metadata": {},
   "outputs": [
    {
     "data": {
      "text/plain": [
       "{'A': 1001,\n",
       " 'B': 2002,\n",
       " 'C': 3003,\n",
       " 'F': 5005,\n",
       " 'G': 6006,\n",
       " 'H': 7007,\n",
       " 'J': 8008,\n",
       " 'second': 2}"
      ]
     },
     "execution_count": 16,
     "metadata": {},
     "output_type": "execute_result"
    }
   ],
   "source": [
    "mydict"
   ]
  },
  {
   "cell_type": "code",
   "execution_count": 17,
   "id": "9d875226",
   "metadata": {},
   "outputs": [
    {
     "data": {
      "text/plain": [
       "True"
      ]
     },
     "execution_count": 17,
     "metadata": {},
     "output_type": "execute_result"
    }
   ],
   "source": [
    "'A' in mydict"
   ]
  },
  {
   "cell_type": "code",
   "execution_count": 18,
   "id": "89f58e5d",
   "metadata": {},
   "outputs": [
    {
     "data": {
      "text/plain": [
       "True"
      ]
     },
     "execution_count": 18,
     "metadata": {},
     "output_type": "execute_result"
    }
   ],
   "source": [
    "'Z' not in mydict"
   ]
  },
  {
   "cell_type": "markdown",
   "id": "fcef568d",
   "metadata": {},
   "source": [
    "# Tạo dict"
   ]
  },
  {
   "cell_type": "code",
   "execution_count": 19,
   "id": "889f1f8f",
   "metadata": {},
   "outputs": [
    {
     "data": {
      "text/plain": [
       "{'key1': 'value1', 'key2': 'value2', 'key3': 'value3'}"
      ]
     },
     "execution_count": 19,
     "metadata": {},
     "output_type": "execute_result"
    }
   ],
   "source": [
    "keys = [\"key1\", \"key2\", \"key3\"]\n",
    "values = [\"value1\", \"value2\", \"value3\"]\n",
    "dict_from_lists = dict(zip(keys,values))\n",
    "dict_from_lists"
   ]
  },
  {
   "cell_type": "code",
   "execution_count": 20,
   "id": "7fcf75aa",
   "metadata": {},
   "outputs": [
    {
     "data": {
      "text/plain": [
       "{'key1': 900, 'key2': 800, 'key3': 750}"
      ]
     },
     "execution_count": 20,
     "metadata": {},
     "output_type": "execute_result"
    }
   ],
   "source": [
    "pairlist = [('key1',900),(\"key2\",800),(\"key3\",750)]\n",
    "dict_from_tuples = dict(pairlist)\n",
    "dict_from_tuples"
   ]
  },
  {
   "cell_type": "markdown",
   "id": "1b5d8d69",
   "metadata": {},
   "source": [
    "# Xóa dict"
   ]
  },
  {
   "cell_type": "code",
   "execution_count": 21,
   "id": "e46dbc7e",
   "metadata": {},
   "outputs": [],
   "source": [
    "# del mydict"
   ]
  }
 ],
 "metadata": {
  "kernelspec": {
   "display_name": "Python 3 (ipykernel)",
   "language": "python",
   "name": "python3"
  },
  "language_info": {
   "codemirror_mode": {
    "name": "ipython",
    "version": 3
   },
   "file_extension": ".py",
   "mimetype": "text/x-python",
   "name": "python",
   "nbconvert_exporter": "python",
   "pygments_lexer": "ipython3",
   "version": "3.9.12"
  }
 },
 "nbformat": 4,
 "nbformat_minor": 5
}
