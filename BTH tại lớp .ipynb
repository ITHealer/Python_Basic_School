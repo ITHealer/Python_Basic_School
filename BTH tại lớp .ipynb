{
 "cells": [
  {
   "cell_type": "markdown",
   "id": "45775e72",
   "metadata": {},
   "source": [
    "# Bài 1"
   ]
  },
  {
   "cell_type": "markdown",
   "id": "92ada2e8",
   "metadata": {},
   "source": [
    "### mô tả \n",
    "1. Nhập vào n sinh viên cùng với điểm của mỗi SV \n",
    "\n",
    "2. Tính điểm trung bình\n",
    "\n",
    "3. Tìm sv có điểm cao nhất / thấp nhất\n",
    "\n",
    "4. Thông kê bao nhiêu sinh viên đạt điểm giỏi, khá, tb, yếu"
   ]
  },
  {
   "cell_type": "markdown",
   "id": "1b005548",
   "metadata": {},
   "source": [
    "### cách 1: hướng đi của bản thân"
   ]
  },
  {
   "cell_type": "code",
   "execution_count": 4,
   "id": "eb9f5587",
   "metadata": {},
   "outputs": [
    {
     "name": "stdout",
     "output_type": "stream",
     "text": [
      "Nhập vào số sinh viên n = 3\n",
      "Nhập vào điểm số sinh viên thứ 0\n",
      "8\n",
      "Nhập vào điểm số sinh viên thứ 1\n",
      "5\n",
      "Nhập vào điểm số sinh viên thứ 2\n",
      "6\n"
     ]
    }
   ],
   "source": [
    "# Nhập vào n sinh viên\n",
    "n = float(input('Nhập vào số sinh viên n = '))\n",
    "\n",
    "list_sv = []\n",
    "\n",
    "for sv in range(n):\n",
    "    print(f'Nhập vào điểm số sinh viên thứ {sv}')\n",
    "    score = float(input())\n",
    "    list_sv.append(score)"
   ]
  },
  {
   "cell_type": "markdown",
   "id": "3773e7a6",
   "metadata": {},
   "source": [
    "#### 2. Tính điểm trung bình"
   ]
  },
  {
   "cell_type": "code",
   "execution_count": 25,
   "id": "d9c9c0ea",
   "metadata": {},
   "outputs": [],
   "source": [
    "def Average(lst):\n",
    "    return sum(lst) / len(lst)"
   ]
  },
  {
   "cell_type": "code",
   "execution_count": 28,
   "id": "74f33518",
   "metadata": {},
   "outputs": [
    {
     "name": "stdout",
     "output_type": "stream",
     "text": [
      "TB = 6.33\n"
     ]
    }
   ],
   "source": [
    "print(\"TB =\", round(Average(list_sv), 2))"
   ]
  },
  {
   "cell_type": "markdown",
   "id": "fcdea9d9",
   "metadata": {},
   "source": [
    "#### 3. Tính điểm cao nhất / thấp nhất"
   ]
  },
  {
   "cell_type": "code",
   "execution_count": 7,
   "id": "ef5a8e00",
   "metadata": {},
   "outputs": [
    {
     "data": {
      "text/plain": [
       "8"
      ]
     },
     "execution_count": 7,
     "metadata": {},
     "output_type": "execute_result"
    }
   ],
   "source": [
    "sv_max = max(list_sv)\n",
    "sv_max"
   ]
  },
  {
   "cell_type": "code",
   "execution_count": 12,
   "id": "2df17e71",
   "metadata": {},
   "outputs": [
    {
     "data": {
      "text/plain": [
       "5"
      ]
     },
     "execution_count": 12,
     "metadata": {},
     "output_type": "execute_result"
    }
   ],
   "source": [
    "sv_min = min(list_sv)\n",
    "sv_min"
   ]
  },
  {
   "cell_type": "markdown",
   "id": "d85c3507",
   "metadata": {},
   "source": [
    "#### 4. Thống kê"
   ]
  },
  {
   "cell_type": "code",
   "execution_count": 21,
   "id": "fc0b43e3",
   "metadata": {},
   "outputs": [],
   "source": [
    "def thongke(list):\n",
    "    g = 0\n",
    "    k = 0\n",
    "    tb = 0\n",
    "    y = 0\n",
    "    list_tk = []\n",
    "    for i in range(len(list)):\n",
    "        if list[i] >= 8:\n",
    "            g += 1\n",
    "        elif list[i] >= 6.5 and list[i] < 8:\n",
    "            k += 1\n",
    "        elif list[i] >= 5 and list[i] < 6.5:\n",
    "            tb += 1\n",
    "        else: \n",
    "            y += 1\n",
    "    list_tk.append(g)\n",
    "    list_tk.append(k)\n",
    "    list_tk.append(tb)\n",
    "    list_tk.append(y)\n",
    "    return list_tk"
   ]
  },
  {
   "cell_type": "code",
   "execution_count": 22,
   "id": "fa8c296f",
   "metadata": {},
   "outputs": [
    {
     "name": "stdout",
     "output_type": "stream",
     "text": [
      "[1, 0, 2, 0]\n"
     ]
    }
   ],
   "source": [
    "print(thongke(list_sv))"
   ]
  },
  {
   "cell_type": "markdown",
   "id": "752b048c",
   "metadata": {},
   "source": [
    "### cách 2: "
   ]
  },
  {
   "cell_type": "code",
   "execution_count": 2,
   "id": "ae2c4775",
   "metadata": {},
   "outputs": [],
   "source": [
    "# students = [(\"Allen Anderson\", \"Computer Science\"),\n",
    "#             (\"Edgar Einstein\", \"Engineering\"),\n",
    "#             (\"Farrah Finn\", \"Fine Arts\")]\n",
    "     \n",
    "# def add_new_student(students, name, major):\n",
    "#     students.append((name, major))\n",
    "\n",
    "# def update_student(students, index, name, major):\n",
    "#     students[index] = (name, major)\n",
    "\n",
    "# def find_students_by_name(students, name):\n",
    "#     return [student for student in students if name in student[0]]\n",
    "\n",
    "# def get_all_majors(students):\n",
    "#     return [student[1] for student in students]"
   ]
  },
  {
   "cell_type": "code",
   "execution_count": 4,
   "id": "ba0a8ba2",
   "metadata": {},
   "outputs": [],
   "source": [
    "def add_new_contacts(contacts, name, num_phone):\n",
    "    contacts.append((name, num_phone))\n",
    "\n",
    "def update_contacts(contacts, index, name, num_phone):\n",
    "    contacts[index] = (name, num_phone)\n",
    "\n",
    "def find_contacts_by_name(contacts, name):\n",
    "    return [contact for contact in contacts if name in contact[0]]\n",
    "\n",
    "def get_all_majors(contacts):\n",
    "    return [contact[1] for contact in contacts]"
   ]
  },
  {
   "cell_type": "code",
   "execution_count": null,
   "id": "9c873aa1",
   "metadata": {},
   "outputs": [],
   "source": []
  },
  {
   "cell_type": "code",
   "execution_count": null,
   "id": "75fbea07",
   "metadata": {},
   "outputs": [],
   "source": []
  },
  {
   "cell_type": "code",
   "execution_count": null,
   "id": "f1097ea2",
   "metadata": {},
   "outputs": [],
   "source": []
  },
  {
   "cell_type": "code",
   "execution_count": null,
   "id": "c4ea8280",
   "metadata": {},
   "outputs": [],
   "source": []
  },
  {
   "cell_type": "markdown",
   "id": "1c6bfedf",
   "metadata": {},
   "source": [
    "# BÀI 2"
   ]
  },
  {
   "cell_type": "markdown",
   "id": "c2735ed7",
   "metadata": {},
   "source": [
    "Chương trình quản lý danh bạ điện thoại gồm: họ tên, sđt\n",
    "\n",
    "1. Thêm 1 loạt sđt vào danh bạ. Kết thúc khi ng dùng k muốn nhập nữa\n",
    "\n",
    "2. Hiển thị tổng số ng có trong danh bạ. Sort theo họ tên A-Z\n",
    "\n",
    "3. Nhập vào xâu ký tự từ bàn phím, tìm và hiển thị all những ng có họ tên chứa xâu ký tự vừa nhập cùng sđt tương ứng \n",
    "\n",
    "4. Nhập vào chuỗi số, tìm và hiển thị ..."
   ]
  },
  {
   "cell_type": "code",
   "execution_count": 31,
   "id": "94162bd1",
   "metadata": {},
   "outputs": [
    {
     "name": "stdout",
     "output_type": "stream",
     "text": [
      "Nhập vào số người muốn thêm vào danh bạ n = 4\n",
      "Nhập vào tên: \n",
      "Hoai\n",
      "Nhập vào sđt: \n",
      "0387058294\n",
      "Nhập vào tên: \n",
      "Hoa\n",
      "Nhập vào sđt: \n",
      "036115055\n",
      "Nhập vào tên: \n",
      "Nhi\n",
      "Nhập vào sđt: \n",
      "01838383333\n",
      "Nhập vào tên: \n",
      "phung\n",
      "Nhập vào sđt: \n",
      "18829299922\n"
     ]
    }
   ],
   "source": [
    "contact_Dict = {}\n",
    "\n",
    "n = int(input('Nhập vào số người muốn thêm vào danh bạ n = '))\n",
    "\n",
    "for contact in range(n):\n",
    "    print('Nhập vào tên: ')\n",
    "    ht = input()\n",
    "    print('Nhập vào sđt: ')\n",
    "    sdt = int(input())\n",
    "    contact_Dict[ht] = sdt"
   ]
  },
  {
   "cell_type": "code",
   "execution_count": 32,
   "id": "1c5fbff8",
   "metadata": {},
   "outputs": [
    {
     "name": "stdout",
     "output_type": "stream",
     "text": [
      "{'Hoai': 387058294, 'Hoa': 36115055, 'Nhi': 1838383333, 'phung': 18829299922}\n"
     ]
    }
   ],
   "source": [
    "print(contact_Dict)"
   ]
  },
  {
   "cell_type": "code",
   "execution_count": 34,
   "id": "0ac1289f",
   "metadata": {},
   "outputs": [
    {
     "name": "stdout",
     "output_type": "stream",
     "text": [
      "Có 4 người trong danh bạ\n"
     ]
    }
   ],
   "source": [
    "print(f'Có {len(contact_Dict)} người trong danh bạ')"
   ]
  },
  {
   "cell_type": "code",
   "execution_count": 36,
   "id": "64959164",
   "metadata": {},
   "outputs": [
    {
     "data": {
      "text/plain": [
       "['Hoa', 'Hoai', 'Nhi', 'phung']"
      ]
     },
     "execution_count": 36,
     "metadata": {},
     "output_type": "execute_result"
    }
   ],
   "source": [
    "contact_sorted = sorted(contact_Dict)\n",
    "contact_sorted"
   ]
  },
  {
   "cell_type": "markdown",
   "id": "9d9f1a0c",
   "metadata": {},
   "source": [
    "### tìm kiếm chính xác input"
   ]
  },
  {
   "cell_type": "code",
   "execution_count": 58,
   "id": "7a1586f3",
   "metadata": {},
   "outputs": [],
   "source": [
    "def search_name(lst):\n",
    "    lst_search = []\n",
    "    key = input('Nhập vào tên người cần tìm: ')\n",
    "    for k in lst.items():\n",
    "        if key == k[0]: \n",
    "            lst_search.append(k)\n",
    "    return lst_search"
   ]
  },
  {
   "cell_type": "code",
   "execution_count": 59,
   "id": "08dbd365",
   "metadata": {},
   "outputs": [
    {
     "name": "stdout",
     "output_type": "stream",
     "text": [
      "Nhập vào tên người cần tìm: nhi\n",
      "[]\n"
     ]
    }
   ],
   "source": [
    "print(search_name(contact_Dict))"
   ]
  },
  {
   "cell_type": "code",
   "execution_count": 62,
   "id": "7213832c",
   "metadata": {},
   "outputs": [],
   "source": [
    "def search_phone(lst):\n",
    "    lst_search = []\n",
    "    key = int(input('Nhập vào sđt người cần tìm: '))\n",
    "    for k in lst.items():\n",
    "        if key == k[1]: \n",
    "            lst_search.append(k)\n",
    "    return lst_search"
   ]
  },
  {
   "cell_type": "code",
   "execution_count": 63,
   "id": "b63b6e04",
   "metadata": {},
   "outputs": [
    {
     "name": "stdout",
     "output_type": "stream",
     "text": [
      "Nhập vào sđt người cần tìm: 387058294\n",
      "[('Hoai', 387058294)]\n"
     ]
    }
   ],
   "source": [
    "print(search_phone(contact_Dict))"
   ]
  },
  {
   "cell_type": "code",
   "execution_count": null,
   "id": "e97cab23",
   "metadata": {},
   "outputs": [],
   "source": []
  }
 ],
 "metadata": {
  "kernelspec": {
   "display_name": "Python 3 (ipykernel)",
   "language": "python",
   "name": "python3"
  },
  "language_info": {
   "codemirror_mode": {
    "name": "ipython",
    "version": 3
   },
   "file_extension": ".py",
   "mimetype": "text/x-python",
   "name": "python",
   "nbconvert_exporter": "python",
   "pygments_lexer": "ipython3",
   "version": "3.9.12"
  }
 },
 "nbformat": 4,
 "nbformat_minor": 5
}
