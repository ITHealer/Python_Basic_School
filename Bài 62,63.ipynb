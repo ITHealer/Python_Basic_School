{
 "cells": [
  {
   "cell_type": "code",
   "execution_count": 69,
   "id": "24b95739",
   "metadata": {},
   "outputs": [
    {
     "data": {
      "text/plain": [
       "26"
      ]
     },
     "execution_count": 69,
     "metadata": {},
     "output_type": "execute_result"
    }
   ],
   "source": [
    "import pandas as pd\n",
    "pd.set_option(\"display.min_rows\",7)\n",
    "pd.options.display.max_rows\n",
    "pd.set_option(\"display.max_columns\",26)\n",
    "pd.options.display.max_columns"
   ]
  },
  {
   "cell_type": "code",
   "execution_count": 71,
   "id": "516b899d",
   "metadata": {},
   "outputs": [
    {
     "data": {
      "text/html": [
       "<div>\n",
       "<style scoped>\n",
       "    .dataframe tbody tr th:only-of-type {\n",
       "        vertical-align: middle;\n",
       "    }\n",
       "\n",
       "    .dataframe tbody tr th {\n",
       "        vertical-align: top;\n",
       "    }\n",
       "\n",
       "    .dataframe thead th {\n",
       "        text-align: right;\n",
       "    }\n",
       "</style>\n",
       "<table border=\"1\" class=\"dataframe\">\n",
       "  <thead>\n",
       "    <tr style=\"text-align: right;\">\n",
       "      <th></th>\n",
       "      <th>Unnamed: 0</th>\n",
       "      <th>hoten</th>\n",
       "      <th>ngaysinh</th>\n",
       "      <th>gioitinh</th>\n",
       "      <th>td_CN</th>\n",
       "      <th>td_ThS</th>\n",
       "      <th>td_TS</th>\n",
       "      <th>sodt</th>\n",
       "      <th>huutri</th>\n",
       "      <th>hsl</th>\n",
       "      <th>luongcb</th>\n",
       "    </tr>\n",
       "  </thead>\n",
       "  <tbody>\n",
       "    <tr>\n",
       "      <th>0</th>\n",
       "      <td>0</td>\n",
       "      <td>Nguyễn Thị Lệ</td>\n",
       "      <td>01/01/45</td>\n",
       "      <td>0</td>\n",
       "      <td>1</td>\n",
       "      <td>1</td>\n",
       "      <td>0</td>\n",
       "      <td>915030909</td>\n",
       "      <td>1</td>\n",
       "      <td>6.40</td>\n",
       "      <td>8640000.0</td>\n",
       "    </tr>\n",
       "    <tr>\n",
       "      <th>1</th>\n",
       "      <td>1</td>\n",
       "      <td>Lê Văn Tài</td>\n",
       "      <td>21/10/76</td>\n",
       "      <td>1</td>\n",
       "      <td>1</td>\n",
       "      <td>1</td>\n",
       "      <td>1</td>\n",
       "      <td>902524444</td>\n",
       "      <td>0</td>\n",
       "      <td>3.99</td>\n",
       "      <td>5386500.0</td>\n",
       "    </tr>\n",
       "    <tr>\n",
       "      <th>2</th>\n",
       "      <td>2</td>\n",
       "      <td>Hồ Hữu Hoàn</td>\n",
       "      <td>03/03/90</td>\n",
       "      <td>1</td>\n",
       "      <td>0</td>\n",
       "      <td>0</td>\n",
       "      <td>0</td>\n",
       "      <td>232321234</td>\n",
       "      <td>0</td>\n",
       "      <td>2.97</td>\n",
       "      <td>4009500.0</td>\n",
       "    </tr>\n",
       "    <tr>\n",
       "      <th>3</th>\n",
       "      <td>3</td>\n",
       "      <td>Lý Thị Lựu</td>\n",
       "      <td>30/04/01</td>\n",
       "      <td>0</td>\n",
       "      <td>1</td>\n",
       "      <td>1</td>\n",
       "      <td>0</td>\n",
       "      <td>170239311</td>\n",
       "      <td>1</td>\n",
       "      <td>5.40</td>\n",
       "      <td>7290000.0</td>\n",
       "    </tr>\n",
       "    <tr>\n",
       "      <th>4</th>\n",
       "      <td>4</td>\n",
       "      <td>Trần Trọng Chí</td>\n",
       "      <td>01/09/63</td>\n",
       "      <td>1</td>\n",
       "      <td>1</td>\n",
       "      <td>0</td>\n",
       "      <td>0</td>\n",
       "      <td>904031234</td>\n",
       "      <td>0</td>\n",
       "      <td>4.20</td>\n",
       "      <td>5670000.0</td>\n",
       "    </tr>\n",
       "    <tr>\n",
       "      <th>5</th>\n",
       "      <td>5</td>\n",
       "      <td>Phè Văn Phởn</td>\n",
       "      <td>22/09/04</td>\n",
       "      <td>1</td>\n",
       "      <td>1</td>\n",
       "      <td>1</td>\n",
       "      <td>1</td>\n",
       "      <td>907234445</td>\n",
       "      <td>1</td>\n",
       "      <td>8.20</td>\n",
       "      <td>11070000.0</td>\n",
       "    </tr>\n",
       "  </tbody>\n",
       "</table>\n",
       "</div>"
      ],
      "text/plain": [
       "   Unnamed: 0           hoten  ngaysinh  gioitinh  td_CN  td_ThS  td_TS  \\\n",
       "0           0   Nguyễn Thị Lệ  01/01/45         0      1       1      0   \n",
       "1           1      Lê Văn Tài  21/10/76         1      1       1      1   \n",
       "2           2     Hồ Hữu Hoàn  03/03/90         1      0       0      0   \n",
       "3           3      Lý Thị Lựu  30/04/01         0      1       1      0   \n",
       "4           4  Trần Trọng Chí  01/09/63         1      1       0      0   \n",
       "5           5    Phè Văn Phởn  22/09/04         1      1       1      1   \n",
       "\n",
       "        sodt  huutri   hsl     luongcb  \n",
       "0  915030909       1  6.40   8640000.0  \n",
       "1  902524444       0  3.99   5386500.0  \n",
       "2  232321234       0  2.97   4009500.0  \n",
       "3  170239311       1  5.40   7290000.0  \n",
       "4  904031234       0  4.20   5670000.0  \n",
       "5  907234445       1  8.20  11070000.0  "
      ]
     },
     "execution_count": 71,
     "metadata": {},
     "output_type": "execute_result"
    }
   ],
   "source": [
    "df = pd.read_csv('bai58.csv')\n",
    "df"
   ]
  },
  {
   "cell_type": "code",
   "execution_count": 110,
   "id": "0a7b1d22",
   "metadata": {},
   "outputs": [],
   "source": [
    "# df1[\"Year\"] = df1[\"Year\"].astype(\"int64\")\n",
    "# df1.head()"
   ]
  },
  {
   "cell_type": "code",
   "execution_count": 112,
   "id": "7094b5a5",
   "metadata": {},
   "outputs": [],
   "source": [
    "# df2[\"RealDate\"] = pd.to_datetime(df2[\"Service\"])\n",
    "# df2"
   ]
  },
  {
   "attachments": {
    "image.png": {
     "image/png": "[encoded data removed]"
    }
   },
   "cell_type": "markdown",
   "id": "5d2171ae",
   "metadata": {},
   "source": [
    "![image.png](attachment:image.png)"
   ]
  },
  {
   "attachments": {
    "image.png": {
     "image/png": "[encoded data removed]"
    }
   },
   "cell_type": "markdown",
   "id": "6b860330",
   "metadata": {},
   "source": [
    "![image.png](attachment:image.png)"
   ]
  },
  {
   "cell_type": "code",
   "execution_count": 114,
   "id": "00781219",
   "metadata": {},
   "outputs": [],
   "source": [
    "# df[df[\"Quantity\"]**2 + df[\"Shipping_Cost\"]**2<500]"
   ]
  },
  {
   "cell_type": "code",
   "execution_count": 116,
   "id": "97e40160",
   "metadata": {},
   "outputs": [],
   "source": [
    "# df[\"OrderDate\"] = pd.to_datetime(df[\"OrderDate\"], format=\"%Y-%m-%d\")\n",
    "# df.info()"
   ]
  },
  {
   "cell_type": "code",
   "execution_count": null,
   "id": "70a18743",
   "metadata": {},
   "outputs": [],
   "source": []
  },
  {
   "cell_type": "markdown",
   "id": "0821797e",
   "metadata": {},
   "source": [
    "## Lọc "
   ]
  },
  {
   "cell_type": "code",
   "execution_count": 113,
   "id": "2eead00f",
   "metadata": {},
   "outputs": [],
   "source": [
    "# condition = df1[\"Status\"] == \"Not Shipped\"\n",
    "# df1.where(condition)\n",
    "\n",
    "# df1.drop(\"OrderCode\", axis=1)"
   ]
  },
  {
   "cell_type": "code",
   "execution_count": null,
   "id": "5dcdda65",
   "metadata": {},
   "outputs": [],
   "source": [
    "# df.query(\"not (Quantity == 95)\")\n",
    "# or df.query(\"~(Quantity == 95)\")"
   ]
  },
  {
   "cell_type": "code",
   "execution_count": null,
   "id": "b1aed8d4",
   "metadata": {},
   "outputs": [],
   "source": [
    "# # Filtering with math operation\n",
    "# df.query(\"Shipping_Cost*2 < 50\")\n",
    "\n",
    "\n",
    "# Filtering with math operation\n",
    "# df.query(\"Quantity**2 + Shipping_Cost**2 < 500\")"
   ]
  },
  {
   "cell_type": "code",
   "execution_count": 75,
   "id": "fa852dd2",
   "metadata": {},
   "outputs": [
    {
     "data": {
      "text/html": [
       "<div>\n",
       "<style scoped>\n",
       "    .dataframe tbody tr th:only-of-type {\n",
       "        vertical-align: middle;\n",
       "    }\n",
       "\n",
       "    .dataframe tbody tr th {\n",
       "        vertical-align: top;\n",
       "    }\n",
       "\n",
       "    .dataframe thead th {\n",
       "        text-align: right;\n",
       "    }\n",
       "</style>\n",
       "<table border=\"1\" class=\"dataframe\">\n",
       "  <thead>\n",
       "    <tr style=\"text-align: right;\">\n",
       "      <th></th>\n",
       "      <th>Unnamed: 0</th>\n",
       "      <th>hoten</th>\n",
       "      <th>ngaysinh</th>\n",
       "      <th>gioitinh</th>\n",
       "      <th>td_CN</th>\n",
       "      <th>td_ThS</th>\n",
       "      <th>td_TS</th>\n",
       "      <th>sodt</th>\n",
       "      <th>huutri</th>\n",
       "      <th>hsl</th>\n",
       "      <th>luongcb</th>\n",
       "    </tr>\n",
       "  </thead>\n",
       "  <tbody>\n",
       "    <tr>\n",
       "      <th>1</th>\n",
       "      <td>1</td>\n",
       "      <td>Lê Văn Tài</td>\n",
       "      <td>21/10/76</td>\n",
       "      <td>1</td>\n",
       "      <td>1</td>\n",
       "      <td>1</td>\n",
       "      <td>1</td>\n",
       "      <td>902524444</td>\n",
       "      <td>0</td>\n",
       "      <td>3.99</td>\n",
       "      <td>5386500.0</td>\n",
       "    </tr>\n",
       "  </tbody>\n",
       "</table>\n",
       "</div>"
      ],
      "text/plain": [
       "   Unnamed: 0       hoten  ngaysinh  gioitinh  td_CN  td_ThS  td_TS  \\\n",
       "1           1  Lê Văn Tài  21/10/76         1      1       1      1   \n",
       "\n",
       "        sodt  huutri   hsl    luongcb  \n",
       "1  902524444       0  3.99  5386500.0  "
      ]
     },
     "execution_count": 75,
     "metadata": {},
     "output_type": "execute_result"
    }
   ],
   "source": [
    "# df.query(\"Quantity > 90 and Quantity < 100 and Status == 'Delivered'\")\n",
    "df.query(\"hoten == 'Lê Văn Tài'\")"
   ]
  },
  {
   "cell_type": "code",
   "execution_count": 85,
   "id": "8e8abc5c",
   "metadata": {},
   "outputs": [
    {
     "data": {
      "text/html": [
       "<div>\n",
       "<style scoped>\n",
       "    .dataframe tbody tr th:only-of-type {\n",
       "        vertical-align: middle;\n",
       "    }\n",
       "\n",
       "    .dataframe tbody tr th {\n",
       "        vertical-align: top;\n",
       "    }\n",
       "\n",
       "    .dataframe thead th {\n",
       "        text-align: right;\n",
       "    }\n",
       "</style>\n",
       "<table border=\"1\" class=\"dataframe\">\n",
       "  <thead>\n",
       "    <tr style=\"text-align: right;\">\n",
       "      <th></th>\n",
       "      <th>Unnamed: 0</th>\n",
       "      <th>hoten</th>\n",
       "      <th>ngaysinh</th>\n",
       "      <th>gioitinh</th>\n",
       "      <th>td_CN</th>\n",
       "      <th>td_ThS</th>\n",
       "      <th>td_TS</th>\n",
       "      <th>sodt</th>\n",
       "      <th>huutri</th>\n",
       "      <th>hsl</th>\n",
       "      <th>luongcb</th>\n",
       "    </tr>\n",
       "  </thead>\n",
       "  <tbody>\n",
       "    <tr>\n",
       "      <th>1</th>\n",
       "      <td>1</td>\n",
       "      <td>Lê Văn Tài</td>\n",
       "      <td>21/10/76</td>\n",
       "      <td>1</td>\n",
       "      <td>1</td>\n",
       "      <td>1</td>\n",
       "      <td>1</td>\n",
       "      <td>902524444</td>\n",
       "      <td>0</td>\n",
       "      <td>3.99</td>\n",
       "      <td>5386500.0</td>\n",
       "    </tr>\n",
       "  </tbody>\n",
       "</table>\n",
       "</div>"
      ],
      "text/plain": [
       "   Unnamed: 0       hoten  ngaysinh  gioitinh  td_CN  td_ThS  td_TS  \\\n",
       "1           1  Lê Văn Tài  21/10/76         1      1       1      1   \n",
       "\n",
       "        sodt  huutri   hsl    luongcb  \n",
       "1  902524444       0  3.99  5386500.0  "
      ]
     },
     "execution_count": 85,
     "metadata": {},
     "output_type": "execute_result"
    }
   ],
   "source": [
    "df.loc[df['hoten']=='Lê Văn Tài']"
   ]
  },
  {
   "cell_type": "code",
   "execution_count": 82,
   "id": "80e637fc",
   "metadata": {},
   "outputs": [
    {
     "data": {
      "text/plain": [
       "0    False\n",
       "1     True\n",
       "2    False\n",
       "3    False\n",
       "4    False\n",
       "5    False\n",
       "Name: hoten, dtype: bool"
      ]
     },
     "execution_count": 82,
     "metadata": {},
     "output_type": "execute_result"
    }
   ],
   "source": [
    "df['hoten'].str.contains('Tài')"
   ]
  },
  {
   "cell_type": "code",
   "execution_count": 86,
   "id": "dd2871e9",
   "metadata": {},
   "outputs": [
    {
     "data": {
      "text/html": [
       "<div>\n",
       "<style scoped>\n",
       "    .dataframe tbody tr th:only-of-type {\n",
       "        vertical-align: middle;\n",
       "    }\n",
       "\n",
       "    .dataframe tbody tr th {\n",
       "        vertical-align: top;\n",
       "    }\n",
       "\n",
       "    .dataframe thead th {\n",
       "        text-align: right;\n",
       "    }\n",
       "</style>\n",
       "<table border=\"1\" class=\"dataframe\">\n",
       "  <thead>\n",
       "    <tr style=\"text-align: right;\">\n",
       "      <th></th>\n",
       "      <th>Unnamed: 0</th>\n",
       "      <th>hoten</th>\n",
       "      <th>ngaysinh</th>\n",
       "      <th>gioitinh</th>\n",
       "      <th>td_CN</th>\n",
       "      <th>td_ThS</th>\n",
       "      <th>td_TS</th>\n",
       "      <th>sodt</th>\n",
       "      <th>huutri</th>\n",
       "      <th>hsl</th>\n",
       "      <th>luongcb</th>\n",
       "    </tr>\n",
       "  </thead>\n",
       "  <tbody>\n",
       "    <tr>\n",
       "      <th>1</th>\n",
       "      <td>1</td>\n",
       "      <td>Lê Văn Tài</td>\n",
       "      <td>21/10/76</td>\n",
       "      <td>1</td>\n",
       "      <td>1</td>\n",
       "      <td>1</td>\n",
       "      <td>1</td>\n",
       "      <td>902524444</td>\n",
       "      <td>0</td>\n",
       "      <td>3.99</td>\n",
       "      <td>5386500.0</td>\n",
       "    </tr>\n",
       "  </tbody>\n",
       "</table>\n",
       "</div>"
      ],
      "text/plain": [
       "   Unnamed: 0       hoten  ngaysinh  gioitinh  td_CN  td_ThS  td_TS  \\\n",
       "1           1  Lê Văn Tài  21/10/76         1      1       1      1   \n",
       "\n",
       "        sodt  huutri   hsl    luongcb  \n",
       "1  902524444       0  3.99  5386500.0  "
      ]
     },
     "execution_count": 86,
     "metadata": {},
     "output_type": "execute_result"
    }
   ],
   "source": [
    "df.loc[df['hoten'].str.contains('Tài')==True]"
   ]
  },
  {
   "cell_type": "markdown",
   "id": "7036e463",
   "metadata": {},
   "source": [
    "## Sắp xếp"
   ]
  },
  {
   "cell_type": "code",
   "execution_count": 98,
   "id": "0879711b",
   "metadata": {},
   "outputs": [
    {
     "data": {
      "text/html": [
       "<div>\n",
       "<style scoped>\n",
       "    .dataframe tbody tr th:only-of-type {\n",
       "        vertical-align: middle;\n",
       "    }\n",
       "\n",
       "    .dataframe tbody tr th {\n",
       "        vertical-align: top;\n",
       "    }\n",
       "\n",
       "    .dataframe thead th {\n",
       "        text-align: right;\n",
       "    }\n",
       "</style>\n",
       "<table border=\"1\" class=\"dataframe\">\n",
       "  <thead>\n",
       "    <tr style=\"text-align: right;\">\n",
       "      <th></th>\n",
       "      <th>Unnamed: 0</th>\n",
       "      <th>hoten</th>\n",
       "      <th>ngaysinh</th>\n",
       "      <th>gioitinh</th>\n",
       "      <th>td_CN</th>\n",
       "      <th>td_ThS</th>\n",
       "      <th>td_TS</th>\n",
       "      <th>sodt</th>\n",
       "      <th>huutri</th>\n",
       "      <th>hsl</th>\n",
       "      <th>luongcb</th>\n",
       "    </tr>\n",
       "  </thead>\n",
       "  <tbody>\n",
       "    <tr>\n",
       "      <th>5</th>\n",
       "      <td>5</td>\n",
       "      <td>Phè Văn Phởn</td>\n",
       "      <td>22/09/04</td>\n",
       "      <td>1</td>\n",
       "      <td>1</td>\n",
       "      <td>1</td>\n",
       "      <td>1</td>\n",
       "      <td>907234445</td>\n",
       "      <td>1</td>\n",
       "      <td>8.20</td>\n",
       "      <td>11070000.0</td>\n",
       "    </tr>\n",
       "    <tr>\n",
       "      <th>0</th>\n",
       "      <td>0</td>\n",
       "      <td>Nguyễn Thị Lệ</td>\n",
       "      <td>01/01/45</td>\n",
       "      <td>0</td>\n",
       "      <td>1</td>\n",
       "      <td>1</td>\n",
       "      <td>0</td>\n",
       "      <td>915030909</td>\n",
       "      <td>1</td>\n",
       "      <td>6.40</td>\n",
       "      <td>8640000.0</td>\n",
       "    </tr>\n",
       "    <tr>\n",
       "      <th>3</th>\n",
       "      <td>3</td>\n",
       "      <td>Lý Thị Lựu</td>\n",
       "      <td>30/04/01</td>\n",
       "      <td>0</td>\n",
       "      <td>1</td>\n",
       "      <td>1</td>\n",
       "      <td>0</td>\n",
       "      <td>170239311</td>\n",
       "      <td>1</td>\n",
       "      <td>5.40</td>\n",
       "      <td>7290000.0</td>\n",
       "    </tr>\n",
       "    <tr>\n",
       "      <th>4</th>\n",
       "      <td>4</td>\n",
       "      <td>Trần Trọng Chí</td>\n",
       "      <td>01/09/63</td>\n",
       "      <td>1</td>\n",
       "      <td>1</td>\n",
       "      <td>0</td>\n",
       "      <td>0</td>\n",
       "      <td>904031234</td>\n",
       "      <td>0</td>\n",
       "      <td>4.20</td>\n",
       "      <td>5670000.0</td>\n",
       "    </tr>\n",
       "    <tr>\n",
       "      <th>1</th>\n",
       "      <td>1</td>\n",
       "      <td>Lê Văn Tài</td>\n",
       "      <td>21/10/76</td>\n",
       "      <td>1</td>\n",
       "      <td>1</td>\n",
       "      <td>1</td>\n",
       "      <td>1</td>\n",
       "      <td>902524444</td>\n",
       "      <td>0</td>\n",
       "      <td>3.99</td>\n",
       "      <td>5386500.0</td>\n",
       "    </tr>\n",
       "    <tr>\n",
       "      <th>2</th>\n",
       "      <td>2</td>\n",
       "      <td>Hồ Hữu Hoàn</td>\n",
       "      <td>03/03/90</td>\n",
       "      <td>1</td>\n",
       "      <td>0</td>\n",
       "      <td>0</td>\n",
       "      <td>0</td>\n",
       "      <td>232321234</td>\n",
       "      <td>0</td>\n",
       "      <td>2.97</td>\n",
       "      <td>4009500.0</td>\n",
       "    </tr>\n",
       "  </tbody>\n",
       "</table>\n",
       "</div>"
      ],
      "text/plain": [
       "   Unnamed: 0           hoten  ngaysinh  gioitinh  td_CN  td_ThS  td_TS  \\\n",
       "5           5    Phè Văn Phởn  22/09/04         1      1       1      1   \n",
       "0           0   Nguyễn Thị Lệ  01/01/45         0      1       1      0   \n",
       "3           3      Lý Thị Lựu  30/04/01         0      1       1      0   \n",
       "4           4  Trần Trọng Chí  01/09/63         1      1       0      0   \n",
       "1           1      Lê Văn Tài  21/10/76         1      1       1      1   \n",
       "2           2     Hồ Hữu Hoàn  03/03/90         1      0       0      0   \n",
       "\n",
       "        sodt  huutri   hsl     luongcb  \n",
       "5  907234445       1  8.20  11070000.0  \n",
       "0  915030909       1  6.40   8640000.0  \n",
       "3  170239311       1  5.40   7290000.0  \n",
       "4  904031234       0  4.20   5670000.0  \n",
       "1  902524444       0  3.99   5386500.0  \n",
       "2  232321234       0  2.97   4009500.0  "
      ]
     },
     "execution_count": 98,
     "metadata": {},
     "output_type": "execute_result"
    }
   ],
   "source": [
    "df.sort_values('luongcb', ascending=False)"
   ]
  },
  {
   "cell_type": "code",
   "execution_count": 101,
   "id": "c5121074",
   "metadata": {},
   "outputs": [
    {
     "data": {
      "text/html": [
       "<div>\n",
       "<style scoped>\n",
       "    .dataframe tbody tr th:only-of-type {\n",
       "        vertical-align: middle;\n",
       "    }\n",
       "\n",
       "    .dataframe tbody tr th {\n",
       "        vertical-align: top;\n",
       "    }\n",
       "\n",
       "    .dataframe thead th {\n",
       "        text-align: right;\n",
       "    }\n",
       "</style>\n",
       "<table border=\"1\" class=\"dataframe\">\n",
       "  <thead>\n",
       "    <tr style=\"text-align: right;\">\n",
       "      <th></th>\n",
       "      <th>gioitinh</th>\n",
       "      <th>luongcb</th>\n",
       "    </tr>\n",
       "  </thead>\n",
       "  <tbody>\n",
       "    <tr>\n",
       "      <th>0</th>\n",
       "      <td>0</td>\n",
       "      <td>7965000.0</td>\n",
       "    </tr>\n",
       "    <tr>\n",
       "      <th>1</th>\n",
       "      <td>1</td>\n",
       "      <td>6534000.0</td>\n",
       "    </tr>\n",
       "  </tbody>\n",
       "</table>\n",
       "</div>"
      ],
      "text/plain": [
       "   gioitinh    luongcb\n",
       "0         0  7965000.0\n",
       "1         1  6534000.0"
      ]
     },
     "metadata": {},
     "output_type": "display_data"
    },
    {
     "data": {
      "text/plain": [
       "<AxesSubplot:xlabel='gioitinh'>"
      ]
     },
     "execution_count": 101,
     "metadata": {},
     "output_type": "execute_result"
    },
    {
     "data": {
      "image/png": "[encoded data removed]",
      "text/plain": [
       "<Figure size 432x288 with 1 Axes>"
      ]
     },
     "metadata": {
      "needs_background": "light"
     },
     "output_type": "display_data"
    }
   ],
   "source": [
    "df_room = pd.DataFrame(df.groupby('gioitinh')['luongcb'].mean())\n",
    "df_room.reset_index(drop=False, inplace=True)\n",
    "display(df_room)\n",
    "df_room.plot(x='gioitinh', y='luongcb', kind='bar')"
   ]
  },
  {
   "cell_type": "code",
   "execution_count": 102,
   "id": "2ae888d5",
   "metadata": {},
   "outputs": [
    {
     "data": {
      "text/plain": [
       "<AxesSubplot:xlabel='gioitinh'>"
      ]
     },
     "execution_count": 102,
     "metadata": {},
     "output_type": "execute_result"
    },
    {
     "data": {
      "image/png": "[encoded data removed]",
      "text/plain": [
       "<Figure size 432x288 with 1 Axes>"
      ]
     },
     "metadata": {
      "needs_background": "light"
     },
     "output_type": "display_data"
    }
   ],
   "source": [
    "df_room.plot(x='gioitinh', y='luongcb', kind='line')"
   ]
  },
  {
   "cell_type": "code",
   "execution_count": 103,
   "id": "a8b636a6",
   "metadata": {},
   "outputs": [
    {
     "data": {
      "text/plain": [
       "<AxesSubplot:ylabel='gioitinh'>"
      ]
     },
     "execution_count": 103,
     "metadata": {},
     "output_type": "execute_result"
    },
    {
     "data": {
      "image/png": "[encoded data removed]",
      "text/plain": [
       "<Figure size 432x288 with 1 Axes>"
      ]
     },
     "metadata": {
      "needs_background": "light"
     },
     "output_type": "display_data"
    }
   ],
   "source": [
    "df_room.plot(x='gioitinh', y='luongcb', kind='barh')"
   ]
  },
  {
   "cell_type": "code",
   "execution_count": 104,
   "id": "323828eb",
   "metadata": {},
   "outputs": [
    {
     "data": {
      "text/plain": [
       "<AxesSubplot:>"
      ]
     },
     "execution_count": 104,
     "metadata": {},
     "output_type": "execute_result"
    },
    {
     "data": {
      "image/png": "[encoded data removed]",
      "text/plain": [
       "<Figure size 432x288 with 1 Axes>"
      ]
     },
     "metadata": {
      "needs_background": "light"
     },
     "output_type": "display_data"
    }
   ],
   "source": [
    "df_room.plot(x='gioitinh', y='luongcb', kind='box')"
   ]
  },
  {
   "cell_type": "code",
   "execution_count": 106,
   "id": "058aceb3",
   "metadata": {},
   "outputs": [
    {
     "data": {
      "text/plain": [
       "<AxesSubplot:xlabel='gioitinh', ylabel='luongcb'>"
      ]
     },
     "execution_count": 106,
     "metadata": {},
     "output_type": "execute_result"
    },
    {
     "data": {
      "image/png": "[encoded data removed]",
      "text/plain": [
       "<Figure size 432x288 with 1 Axes>"
      ]
     },
     "metadata": {
      "needs_background": "light"
     },
     "output_type": "display_data"
    }
   ],
   "source": [
    "df_room.plot(x='gioitinh', y='luongcb', kind='scatter')"
   ]
  },
  {
   "cell_type": "code",
   "execution_count": 107,
   "id": "3b8be324",
   "metadata": {},
   "outputs": [
    {
     "data": {
      "text/plain": [
       "<AxesSubplot:ylabel='luongcb'>"
      ]
     },
     "execution_count": 107,
     "metadata": {},
     "output_type": "execute_result"
    },
    {
     "data": {
      "image/png": "[encoded data removed]",
      "text/plain": [
       "<Figure size 432x288 with 1 Axes>"
      ]
     },
     "metadata": {},
     "output_type": "display_data"
    }
   ],
   "source": [
    "df_room.plot(x='gioitinh', y='luongcb', kind='pie')"
   ]
  },
  {
   "cell_type": "code",
   "execution_count": null,
   "id": "64df83e9",
   "metadata": {},
   "outputs": [],
   "source": []
  },
  {
   "cell_type": "markdown",
   "id": "b75b70a0",
   "metadata": {},
   "source": [
    "# 1. Tạo bảng thống kê tính trung bình của trường Lương cơ bản theo gộp nhóm trường Giới tính, như hình sau:"
   ]
  },
  {
   "cell_type": "code",
   "execution_count": 5,
   "id": "a678a665",
   "metadata": {},
   "outputs": [
    {
     "data": {
      "text/html": [
       "<div>\n",
       "<style scoped>\n",
       "    .dataframe tbody tr th:only-of-type {\n",
       "        vertical-align: middle;\n",
       "    }\n",
       "\n",
       "    .dataframe tbody tr th {\n",
       "        vertical-align: top;\n",
       "    }\n",
       "\n",
       "    .dataframe thead th {\n",
       "        text-align: right;\n",
       "    }\n",
       "</style>\n",
       "<table border=\"1\" class=\"dataframe\">\n",
       "  <thead>\n",
       "    <tr style=\"text-align: right;\">\n",
       "      <th></th>\n",
       "      <th>luongcb</th>\n",
       "    </tr>\n",
       "    <tr>\n",
       "      <th>gioitinh</th>\n",
       "      <th></th>\n",
       "    </tr>\n",
       "  </thead>\n",
       "  <tbody>\n",
       "    <tr>\n",
       "      <th>0</th>\n",
       "      <td>7965000.0</td>\n",
       "    </tr>\n",
       "    <tr>\n",
       "      <th>1</th>\n",
       "      <td>6534000.0</td>\n",
       "    </tr>\n",
       "  </tbody>\n",
       "</table>\n",
       "</div>"
      ],
      "text/plain": [
       "            luongcb\n",
       "gioitinh           \n",
       "0         7965000.0\n",
       "1         6534000.0"
      ]
     },
     "execution_count": 5,
     "metadata": {},
     "output_type": "execute_result"
    }
   ],
   "source": [
    "avg_lcb = df.groupby('gioitinh')['luongcb'].mean().to_frame()\n",
    "avg_lcb"
   ]
  },
  {
   "cell_type": "markdown",
   "id": "0435cb60",
   "metadata": {},
   "source": [
    "# 2. Tạo bảng thống kê lương cao nhất của trường Lương cơ bản theo gộp nhóm trường trình độ cử nhân và Giới tính, như hình sau:"
   ]
  },
  {
   "cell_type": "code",
   "execution_count": 16,
   "id": "93dec6ec",
   "metadata": {},
   "outputs": [
    {
     "data": {
      "text/html": [
       "<div>\n",
       "<style scoped>\n",
       "    .dataframe tbody tr th:only-of-type {\n",
       "        vertical-align: middle;\n",
       "    }\n",
       "\n",
       "    .dataframe tbody tr th {\n",
       "        vertical-align: top;\n",
       "    }\n",
       "\n",
       "    .dataframe thead th {\n",
       "        text-align: right;\n",
       "    }\n",
       "</style>\n",
       "<table border=\"1\" class=\"dataframe\">\n",
       "  <thead>\n",
       "    <tr style=\"text-align: right;\">\n",
       "      <th></th>\n",
       "      <th></th>\n",
       "      <th>luongcb</th>\n",
       "    </tr>\n",
       "    <tr>\n",
       "      <th>td_CN</th>\n",
       "      <th>gioitinh</th>\n",
       "      <th></th>\n",
       "    </tr>\n",
       "  </thead>\n",
       "  <tbody>\n",
       "    <tr>\n",
       "      <th>0</th>\n",
       "      <th>1</th>\n",
       "      <td>4009500.0</td>\n",
       "    </tr>\n",
       "    <tr>\n",
       "      <th rowspan=\"2\" valign=\"top\">1</th>\n",
       "      <th>0</th>\n",
       "      <td>8640000.0</td>\n",
       "    </tr>\n",
       "    <tr>\n",
       "      <th>1</th>\n",
       "      <td>11070000.0</td>\n",
       "    </tr>\n",
       "  </tbody>\n",
       "</table>\n",
       "</div>"
      ],
      "text/plain": [
       "                   luongcb\n",
       "td_CN gioitinh            \n",
       "0     1          4009500.0\n",
       "1     0          8640000.0\n",
       "      1         11070000.0"
      ]
     },
     "execution_count": 16,
     "metadata": {},
     "output_type": "execute_result"
    }
   ],
   "source": [
    "max_lcb = df.groupby(['td_CN', 'gioitinh'])['luongcb'].max().to_frame()\n",
    "max_lcb"
   ]
  },
  {
   "cell_type": "markdown",
   "id": "afb02ad5",
   "metadata": {},
   "source": [
    "# Bài 63: \n",
    "## 1. Tạo bảng thống kê lương thấp nhất của trường Lương cơ bản theo gộp nhóm trường trình độ cử nhân  và Giới tính, như hình sau:"
   ]
  },
  {
   "cell_type": "code",
   "execution_count": 19,
   "id": "f7143397",
   "metadata": {},
   "outputs": [
    {
     "data": {
      "text/html": [
       "<div>\n",
       "<style scoped>\n",
       "    .dataframe tbody tr th:only-of-type {\n",
       "        vertical-align: middle;\n",
       "    }\n",
       "\n",
       "    .dataframe tbody tr th {\n",
       "        vertical-align: top;\n",
       "    }\n",
       "\n",
       "    .dataframe thead th {\n",
       "        text-align: right;\n",
       "    }\n",
       "</style>\n",
       "<table border=\"1\" class=\"dataframe\">\n",
       "  <thead>\n",
       "    <tr style=\"text-align: right;\">\n",
       "      <th></th>\n",
       "      <th></th>\n",
       "      <th>luongcb</th>\n",
       "    </tr>\n",
       "    <tr>\n",
       "      <th>td_CN</th>\n",
       "      <th>gioitinh</th>\n",
       "      <th></th>\n",
       "    </tr>\n",
       "  </thead>\n",
       "  <tbody>\n",
       "    <tr>\n",
       "      <th>0</th>\n",
       "      <th>1</th>\n",
       "      <td>4009500.0</td>\n",
       "    </tr>\n",
       "    <tr>\n",
       "      <th rowspan=\"2\" valign=\"top\">1</th>\n",
       "      <th>0</th>\n",
       "      <td>7290000.0</td>\n",
       "    </tr>\n",
       "    <tr>\n",
       "      <th>1</th>\n",
       "      <td>5386500.0</td>\n",
       "    </tr>\n",
       "  </tbody>\n",
       "</table>\n",
       "</div>"
      ],
      "text/plain": [
       "                  luongcb\n",
       "td_CN gioitinh           \n",
       "0     1         4009500.0\n",
       "1     0         7290000.0\n",
       "      1         5386500.0"
      ]
     },
     "execution_count": 19,
     "metadata": {},
     "output_type": "execute_result"
    }
   ],
   "source": [
    "min_lcb = df.groupby(['td_CN', 'gioitinh'])['luongcb'].min().to_frame()\n",
    "min_lcb"
   ]
  },
  {
   "cell_type": "code",
   "execution_count": 63,
   "id": "7fa1ef1f",
   "metadata": {},
   "outputs": [
    {
     "data": {
      "text/html": [
       "<div>\n",
       "<style scoped>\n",
       "    .dataframe tbody tr th:only-of-type {\n",
       "        vertical-align: middle;\n",
       "    }\n",
       "\n",
       "    .dataframe tbody tr th {\n",
       "        vertical-align: top;\n",
       "    }\n",
       "\n",
       "    .dataframe thead tr th {\n",
       "        text-align: left;\n",
       "    }\n",
       "\n",
       "    .dataframe thead tr:last-of-type th {\n",
       "        text-align: right;\n",
       "    }\n",
       "</style>\n",
       "<table border=\"1\" class=\"dataframe\">\n",
       "  <thead>\n",
       "    <tr>\n",
       "      <th></th>\n",
       "      <th></th>\n",
       "      <th colspan=\"2\" halign=\"left\">luongcb</th>\n",
       "    </tr>\n",
       "    <tr>\n",
       "      <th></th>\n",
       "      <th></th>\n",
       "      <th>min</th>\n",
       "      <th>max</th>\n",
       "    </tr>\n",
       "    <tr>\n",
       "      <th>td_CN</th>\n",
       "      <th>gioitinh</th>\n",
       "      <th></th>\n",
       "      <th></th>\n",
       "    </tr>\n",
       "  </thead>\n",
       "  <tbody>\n",
       "    <tr>\n",
       "      <th>0</th>\n",
       "      <th>1</th>\n",
       "      <td>4009500.0</td>\n",
       "      <td>4009500.0</td>\n",
       "    </tr>\n",
       "    <tr>\n",
       "      <th rowspan=\"2\" valign=\"top\">1</th>\n",
       "      <th>0</th>\n",
       "      <td>7290000.0</td>\n",
       "      <td>8640000.0</td>\n",
       "    </tr>\n",
       "    <tr>\n",
       "      <th>1</th>\n",
       "      <td>5386500.0</td>\n",
       "      <td>11070000.0</td>\n",
       "    </tr>\n",
       "  </tbody>\n",
       "</table>\n",
       "</div>"
      ],
      "text/plain": [
       "                  luongcb            \n",
       "                      min         max\n",
       "td_CN gioitinh                       \n",
       "0     1         4009500.0   4009500.0\n",
       "1     0         7290000.0   8640000.0\n",
       "      1         5386500.0  11070000.0"
      ]
     },
     "execution_count": 63,
     "metadata": {},
     "output_type": "execute_result"
    }
   ],
   "source": [
    "df.groupby(['td_CN', 'gioitinh'])[['luongcb']].aggregate([min, max])"
   ]
  },
  {
   "cell_type": "code",
   "execution_count": 65,
   "id": "79840f8a",
   "metadata": {},
   "outputs": [
    {
     "data": {
      "text/html": [
       "<div>\n",
       "<style scoped>\n",
       "    .dataframe tbody tr th:only-of-type {\n",
       "        vertical-align: middle;\n",
       "    }\n",
       "\n",
       "    .dataframe tbody tr th {\n",
       "        vertical-align: top;\n",
       "    }\n",
       "\n",
       "    .dataframe thead th {\n",
       "        text-align: right;\n",
       "    }\n",
       "</style>\n",
       "<table border=\"1\" class=\"dataframe\">\n",
       "  <thead>\n",
       "    <tr style=\"text-align: right;\">\n",
       "      <th></th>\n",
       "      <th>Unnamed: 0</th>\n",
       "      <th>hoten</th>\n",
       "      <th>ngaysinh</th>\n",
       "      <th>gioitinh</th>\n",
       "      <th>td_CN</th>\n",
       "      <th>td_ThS</th>\n",
       "      <th>td_TS</th>\n",
       "      <th>sodt</th>\n",
       "      <th>huutri</th>\n",
       "      <th>hsl</th>\n",
       "      <th>luongcb</th>\n",
       "    </tr>\n",
       "  </thead>\n",
       "  <tbody>\n",
       "    <tr>\n",
       "      <th>0</th>\n",
       "      <td>0</td>\n",
       "      <td>Nguyễn Thị Lệ</td>\n",
       "      <td>01/01/45</td>\n",
       "      <td>0</td>\n",
       "      <td>1</td>\n",
       "      <td>1</td>\n",
       "      <td>0</td>\n",
       "      <td>915030909</td>\n",
       "      <td>1</td>\n",
       "      <td>6.40</td>\n",
       "      <td>8640000.0</td>\n",
       "    </tr>\n",
       "    <tr>\n",
       "      <th>1</th>\n",
       "      <td>1</td>\n",
       "      <td>Lê Văn Tài</td>\n",
       "      <td>21/10/76</td>\n",
       "      <td>1</td>\n",
       "      <td>1</td>\n",
       "      <td>1</td>\n",
       "      <td>1</td>\n",
       "      <td>902524444</td>\n",
       "      <td>0</td>\n",
       "      <td>3.99</td>\n",
       "      <td>5386500.0</td>\n",
       "    </tr>\n",
       "    <tr>\n",
       "      <th>2</th>\n",
       "      <td>2</td>\n",
       "      <td>Hồ Hữu Hoàn</td>\n",
       "      <td>03/03/90</td>\n",
       "      <td>1</td>\n",
       "      <td>0</td>\n",
       "      <td>0</td>\n",
       "      <td>0</td>\n",
       "      <td>232321234</td>\n",
       "      <td>0</td>\n",
       "      <td>2.97</td>\n",
       "      <td>4009500.0</td>\n",
       "    </tr>\n",
       "    <tr>\n",
       "      <th>3</th>\n",
       "      <td>3</td>\n",
       "      <td>Lý Thị Lựu</td>\n",
       "      <td>30/04/01</td>\n",
       "      <td>0</td>\n",
       "      <td>1</td>\n",
       "      <td>1</td>\n",
       "      <td>0</td>\n",
       "      <td>170239311</td>\n",
       "      <td>1</td>\n",
       "      <td>5.40</td>\n",
       "      <td>7290000.0</td>\n",
       "    </tr>\n",
       "    <tr>\n",
       "      <th>4</th>\n",
       "      <td>4</td>\n",
       "      <td>Trần Trọng Chí</td>\n",
       "      <td>01/09/63</td>\n",
       "      <td>1</td>\n",
       "      <td>1</td>\n",
       "      <td>0</td>\n",
       "      <td>0</td>\n",
       "      <td>904031234</td>\n",
       "      <td>0</td>\n",
       "      <td>4.20</td>\n",
       "      <td>5670000.0</td>\n",
       "    </tr>\n",
       "    <tr>\n",
       "      <th>5</th>\n",
       "      <td>5</td>\n",
       "      <td>Phè Văn Phởn</td>\n",
       "      <td>22/09/04</td>\n",
       "      <td>1</td>\n",
       "      <td>1</td>\n",
       "      <td>1</td>\n",
       "      <td>1</td>\n",
       "      <td>907234445</td>\n",
       "      <td>1</td>\n",
       "      <td>8.20</td>\n",
       "      <td>11070000.0</td>\n",
       "    </tr>\n",
       "  </tbody>\n",
       "</table>\n",
       "</div>"
      ],
      "text/plain": [
       "   Unnamed: 0           hoten  ngaysinh  gioitinh  td_CN  td_ThS  td_TS  \\\n",
       "0           0   Nguyễn Thị Lệ  01/01/45         0      1       1      0   \n",
       "1           1      Lê Văn Tài  21/10/76         1      1       1      1   \n",
       "2           2     Hồ Hữu Hoàn  03/03/90         1      0       0      0   \n",
       "3           3      Lý Thị Lựu  30/04/01         0      1       1      0   \n",
       "4           4  Trần Trọng Chí  01/09/63         1      1       0      0   \n",
       "5           5    Phè Văn Phởn  22/09/04         1      1       1      1   \n",
       "\n",
       "        sodt  huutri   hsl     luongcb  \n",
       "0  915030909       1  6.40   8640000.0  \n",
       "1  902524444       0  3.99   5386500.0  \n",
       "2  232321234       0  2.97   4009500.0  \n",
       "3  170239311       1  5.40   7290000.0  \n",
       "4  904031234       0  4.20   5670000.0  \n",
       "5  907234445       1  8.20  11070000.0  "
      ]
     },
     "execution_count": 65,
     "metadata": {},
     "output_type": "execute_result"
    }
   ],
   "source": [
    "df"
   ]
  },
  {
   "cell_type": "code",
   "execution_count": 68,
   "id": "2d587777",
   "metadata": {},
   "outputs": [
    {
     "data": {
      "text/html": [
       "<div>\n",
       "<style scoped>\n",
       "    .dataframe tbody tr th:only-of-type {\n",
       "        vertical-align: middle;\n",
       "    }\n",
       "\n",
       "    .dataframe tbody tr th {\n",
       "        vertical-align: top;\n",
       "    }\n",
       "\n",
       "    .dataframe thead th {\n",
       "        text-align: right;\n",
       "    }\n",
       "</style>\n",
       "<table border=\"1\" class=\"dataframe\">\n",
       "  <thead>\n",
       "    <tr style=\"text-align: right;\">\n",
       "      <th></th>\n",
       "      <th>luongcb</th>\n",
       "    </tr>\n",
       "    <tr>\n",
       "      <th>gioitinh</th>\n",
       "      <th></th>\n",
       "    </tr>\n",
       "  </thead>\n",
       "  <tbody>\n",
       "    <tr>\n",
       "      <th>0</th>\n",
       "      <td>8640000.0</td>\n",
       "    </tr>\n",
       "    <tr>\n",
       "      <th>1</th>\n",
       "      <td>11070000.0</td>\n",
       "    </tr>\n",
       "  </tbody>\n",
       "</table>\n",
       "</div>"
      ],
      "text/plain": [
       "             luongcb\n",
       "gioitinh            \n",
       "0          8640000.0\n",
       "1         11070000.0"
      ]
     },
     "execution_count": 68,
     "metadata": {},
     "output_type": "execute_result"
    }
   ],
   "source": [
    "# Ví dụ: giả sử bạn muốn nhận tổng số đơn đặt hàng và số lượng trung bình trong mỗi danh mục sản phẩm. \n",
    "# Vì vậy, từ điển bạn sẽ chuyển đến .aggregate() sẽ là —{‘OrderID’:’count’, ’Quantity’:’mean’}\n",
    "\n",
    "# function_dictionary =  {'sodt':'count','luongcb':'mean'}\n",
    "# df.groupby(\"gioitinh\") .aggregate(function_dictionary)\n",
    "\n",
    "# df.groupby(\"Product_Category\").aggregate({'OrderID':'count',\n",
    "#                                           'Quantity':'mean'})\n",
    "\n",
    "function_dictionary = {'luongcb':'min','luongcb':'max'}\n",
    "df.groupby(\"gioitinh\").aggregate(function_dictionary)"
   ]
  },
  {
   "cell_type": "markdown",
   "id": "eb079b72",
   "metadata": {},
   "source": [
    "## 2. Tạo bảng thống kê số nhân viên nam, nữ có bằng Cử nhân, như hình sau:"
   ]
  },
  {
   "cell_type": "code",
   "execution_count": 29,
   "id": "c79a23aa",
   "metadata": {},
   "outputs": [
    {
     "data": {
      "text/html": [
       "<div>\n",
       "<style scoped>\n",
       "    .dataframe tbody tr th:only-of-type {\n",
       "        vertical-align: middle;\n",
       "    }\n",
       "\n",
       "    .dataframe tbody tr th {\n",
       "        vertical-align: top;\n",
       "    }\n",
       "\n",
       "    .dataframe thead th {\n",
       "        text-align: right;\n",
       "    }\n",
       "</style>\n",
       "<table border=\"1\" class=\"dataframe\">\n",
       "  <thead>\n",
       "    <tr style=\"text-align: right;\">\n",
       "      <th></th>\n",
       "      <th>gioitinh</th>\n",
       "      <th>td_CN</th>\n",
       "      <th>số lượng</th>\n",
       "    </tr>\n",
       "  </thead>\n",
       "  <tbody>\n",
       "    <tr>\n",
       "      <th>0</th>\n",
       "      <td>0</td>\n",
       "      <td>True</td>\n",
       "      <td>2</td>\n",
       "    </tr>\n",
       "    <tr>\n",
       "      <th>1</th>\n",
       "      <td>1</td>\n",
       "      <td>False</td>\n",
       "      <td>1</td>\n",
       "    </tr>\n",
       "    <tr>\n",
       "      <th>2</th>\n",
       "      <td>1</td>\n",
       "      <td>True</td>\n",
       "      <td>3</td>\n",
       "    </tr>\n",
       "  </tbody>\n",
       "</table>\n",
       "</div>"
      ],
      "text/plain": [
       "   gioitinh  td_CN  số lượng\n",
       "0         0   True         2\n",
       "1         1  False         1\n",
       "2         1   True         3"
      ]
     },
     "execution_count": 29,
     "metadata": {},
     "output_type": "execute_result"
    }
   ],
   "source": [
    "tk_tdCN = df.groupby(['gioitinh', df['td_CN']==1]).size().reset_index(name='số lượng')\n",
    "tk_tdCN"
   ]
  },
  {
   "cell_type": "code",
   "execution_count": 37,
   "id": "c6cf1edd",
   "metadata": {},
   "outputs": [
    {
     "data": {
      "text/plain": [
       "2"
      ]
     },
     "execution_count": 37,
     "metadata": {},
     "output_type": "execute_result"
    }
   ],
   "source": [
    "df.loc[(df['gioitinh']==0) & (df['td_CN']==1)]['gioitinh'].count()"
   ]
  },
  {
   "cell_type": "code",
   "execution_count": 38,
   "id": "ae711445",
   "metadata": {},
   "outputs": [
    {
     "data": {
      "text/plain": [
       "3"
      ]
     },
     "execution_count": 38,
     "metadata": {},
     "output_type": "execute_result"
    }
   ],
   "source": [
    "df.loc[(df['gioitinh']==1) & (df['td_CN']==1)]['gioitinh'].count()"
   ]
  },
  {
   "cell_type": "code",
   "execution_count": 44,
   "id": "f8102998",
   "metadata": {},
   "outputs": [
    {
     "name": "stdout",
     "output_type": "stream",
     "text": [
      "[2, 3]\n"
     ]
    }
   ],
   "source": [
    "def count_sf_td_CN():\n",
    "    count_Nu = 0\n",
    "    count_Nam = 0\n",
    "    for idx in range(0,df['gioitinh'].shape[0],1):\n",
    "        if df['gioitinh'].iloc[idx]==0 and df['td_CN'].iloc[idx]==1:\n",
    "            count_Nu = count_Nu + 1\n",
    "        if df['gioitinh'].iloc[idx]==1 and df['td_CN'].iloc[idx]==1:\n",
    "            count_Nam = count_Nam + 1\n",
    "    return count_Nu, count_Nam\n",
    "\n",
    "print(list(count_sf_td_CN()))"
   ]
  },
  {
   "cell_type": "code",
   "execution_count": 53,
   "id": "c3759572",
   "metadata": {},
   "outputs": [],
   "source": [
    "# # making boolean series for a team name\n",
    "# filter1 = df[\"Team\"]==\"Atlanta Hawks\"\n",
    "  \n",
    "# # making boolean series for age\n",
    "# filter2 = data[\"Age\"]>24\n",
    "  \n",
    "# # filtering data on basis of both filters\n",
    "# data.where(filter1 & filter2, inplace = True)"
   ]
  },
  {
   "cell_type": "code",
   "execution_count": 59,
   "id": "b4896e77",
   "metadata": {},
   "outputs": [
    {
     "data": {
      "text/html": [
       "<div>\n",
       "<style scoped>\n",
       "    .dataframe tbody tr th:only-of-type {\n",
       "        vertical-align: middle;\n",
       "    }\n",
       "\n",
       "    .dataframe tbody tr th {\n",
       "        vertical-align: top;\n",
       "    }\n",
       "\n",
       "    .dataframe thead th {\n",
       "        text-align: right;\n",
       "    }\n",
       "</style>\n",
       "<table border=\"1\" class=\"dataframe\">\n",
       "  <thead>\n",
       "    <tr style=\"text-align: right;\">\n",
       "      <th></th>\n",
       "      <th>td_CN</th>\n",
       "    </tr>\n",
       "    <tr>\n",
       "      <th>gioitinh</th>\n",
       "      <th></th>\n",
       "    </tr>\n",
       "  </thead>\n",
       "  <tbody>\n",
       "    <tr>\n",
       "      <th>0</th>\n",
       "      <td>2</td>\n",
       "    </tr>\n",
       "    <tr>\n",
       "      <th>1</th>\n",
       "      <td>3</td>\n",
       "    </tr>\n",
       "  </tbody>\n",
       "</table>\n",
       "</div>"
      ],
      "text/plain": [
       "          td_CN\n",
       "gioitinh       \n",
       "0             2\n",
       "1             3"
      ]
     },
     "execution_count": 59,
     "metadata": {},
     "output_type": "execute_result"
    }
   ],
   "source": [
    "df[df[\"td_CN\"]==1].groupby([\"gioitinh\"])['td_CN'].count().to_frame()"
   ]
  },
  {
   "cell_type": "code",
   "execution_count": 60,
   "id": "febdbfb8",
   "metadata": {},
   "outputs": [],
   "source": [
    "# pauses[pauses[\"pause_end\"] > pauses[\"pause_start\"]]\n",
    "#       .groupby([\"subscription_id\"])[\"dif_pause\"].mean().reset_index(name=\"avg_pause\")"
   ]
  },
  {
   "cell_type": "code",
   "execution_count": null,
   "id": "343c007b",
   "metadata": {},
   "outputs": [],
   "source": []
  }
 ],
 "metadata": {
  "kernelspec": {
   "display_name": "Python 3 (ipykernel)",
   "language": "python",
   "name": "python3"
  },
  "language_info": {
   "codemirror_mode": {
    "name": "ipython",
    "version": 3
   },
   "file_extension": ".py",
   "mimetype": "text/x-python",
   "name": "python",
   "nbconvert_exporter": "python",
   "pygments_lexer": "ipython3",
   "version": "3.9.12"
  }
 },
 "nbformat": 4,
 "nbformat_minor": 5
}
