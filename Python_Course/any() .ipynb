{
 "cells": [
  {
   "cell_type": "markdown",
   "id": "62d76b71",
   "metadata": {},
   "source": [
    "# any()"
   ]
  },
  {
   "cell_type": "code",
   "execution_count": 6,
   "id": "fbb7437c",
   "metadata": {},
   "outputs": [
    {
     "name": "stdout",
     "output_type": "stream",
     "text": [
      "True\n",
      "False\n",
      "True\n",
      "False\n"
     ]
    }
   ],
   "source": [
    "# True since 1,3 and 4 (at least one) is true\n",
    "l = [1, 3, 4, 0]\n",
    "print(any(l))\n",
    "\n",
    "# False since both are False\n",
    "l = [0, False]\n",
    "print(any(l))\n",
    "\n",
    "# True since 5 is true\n",
    "l = [0, False, 5]\n",
    "print(any(l))\n",
    "\n",
    "# False since iterable is empty\n",
    "l = []\n",
    "print(any(l))"
   ]
  },
  {
   "cell_type": "code",
   "execution_count": 7,
   "id": "1d3c7414",
   "metadata": {},
   "outputs": [
    {
     "name": "stdout",
     "output_type": "stream",
     "text": [
      "True\n",
      "True\n",
      "False\n"
     ]
    }
   ],
   "source": [
    "# At east one (in fact all) elements are True\n",
    "s = \"This is good\"\n",
    "print(any(s))\n",
    "\n",
    "# 0 is False\n",
    "# '0' is True since its a string character\n",
    "s = '000'\n",
    "print(any(s))\n",
    "\n",
    "# False since empty iterable\n",
    "s = ''\n",
    "print(any(s))"
   ]
  },
  {
   "cell_type": "markdown",
   "id": "eed5ffc8",
   "metadata": {},
   "source": [
    "Trong trường hợp từ điển, nếu tất cả các khóa (không phải giá trị) là sai hoặc từ điển trống, any()trả về False. Nếu ít nhất một khóa là đúng, any()trả về True.\n"
   ]
  },
  {
   "cell_type": "code",
   "execution_count": 8,
   "id": "cde9c430",
   "metadata": {},
   "outputs": [
    {
     "name": "stdout",
     "output_type": "stream",
     "text": [
      "False\n",
      "True\n",
      "False\n",
      "False\n",
      "True\n"
     ]
    }
   ],
   "source": [
    "# 0 is False\n",
    "d = {0: 'False'}\n",
    "print(any(d))\n",
    "\n",
    "# 1 is True\n",
    "d = {0: 'False', 1: 'True'}\n",
    "print(any(d))\n",
    "\n",
    "# 0 and False are false\n",
    "d = {0: 'False', False: 0}\n",
    "print(any(d))\n",
    "\n",
    "# iterable is empty\n",
    "d = {}\n",
    "print(any(d))\n",
    "\n",
    "# 0 is False\n",
    "# '0' is True\n",
    "d = {'0': 'False'}\n",
    "print(any(d))"
   ]
  },
  {
   "cell_type": "code",
   "execution_count": null,
   "id": "c07fa0a1",
   "metadata": {},
   "outputs": [],
   "source": []
  },
  {
   "cell_type": "code",
   "execution_count": 10,
   "id": "0e4ca8a1",
   "metadata": {},
   "outputs": [
    {
     "name": "stdout",
     "output_type": "stream",
     "text": [
      "*+1,234\n",
      "123.457\n"
     ]
    }
   ],
   "source": [
    "# integer \n",
    "print(format(1234, \"*>+7,d\"))\n",
    "\n",
    "# float number\n",
    "print(format(123.4567, \".3f\"))"
   ]
  },
  {
   "cell_type": "code",
   "execution_count": 12,
   "id": "e1d4866c",
   "metadata": {},
   "outputs": [
    {
     "name": "stdout",
     "output_type": "stream",
     "text": [
      "apple\n",
      "samsung\n"
     ]
    }
   ],
   "source": [
    "# list of vowels\n",
    "phones = ['apple', 'samsung', 'oneplus']\n",
    "phones_iter = iter(phones)\n",
    "\n",
    "print(next(phones_iter))   \n",
    "print(next(phones_iter))    \n",
    "print(next(phones_iter)) "
   ]
  },
  {
   "cell_type": "code",
   "execution_count": null,
   "id": "5da6829f",
   "metadata": {},
   "outputs": [],
   "source": []
  },
  {
   "cell_type": "code",
   "execution_count": null,
   "id": "f55189eb",
   "metadata": {},
   "outputs": [],
   "source": []
  },
  {
   "cell_type": "code",
   "execution_count": 13,
   "id": "06e61ff0",
   "metadata": {},
   "outputs": [],
   "source": [
    "# Python program to mail merger\n",
    "# Names are in the file names.txt\n",
    "# Body of the mail is in body.txt\n",
    "\n",
    "# open names.txt for reading\n",
    "with open(\"names.txt\", 'r', encoding='utf-8') as names_file:\n",
    "\n",
    "    # open body.txt for reading\n",
    "    with open(\"body.txt\", 'r', encoding='utf-8') as body_file:\n",
    "\n",
    "        # read entire content of the body\n",
    "        body = body_file.read()\n",
    "\n",
    "        # iterate over names\n",
    "        for name in names_file:\n",
    "            mail = \"Hello \" + name.strip() + \"\\n\" + body\n",
    "\n",
    "            # write the mails to individual files\n",
    "            with open(name.strip()+\".txt\", 'w', encoding='utf-8') as mail_file:\n",
    "                mail_file.write(mail)"
   ]
  },
  {
   "cell_type": "code",
   "execution_count": null,
   "id": "50b5e842",
   "metadata": {},
   "outputs": [],
   "source": []
  }
 ],
 "metadata": {
  "kernelspec": {
   "display_name": "Python 3 (ipykernel)",
   "language": "python",
   "name": "python3"
  },
  "language_info": {
   "codemirror_mode": {
    "name": "ipython",
    "version": 3
   },
   "file_extension": ".py",
   "mimetype": "text/x-python",
   "name": "python",
   "nbconvert_exporter": "python",
   "pygments_lexer": "ipython3",
   "version": "3.9.12"
  }
 },
 "nbformat": 4,
 "nbformat_minor": 5
}
