{
 "cells": [
  {
   "cell_type": "markdown",
   "id": "2fc24178",
   "metadata": {},
   "source": [
    "# Bài 1: Python Program to Generate a Random Number"
   ]
  },
  {
   "cell_type": "code",
   "execution_count": 1,
   "id": "be7931b9",
   "metadata": {},
   "outputs": [
    {
     "name": "stdout",
     "output_type": "stream",
     "text": [
      "8\n"
     ]
    }
   ],
   "source": [
    "# Program to generate a random number between 0 and 9\n",
    "\n",
    "# importing the random module\n",
    "import random\n",
    "\n",
    "print(random.randint(0,9))"
   ]
  },
  {
   "cell_type": "markdown",
   "id": "f89679ed",
   "metadata": {},
   "source": [
    "# Bài 2: Python Program to Swap Two Variables"
   ]
  },
  {
   "cell_type": "markdown",
   "id": "0f2992e1",
   "metadata": {},
   "source": [
    "## Cách 1: Dùng biến tạm "
   ]
  },
  {
   "cell_type": "code",
   "execution_count": 3,
   "id": "d400265c",
   "metadata": {},
   "outputs": [
    {
     "name": "stdout",
     "output_type": "stream",
     "text": [
      "Enter value of x: 2\n",
      "Enter value of y: 3\n",
      "The value of x after swapping: 3\n",
      "The value of y after swapping: 2\n"
     ]
    }
   ],
   "source": [
    "# To take inputs from the user\n",
    "x = input('Enter value of x: ')\n",
    "y = input('Enter value of y: ')\n",
    "\n",
    "# create a temporary variable and swap the values\n",
    "temp = x\n",
    "x = y\n",
    "y = temp\n",
    "\n",
    "print('The value of x after swapping: {}'.format(x))\n",
    "print('The value of y after swapping: {}'.format(y))"
   ]
  },
  {
   "cell_type": "markdown",
   "id": "b62cf2fa",
   "metadata": {},
   "source": [
    "## Cách 2: Không dùng biến tạm"
   ]
  },
  {
   "cell_type": "code",
   "execution_count": 4,
   "id": "cb8b4a72",
   "metadata": {},
   "outputs": [
    {
     "name": "stdout",
     "output_type": "stream",
     "text": [
      "x = 10\n",
      "y = 5\n"
     ]
    }
   ],
   "source": [
    "x = 5\n",
    "y = 10\n",
    "\n",
    "x, y = y, x\n",
    "print(\"x =\", x)\n",
    "print(\"y =\", y)"
   ]
  },
  {
   "cell_type": "code",
   "execution_count": 5,
   "id": "6ca27ca0",
   "metadata": {},
   "outputs": [
    {
     "name": "stdout",
     "output_type": "stream",
     "text": [
      "5 10\n"
     ]
    }
   ],
   "source": [
    "# XOR swap\n",
    "# Thuật toán này chỉ hoạt động cho các số nguyên\n",
    "\n",
    "x = x ^ y\n",
    "y = x ^ y\n",
    "x = x ^ y\n",
    "print(x, y)"
   ]
  },
  {
   "cell_type": "markdown",
   "id": "406c5bc2",
   "metadata": {},
   "source": [
    "# Bài 3: Python Program to Check Leap Year"
   ]
  },
  {
   "cell_type": "code",
   "execution_count": null,
   "id": "600793d4",
   "metadata": {},
   "outputs": [],
   "source": [
    "# Python program to check if year is a leap year or not\n",
    "\n",
    "year = 2000\n",
    "\n",
    "# To get year (integer input) from the user\n",
    "# year = int(input(\"Enter a year: \"))\n",
    "\n",
    "# divided by 100 means century year (ending with 00): chia cho 100 nghĩa là năm thế kỷ (kết thúc bằng 00)\n",
    "# century year divided by 400 is leap year: năm thế kỷ chia cho 400 là năm nhuận\n",
    "if (year % 400 == 0) and (year % 100 == 0):\n",
    "    print(\"{0} is a leap year\".format(year))\n",
    "\n",
    "# not divided by 100 means not a century year: không chia cho 100 nghĩa là không phải một năm thế kỷ\n",
    "# year divided by 4 is a leap year: năm chia cho 4 là năm nhuận\n",
    "elif (year % 4 ==0) and (year % 100 != 0):\n",
    "    print(\"{0} is a leap year\".format(year))\n",
    "\n",
    "# if not divided by both 400 (century year) and 4 (not century year)\n",
    "# year is not leap year\n",
    "else:\n",
    "    print(\"{0} is not a leap year\".format(year))"
   ]
  },
  {
   "cell_type": "markdown",
   "id": "619e6354",
   "metadata": {},
   "source": [
    "# Bài 4: Chương trình Python để kiểm tra số nguyên tố "
   ]
  },
  {
   "cell_type": "markdown",
   "id": "0f4a0c43",
   "metadata": {},
   "source": [
    "### Cách 1: đặt cờ"
   ]
  },
  {
   "cell_type": "code",
   "execution_count": 20,
   "id": "8a4e556b",
   "metadata": {},
   "outputs": [
    {
     "name": "stdout",
     "output_type": "stream",
     "text": [
      "Nhập vào 1 số n = 51\n",
      "Số 51 không là số nguyên tố!\n"
     ]
    }
   ],
   "source": [
    "n = int(input('Nhập vào 1 số n = '))\n",
    "\n",
    "def snt(n):\n",
    "    for i in range(2, n):\n",
    "        if n%i==0:\n",
    "            return 0\n",
    "    return 1\n",
    "        \n",
    "if snt(n):\n",
    "    print(f'Số {n} là số nguyên tố!')\n",
    "else:\n",
    "    print(f'Số {n} không là số nguyên tố!')"
   ]
  },
  {
   "cell_type": "markdown",
   "id": "19a2fc84",
   "metadata": {},
   "source": [
    "### Cách 2: dùng if...else for"
   ]
  },
  {
   "cell_type": "code",
   "execution_count": 37,
   "id": "d2885207",
   "metadata": {},
   "outputs": [
    {
     "name": "stdout",
     "output_type": "stream",
     "text": [
      "Enter a number: 2\n",
      "2 is a prime number\n"
     ]
    }
   ],
   "source": [
    "num = int(input(\"Enter a number: \"))\n",
    "\n",
    "# prime numbers are greater than 1\n",
    "if num > 1:\n",
    "   # check for factors\n",
    "    for i in range(2,num):\n",
    "        if (num % i) == 0:\n",
    "            print(num,\"is not a prime number\")\n",
    "            print(i,\"times\",num//i,\"is\",num)\n",
    "            break\n",
    "    else:\n",
    "        print(num,\"is a prime number\")\n",
    "\n",
    "# or equal to 1, it is not prime\n",
    "else:\n",
    "    print(num,\"is not a prime number\")"
   ]
  },
  {
   "cell_type": "markdown",
   "id": "640a9f4a",
   "metadata": {},
   "source": [
    "### Cách 3: snt trong một khoảng"
   ]
  },
  {
   "cell_type": "code",
   "execution_count": 40,
   "id": "cf971740",
   "metadata": {},
   "outputs": [
    {
     "name": "stdout",
     "output_type": "stream",
     "text": [
      "Nhập vào 1 số n = 13\n",
      "[1, 2, 3, 5, 7, 11]\n"
     ]
    }
   ],
   "source": [
    "n = int(input('Nhập vào 1 số n = '))\n",
    "\n",
    "list_snt = []\n",
    "\n",
    "def snt_3(n):\n",
    "    for i in range(1, n):\n",
    "        if snt(i):\n",
    "            list_snt.append(i)\n",
    "    return list_snt\n",
    "                \n",
    "print(snt_3(n))   "
   ]
  },
  {
   "cell_type": "code",
   "execution_count": 41,
   "id": "3612d62b",
   "metadata": {},
   "outputs": [
    {
     "name": "stdout",
     "output_type": "stream",
     "text": [
      "Prime numbers between 900 and 1000 are:\n",
      "907\n",
      "911\n",
      "919\n",
      "929\n",
      "937\n",
      "941\n",
      "947\n",
      "953\n",
      "967\n",
      "971\n",
      "977\n",
      "983\n",
      "991\n",
      "997\n"
     ]
    }
   ],
   "source": [
    "# Python program to display all the prime numbers within an interval\n",
    "\n",
    "lower = 900\n",
    "upper = 1000\n",
    "\n",
    "print(\"Prime numbers between\", lower, \"and\", upper, \"are:\")\n",
    "\n",
    "for num in range(lower, upper + 1):\n",
    "   # all prime numbers are greater than 1\n",
    "   if num > 1:\n",
    "        for i in range(2, num):\n",
    "            if (num % i) == 0:\n",
    "                break\n",
    "        else:\n",
    "            print(num)"
   ]
  },
  {
   "cell_type": "markdown",
   "id": "42a9ad04",
   "metadata": {},
   "source": [
    "# Bài 5: Chương trình Python để tìm giai thừa của một số"
   ]
  },
  {
   "cell_type": "markdown",
   "id": "bf957040",
   "metadata": {},
   "source": [
    "### Cách 1: Giai thừa của một số sử dụng vòng lặp"
   ]
  },
  {
   "cell_type": "code",
   "execution_count": 48,
   "id": "a8949e1b",
   "metadata": {},
   "outputs": [
    {
     "name": "stdout",
     "output_type": "stream",
     "text": [
      "Enter a number: 3\n",
      "Giai thừa của 3 là 6\n"
     ]
    }
   ],
   "source": [
    "num = int(input(\"Enter a number: \"))\n",
    "\n",
    "factorial = 1\n",
    "\n",
    "if num < 0:\n",
    "    print(\"Không có giai thừa\")\n",
    "elif num == 0:\n",
    "    print(\"Giai thừa của 0 là 1\")\n",
    "else:\n",
    "    for i in range(1,num + 1):\n",
    "        factorial = factorial*i\n",
    "    print(\"Giai thừa của\",num,\"là\",factorial)"
   ]
  },
  {
   "cell_type": "markdown",
   "id": "4456ff11",
   "metadata": {},
   "source": [
    "### Cách 2: giai thừa dùng đệ quy"
   ]
  },
  {
   "cell_type": "code",
   "execution_count": 49,
   "id": "7bbe644a",
   "metadata": {},
   "outputs": [
    {
     "name": "stdout",
     "output_type": "stream",
     "text": [
      "Enter a number: 3\n",
      "Giai thừa của 3 là 6\n"
     ]
    }
   ],
   "source": [
    "def factorial(x):\n",
    "    if x == 1:\n",
    "        return 1\n",
    "    else:\n",
    "        return (x * factorial(x-1))\n",
    "\n",
    "num = int(input(\"Enter a number: \"))\n",
    "result = factorial(num)\n",
    "print(\"Giai thừa của\", num, \"là\", result)"
   ]
  },
  {
   "cell_type": "markdown",
   "id": "30244638",
   "metadata": {},
   "source": [
    "# Bài 6: Fibonacci"
   ]
  },
  {
   "cell_type": "code",
   "execution_count": 50,
   "id": "87bd0918",
   "metadata": {},
   "outputs": [
    {
     "name": "stdout",
     "output_type": "stream",
     "text": [
      "Nhập vào số n: 4\n",
      "Fibonacci sequence:\n",
      "0\n",
      "1\n",
      "1\n",
      "2\n"
     ]
    }
   ],
   "source": [
    "nterms = int(input(\"Nhập vào số n: \"))\n",
    "\n",
    "# first two terms\n",
    "n1, n2 = 0, 1\n",
    "count = 0\n",
    "\n",
    "# check if the number of terms is valid\n",
    "if nterms <= 0:\n",
    "    print(\"Nhập vào số nguyên dương\")\n",
    "# if there is only one term, return n1\n",
    "elif nterms == 1:\n",
    "    print(\"Fibonacci sequence upto\",nterms,\":\")\n",
    "    print(n1)\n",
    "# generate fibonacci sequence\n",
    "else:\n",
    "    print(\"Fibonacci sequence:\")\n",
    "    while count < nterms:\n",
    "        print(n1)\n",
    "        nth = n1 + n2\n",
    "        # update values\n",
    "        n1 = n2\n",
    "        n2 = nth\n",
    "        count += 1"
   ]
  },
  {
   "cell_type": "markdown",
   "id": "5c6edd89",
   "metadata": {},
   "source": [
    "# Bài 7: Chương trình Python để kiểm tra số Armstrong"
   ]
  },
  {
   "cell_type": "markdown",
   "id": "e052f825",
   "metadata": {},
   "source": [
    "#### Một số nguyên dương được gọi là số thứ tự của ArmstrongNnếu\n",
    "\n",
    "abcd ... = a n + b n + c n + d n + ...\n",
    "\n",
    "##### Trong trường hợp số Amstrong có 3 chữ số thì tổng các lập phương của mỗi chữ số bằng chính số đó. Ví dụ:\n",
    "\n",
    "153 = 1 * 1 * 1 + 5 * 5 * 5 + 3 * 3 * 3 // 153 là một số Amstrong."
   ]
  },
  {
   "cell_type": "code",
   "execution_count": 60,
   "id": "433bd074",
   "metadata": {},
   "outputs": [
    {
     "name": "stdout",
     "output_type": "stream",
     "text": [
      "Enter a number: 13\n",
      "13 is not an Armstrong number\n"
     ]
    }
   ],
   "source": [
    "num = int(input(\"Enter a number: \"))\n",
    "\n",
    "sum = 0\n",
    "temp = num\n",
    "order = len(str(num))\n",
    "\n",
    "while temp > 0:\n",
    "    digit = temp % 10\n",
    "    sum += digit ** order\n",
    "    temp //= 10\n",
    "\n",
    "if num == sum:\n",
    "    print(num,\"is an Armstrong number\")\n",
    "else:\n",
    "    print(num,\"is not an Armstrong number\")"
   ]
  },
  {
   "cell_type": "markdown",
   "id": "cdfac0f5",
   "metadata": {},
   "source": [
    "## Lũy thừa "
   ]
  },
  {
   "cell_type": "code",
   "execution_count": 66,
   "id": "fd57f569",
   "metadata": {},
   "outputs": [
    {
     "name": "stdout",
     "output_type": "stream",
     "text": [
      "Nhập vào số n: 4\n",
      "2 mũ 0 is 1\n",
      "2 mũ 1 is 2\n",
      "2 mũ 2 is 4\n",
      "2 mũ 3 is 8\n"
     ]
    }
   ],
   "source": [
    "n = int(input(\"Nhập vào số n: \"))\n",
    "\n",
    "result = list(map(lambda x: 2 ** x, range(n)))\n",
    "\n",
    "for i in range(n):\n",
    "    print(\"2 mũ\",i,\"is\",result[i])"
   ]
  },
  {
   "cell_type": "markdown",
   "id": "8e34eb45",
   "metadata": {},
   "source": [
    "# Số chia hết cho số khác"
   ]
  },
  {
   "cell_type": "markdown",
   "id": "b27ddf79",
   "metadata": {},
   "source": [
    "##### Hàm filter() trả về một trình lặp là các mục được lọc thông qua một hàm để kiểm tra xem mục đó có được chấp nhận hay không.\n",
    "\n",
    "##### filter(function, iterable)"
   ]
  },
  {
   "cell_type": "code",
   "execution_count": 69,
   "id": "c7a3a502",
   "metadata": {},
   "outputs": [
    {
     "name": "stdout",
     "output_type": "stream",
     "text": [
      "Các số chia hết cho 13 [65, 39, 221]\n"
     ]
    }
   ],
   "source": [
    "my_list = [12, 65, 54, 39, 102, 339, 221,]\n",
    "\n",
    "# use anonymous function to filter\n",
    "result = list(filter(lambda x: (x % 13 == 0), my_list))\n",
    "\n",
    "print(\"Các số chia hết cho 13\",result)"
   ]
  },
  {
   "cell_type": "code",
   "execution_count": 72,
   "id": "ca49334b",
   "metadata": {},
   "outputs": [
    {
     "name": "stdout",
     "output_type": "stream",
     "text": [
      "18\n",
      "24\n",
      "32\n"
     ]
    }
   ],
   "source": [
    "ages = [5, 12, 17, 18, 24, 32]\n",
    "\n",
    "def myFunc(x):\n",
    "    if x < 18:\n",
    "        return False\n",
    "    else:\n",
    "        return True\n",
    "\n",
    "adults = filter(myFunc, ages)\n",
    "\n",
    "for x in adults:\n",
    "    print(x)"
   ]
  },
  {
   "cell_type": "markdown",
   "id": "f345bf04",
   "metadata": {},
   "source": [
    "# Số chẵn lẻ"
   ]
  },
  {
   "cell_type": "code",
   "execution_count": 70,
   "id": "3d0f7147",
   "metadata": {},
   "outputs": [
    {
     "name": "stdout",
     "output_type": "stream",
     "text": [
      "[1, 3, 5, 13]\n",
      "[0, 2, 8]\n"
     ]
    }
   ],
   "source": [
    "seq = [0, 1, 2, 3, 5, 8, 13]\n",
    "\n",
    "result = filter(lambda x: x % 2 != 0, seq)\n",
    "print(list(result))\n",
    "\n",
    "result = filter(lambda x: x % 2 == 0, seq)\n",
    "print(list(result))"
   ]
  },
  {
   "cell_type": "markdown",
   "id": "ff003f91",
   "metadata": {},
   "source": [
    "# Chương trình Python để chuyển đổi thập phân sang nhị phân, bát phân và thập lục phân"
   ]
  },
  {
   "cell_type": "code",
   "execution_count": 74,
   "id": "deddb5d3",
   "metadata": {},
   "outputs": [
    {
     "name": "stdout",
     "output_type": "stream",
     "text": [
      "The decimal value of 344 is:\n",
      "0b101011000 in binary.\n",
      "0o530 in octal.\n",
      "0x158 in hexadecimal.\n"
     ]
    }
   ],
   "source": [
    "dec = 344\n",
    "\n",
    "print(\"The decimal value of\", dec, \"is:\")\n",
    "print(bin(dec), \"in binary.\")\n",
    "print(oct(dec), \"in octal.\")\n",
    "print(hex(dec), \"in hexadecimal.\")"
   ]
  },
  {
   "cell_type": "code",
   "execution_count": null,
   "id": "416db0bb",
   "metadata": {},
   "outputs": [],
   "source": []
  },
  {
   "cell_type": "code",
   "execution_count": 84,
   "id": "732efec4",
   "metadata": {},
   "outputs": [
    {
     "name": "stdout",
     "output_type": "stream",
     "text": [
      "Nhập vào số a: 0\n",
      "Nhập vào số b: 2\n",
      "2\n"
     ]
    }
   ],
   "source": [
    "a = int(input(\"Nhập vào số a: \"))\n",
    "b = int(input(\"Nhập vào số b: \"))\n",
    "\n",
    "def USCLN(a, b):\n",
    "    if a == 0:\n",
    "        return b\n",
    "    if b == 0:\n",
    "        return a\n",
    "    while a != b:\n",
    "        if a > b:\n",
    "            a=a-b\n",
    "        elif b > a:\n",
    "            b=b-a\n",
    "    return a\n",
    "\n",
    "print(USCLN(a, b))"
   ]
  },
  {
   "cell_type": "code",
   "execution_count": 87,
   "id": "55b81772",
   "metadata": {},
   "outputs": [
    {
     "name": "stdout",
     "output_type": "stream",
     "text": [
      "Nhập vào số a: 9\n",
      "Nhập vào số b: 3\n",
      "3\n",
      "9\n"
     ]
    }
   ],
   "source": [
    "a = int(input(\"Nhập vào số a: \"))\n",
    "b = int(input(\"Nhập vào số b: \"))\n",
    "\n",
    "def uscln(a, b):\n",
    "    if (b == 0):\n",
    "        return a\n",
    "    return uscln(b, a % b)\n",
    "\n",
    "print(uscln(a, b))\n",
    "\n",
    "def bscnn(a, b):\n",
    "    return int((a * b) / uscln(a, b))\n",
    "\n",
    "print(bscnn(a, b))"
   ]
  },
  {
   "cell_type": "markdown",
   "id": "ae1e254f",
   "metadata": {},
   "source": [
    "# Chương trình Python để xáo trộn Bộ bài"
   ]
  },
  {
   "cell_type": "code",
   "execution_count": 93,
   "id": "0c2243a6",
   "metadata": {},
   "outputs": [
    {
     "name": "stdout",
     "output_type": "stream",
     "text": [
      "You got:\n",
      "7 of Cơ\n",
      "13 of Cơ\n",
      "1 of Chuồng\n",
      "13 of Bích\n",
      "12 of Chuồng\n"
     ]
    }
   ],
   "source": [
    "import itertools, random\n",
    "\n",
    "# make a deck of cards\n",
    "deck = list(itertools.product(range(1,14),['Chuồng','Cơ','Bích','Rô']))\n",
    "\n",
    "# shuffle the cards\n",
    "random.shuffle(deck)\n",
    "\n",
    "# draw five cards\n",
    "print(\"You got:\")\n",
    "for i in range(5):\n",
    "    print(deck[i][0], \"of\", deck[i][1])"
   ]
  },
  {
   "cell_type": "markdown",
   "id": "858e1757",
   "metadata": {},
   "source": [
    "# Python Program to Display Calendar"
   ]
  },
  {
   "cell_type": "code",
   "execution_count": 94,
   "id": "01376c28",
   "metadata": {},
   "outputs": [
    {
     "name": "stdout",
     "output_type": "stream",
     "text": [
      "Enter year: 2022\n",
      "Enter month: 9\n",
      "   September 2022\n",
      "Mo Tu We Th Fr Sa Su\n",
      "          1  2  3  4\n",
      " 5  6  7  8  9 10 11\n",
      "12 13 14 15 16 17 18\n",
      "19 20 21 22 23 24 25\n",
      "26 27 28 29 30\n",
      "\n"
     ]
    }
   ],
   "source": [
    "import calendar\n",
    "\n",
    "yy = int(input(\"Enter year: \"))\n",
    "mm = int(input(\"Enter month: \"))\n",
    "\n",
    "# display the calendar\n",
    "print(calendar.month(yy, mm))"
   ]
  },
  {
   "cell_type": "markdown",
   "id": "5e8d27e0",
   "metadata": {},
   "source": [
    "# Chương trình Python để tìm tổng các số tự nhiên bằng cách sử dụng đệ quy"
   ]
  },
  {
   "cell_type": "code",
   "execution_count": 96,
   "id": "96531053",
   "metadata": {},
   "outputs": [
    {
     "name": "stdout",
     "output_type": "stream",
     "text": [
      "The sum is 10\n"
     ]
    }
   ],
   "source": [
    "def recur_sum(n):\n",
    "    if n <= 1:\n",
    "        return n\n",
    "    else:\n",
    "        return n + recur_sum(n-1)\n",
    "\n",
    "# change this value for a different result\n",
    "num = 4\n",
    "\n",
    "if num < 0:\n",
    "    print(\"Enter a positive number\")\n",
    "else:\n",
    "    print(\"The sum is\",recur_sum(num))"
   ]
  },
  {
   "cell_type": "markdown",
   "id": "9f1989f7",
   "metadata": {},
   "source": [
    "# Matrix"
   ]
  },
  {
   "cell_type": "markdown",
   "id": "bf396fa4",
   "metadata": {},
   "source": [
    "### Cách 1"
   ]
  },
  {
   "cell_type": "code",
   "execution_count": 99,
   "id": "3c84ce2a",
   "metadata": {},
   "outputs": [
    {
     "name": "stdout",
     "output_type": "stream",
     "text": [
      "[17, 15, 4]\n",
      "[10, 12, 9]\n",
      "[11, 13, 18]\n"
     ]
    }
   ],
   "source": [
    "# Program to add two matrices using nested loop\n",
    "\n",
    "X = [[12,7,3],\n",
    "    [4 ,5,6],\n",
    "    [7 ,8,9]]\n",
    "\n",
    "Y = [[5,8,1],\n",
    "    [6,7,3],\n",
    "    [4,5,9]]\n",
    "\n",
    "result = [[0,0,0],\n",
    "         [0,0,0],\n",
    "         [0,0,0]]\n",
    "\n",
    "# iterate through rows\n",
    "for i in range(len(X)):\n",
    "   # iterate through columns\n",
    "   for j in range(len(X[0])):\n",
    "        result[i][j] = X[i][j] + Y[i][j]\n",
    "\n",
    "for r in result:\n",
    "    print(r)"
   ]
  },
  {
   "cell_type": "markdown",
   "id": "9af0ff39",
   "metadata": {},
   "source": [
    "### Cách 2"
   ]
  },
  {
   "cell_type": "code",
   "execution_count": 101,
   "id": "7e89291c",
   "metadata": {},
   "outputs": [
    {
     "name": "stdout",
     "output_type": "stream",
     "text": [
      "[17, 15, 4]\n",
      "[10, 12, 9]\n",
      "[11, 13, 18]\n"
     ]
    }
   ],
   "source": [
    "# Program to add two matrices using list comprehension\n",
    "\n",
    "X = [[12,7,3],\n",
    "    [4 ,5,6],\n",
    "    [7 ,8,9]]\n",
    "\n",
    "Y = [[5,8,1],\n",
    "    [6,7,3],\n",
    "    [4,5,9]]\n",
    "\n",
    "result = [[X[i][j] + Y[i][j]  for j in range(len(X[0]))] for i in range(len(X))]\n",
    "\n",
    "for r in result:\n",
    "    print(r)"
   ]
  },
  {
   "cell_type": "markdown",
   "id": "e13b518b",
   "metadata": {},
   "source": [
    "# Matrix chuyển vị "
   ]
  },
  {
   "cell_type": "code",
   "execution_count": 102,
   "id": "99805651",
   "metadata": {},
   "outputs": [
    {
     "name": "stdout",
     "output_type": "stream",
     "text": [
      "[12, 4, 3]\n",
      "[7, 5, 8]\n"
     ]
    }
   ],
   "source": [
    "X = [[12,7],\n",
    "    [4 ,5],\n",
    "    [3 ,8]]\n",
    "\n",
    "result = [[0,0,0],\n",
    "         [0,0,0]]\n",
    "\n",
    "# iterate through rows\n",
    "for i in range(len(X)):\n",
    "   # iterate through columns\n",
    "   for j in range(len(X[0])):\n",
    "        result[j][i] = X[i][j]\n",
    "\n",
    "for r in result:\n",
    "    print(r)"
   ]
  },
  {
   "cell_type": "code",
   "execution_count": 107,
   "id": "6bd91a40",
   "metadata": {},
   "outputs": [
    {
     "name": "stdout",
     "output_type": "stream",
     "text": [
      "[12, 4, 3]\n",
      "[7, 5, 8]\n"
     ]
    }
   ],
   "source": [
    "X = [[12,7],\n",
    "    [4 ,5],\n",
    "    [3 ,8]]\n",
    "\n",
    "result = [[X[j][i] for j in range(len(X))] for i in range(len(X[0]))]\n",
    "for r in result:\n",
    "    print(r)"
   ]
  },
  {
   "cell_type": "markdown",
   "id": "f6779c43",
   "metadata": {},
   "source": [
    "# Nhân 2 matrix"
   ]
  },
  {
   "cell_type": "code",
   "execution_count": 13,
   "id": "c30982fc",
   "metadata": {},
   "outputs": [
    {
     "name": "stdout",
     "output_type": "stream",
     "text": [
      "[114, 160, 60, 27]\n",
      "[74, 97, 73, 14]\n",
      "[119, 157, 112, 23]\n"
     ]
    }
   ],
   "source": [
    "# 3x3 matrix\n",
    "X1 = [[12,7,3],\n",
    "    [4 ,5,6],\n",
    "    [7 ,8,9]]\n",
    "\n",
    "# 3x4 matrix\n",
    "Y1 = [[5,8,1,2],\n",
    "    [6,7,3,0],\n",
    "    [4,5,9,1]]\n",
    "\n",
    "# result is 3x4\n",
    "result = [[sum(a*b for a,b in zip(X_row,Y_col)) for Y_col in zip(*Y1)] for X_row in X1]\n",
    "\n",
    "for r in result:\n",
    "    print(r)"
   ]
  },
  {
   "cell_type": "code",
   "execution_count": 27,
   "id": "648b1ef7",
   "metadata": {},
   "outputs": [
    {
     "name": "stdout",
     "output_type": "stream",
     "text": [
      "5\n",
      "8\n",
      "1\n",
      "2\n"
     ]
    }
   ],
   "source": [
    "for Y_col in zip(*Y1):\n",
    "    print(Y_col[0])\n",
    "    \n",
    "# X_row là cột\n",
    "# Y_col là dòng"
   ]
  },
  {
   "cell_type": "code",
   "execution_count": 20,
   "id": "b18e40d1",
   "metadata": {},
   "outputs": [
    {
     "name": "stdout",
     "output_type": "stream",
     "text": [
      "[12, 7, 3]\n",
      "[4, 5, 6]\n",
      "[7, 8, 9]\n"
     ]
    }
   ],
   "source": [
    "for X_row in X1:\n",
    "    print(X_row)"
   ]
  },
  {
   "cell_type": "code",
   "execution_count": null,
   "id": "84faf62d",
   "metadata": {},
   "outputs": [],
   "source": []
  },
  {
   "cell_type": "code",
   "execution_count": null,
   "id": "e1bb845b",
   "metadata": {},
   "outputs": [],
   "source": []
  }
 ],
 "metadata": {
  "kernelspec": {
   "display_name": "Python 3 (ipykernel)",
   "language": "python",
   "name": "python3"
  },
  "language_info": {
   "codemirror_mode": {
    "name": "ipython",
    "version": 3
   },
   "file_extension": ".py",
   "mimetype": "text/x-python",
   "name": "python",
   "nbconvert_exporter": "python",
   "pygments_lexer": "ipython3",
   "version": "3.9.12"
  }
 },
 "nbformat": 4,
 "nbformat_minor": 5
}
