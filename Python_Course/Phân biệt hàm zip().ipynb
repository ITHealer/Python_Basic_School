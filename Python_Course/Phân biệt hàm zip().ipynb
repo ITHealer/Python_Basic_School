{
 "cells": [
  {
   "cell_type": "markdown",
   "id": "1ffdaa5b",
   "metadata": {},
   "source": [
    "# Phân biệt zip() và zip(*) \n",
    "\n",
    "Toán tử * dùng để giải nén list (tức là... xem ngày vd dưới)"
   ]
  },
  {
   "cell_type": "code",
   "execution_count": 21,
   "id": "50183843",
   "metadata": {},
   "outputs": [
    {
     "name": "stdout",
     "output_type": "stream",
     "text": [
      "[([1, 2, 3],), ([4, 5, 6],)]\n",
      "[(1, 4), (2, 5), (3, 6)]\n"
     ]
    }
   ],
   "source": [
    "p = [[1,2,3],[4,5,6]]\n",
    "\n",
    "d=zip(p)\n",
    "print(list(d))\n",
    "\n",
    "# tức nó sẽ bỏ cặp dấu []\n",
    "d=zip(*p)\n",
    "print(list(d))"
   ]
  },
  {
   "cell_type": "markdown",
   "id": "6e9a9e63",
   "metadata": {},
   "source": [
    "### Ví dụ "
   ]
  },
  {
   "cell_type": "code",
   "execution_count": 20,
   "id": "440b2be1",
   "metadata": {},
   "outputs": [
    {
     "name": "stdout",
     "output_type": "stream",
     "text": [
      "[('x', 3), ('y', 4), ('z', 5)]\n",
      "c = ('x', 'y', 'z')\n",
      "v = (3, 4, 5)\n"
     ]
    }
   ],
   "source": [
    "coordinate = ['x', 'y', 'z']\n",
    "value = [3, 4, 5]\n",
    "\n",
    "result = zip(coordinate, value)\n",
    "result_list = list(result)\n",
    "print(result_list)\n",
    "\n",
    "c, v =  zip(*result_list)\n",
    "print('c =', c)\n",
    "print('v =', v)"
   ]
  },
  {
   "cell_type": "markdown",
   "id": "dd2759f5",
   "metadata": {},
   "source": [
    "### zip() không truyền tham số"
   ]
  },
  {
   "cell_type": "code",
   "execution_count": 23,
   "id": "a3b47626",
   "metadata": {},
   "outputs": [
    {
     "name": "stdout",
     "output_type": "stream",
     "text": [
      "[]\n",
      "{(3, 'three'), (2, 'two'), (1, 'one')}\n"
     ]
    }
   ],
   "source": [
    "number_list = [1, 2, 3]\n",
    "str_list = ['one', 'two', 'three']\n",
    "\n",
    "# No iterables are passed\n",
    "result = zip()\n",
    "\n",
    "# Converting iterator to list\n",
    "result_list = list(result)\n",
    "print(result_list)\n",
    "\n",
    "# Two iterables are passed\n",
    "result = zip(number_list, str_list)\n",
    "\n",
    "# Converting iterator to set\n",
    "result_set = set(result)\n",
    "print(result_set)"
   ]
  },
  {
   "cell_type": "markdown",
   "id": "6e54b79c",
   "metadata": {},
   "source": [
    "### Thử trường hợp truyền một tham số xem nó giải nén thế nào"
   ]
  },
  {
   "cell_type": "code",
   "execution_count": 25,
   "id": "a2a1631c",
   "metadata": {},
   "outputs": [
    {
     "name": "stdout",
     "output_type": "stream",
     "text": [
      "{(1,), (2,), (3,)}\n"
     ]
    }
   ],
   "source": [
    "# Tham số thứ 2 k có truyền vào thì xem là rỗng \n",
    "result = zip(number_list)\n",
    "\n",
    "# Converting iterator to set\n",
    "result_set = set(result)\n",
    "print(result_set)"
   ]
  },
  {
   "cell_type": "code",
   "execution_count": null,
   "id": "4c2d77af",
   "metadata": {},
   "outputs": [],
   "source": []
  },
  {
   "cell_type": "code",
   "execution_count": null,
   "id": "3f259bd1",
   "metadata": {},
   "outputs": [],
   "source": []
  },
  {
   "cell_type": "code",
   "execution_count": null,
   "id": "35bc6ef3",
   "metadata": {},
   "outputs": [],
   "source": []
  }
 ],
 "metadata": {
  "kernelspec": {
   "display_name": "Python 3 (ipykernel)",
   "language": "python",
   "name": "python3"
  },
  "language_info": {
   "codemirror_mode": {
    "name": "ipython",
    "version": 3
   },
   "file_extension": ".py",
   "mimetype": "text/x-python",
   "name": "python",
   "nbconvert_exporter": "python",
   "pygments_lexer": "ipython3",
   "version": "3.9.12"
  }
 },
 "nbformat": 4,
 "nbformat_minor": 5
}
