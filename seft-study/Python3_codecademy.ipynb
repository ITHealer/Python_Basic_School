{
 "cells": [
  {
   "cell_type": "markdown",
   "id": "d6927a73",
   "metadata": {},
   "source": [
    "Over this lesson you’ve learned:\n",
    "\n",
    ".upper(), .title(), and .lower() adjust the casing of your string.\n",
    "\n",
    ".split() takes a string and creates a list of substrings.\n",
    "\n",
    ".join() takes a list of strings and creates a string.\n",
    "\n",
    ".strip() cleans off whitespace, or other noise from the beginning and end of a string.\n",
    "\n",
    ".replace() replaces all instances of a character/string in a string with another character/string.\n",
    "\n",
    ".find() searches a string for a character/string and returns the index value that character/string is found at.\n",
    "\n",
    ".format() allows you to interpolate a string with variables."
   ]
  },
  {
   "cell_type": "code",
   "execution_count": 1,
   "id": "9209354c",
   "metadata": {},
   "outputs": [
    {
     "ename": "FileNotFoundError",
     "evalue": "[Errno 2] No such file or directory: 'cool_csv.csv'",
     "output_type": "error",
     "traceback": [
      "\u001b[1;31m---------------------------------------------------------------------------\u001b[0m",
      "\u001b[1;31mFileNotFoundError\u001b[0m                         Traceback (most recent call last)",
      "Input \u001b[1;32mIn [1]\u001b[0m, in \u001b[0;36m<cell line: 3>\u001b[1;34m()\u001b[0m\n\u001b[0;32m      1\u001b[0m \u001b[38;5;28;01mimport\u001b[39;00m \u001b[38;5;21;01mcsv\u001b[39;00m\n\u001b[1;32m----> 3\u001b[0m \u001b[38;5;28;01mwith\u001b[39;00m \u001b[38;5;28;43mopen\u001b[39;49m\u001b[43m(\u001b[49m\u001b[38;5;124;43m'\u001b[39;49m\u001b[38;5;124;43mcool_csv.csv\u001b[39;49m\u001b[38;5;124;43m'\u001b[39;49m\u001b[43m)\u001b[49m \u001b[38;5;28;01mas\u001b[39;00m cool_csv_file:\n\u001b[0;32m      4\u001b[0m   cool_csv_dict \u001b[38;5;241m=\u001b[39m csv\u001b[38;5;241m.\u001b[39mDictReader(cool_csv_file)\n\u001b[0;32m      5\u001b[0m   \u001b[38;5;28;01mfor\u001b[39;00m row \u001b[38;5;129;01min\u001b[39;00m cool_csv_dict:\n",
      "\u001b[1;31mFileNotFoundError\u001b[0m: [Errno 2] No such file or directory: 'cool_csv.csv'"
     ]
    }
   ],
   "source": [
    "import csv\n",
    "\n",
    "with open('cool_csv.csv') as cool_csv_file:\n",
    "  cool_csv_dict = csv.DictReader(cool_csv_file)\n",
    "  for row in cool_csv_dict:\n",
    "    print(row['Cool Fact'])"
   ]
  },
  {
   "cell_type": "code",
   "execution_count": 2,
   "id": "047ec811",
   "metadata": {},
   "outputs": [
    {
     "ename": "FileNotFoundError",
     "evalue": "[Errno 2] No such file or directory: 'users.csv'",
     "output_type": "error",
     "traceback": [
      "\u001b[1;31m---------------------------------------------------------------------------\u001b[0m",
      "\u001b[1;31mFileNotFoundError\u001b[0m                         Traceback (most recent call last)",
      "Input \u001b[1;32mIn [2]\u001b[0m, in \u001b[0;36m<cell line: 4>\u001b[1;34m()\u001b[0m\n\u001b[0;32m      1\u001b[0m \u001b[38;5;28;01mimport\u001b[39;00m \u001b[38;5;21;01mcsv\u001b[39;00m\n\u001b[0;32m      3\u001b[0m list_of_email_addresses \u001b[38;5;241m=\u001b[39m []\n\u001b[1;32m----> 4\u001b[0m \u001b[38;5;28;01mwith\u001b[39;00m \u001b[38;5;28;43mopen\u001b[39;49m\u001b[43m(\u001b[49m\u001b[38;5;124;43m'\u001b[39;49m\u001b[38;5;124;43musers.csv\u001b[39;49m\u001b[38;5;124;43m'\u001b[39;49m\u001b[43m,\u001b[49m\u001b[43m \u001b[49m\u001b[43mnewline\u001b[49m\u001b[38;5;241;43m=\u001b[39;49m\u001b[38;5;124;43m'\u001b[39;49m\u001b[38;5;124;43m'\u001b[39;49m\u001b[43m)\u001b[49m \u001b[38;5;28;01mas\u001b[39;00m users_csv:\n\u001b[0;32m      5\u001b[0m   user_reader \u001b[38;5;241m=\u001b[39m csv\u001b[38;5;241m.\u001b[39mDictReader(users_csv)\n\u001b[0;32m      6\u001b[0m   \u001b[38;5;28;01mfor\u001b[39;00m row \u001b[38;5;129;01min\u001b[39;00m user_reader:\n",
      "\u001b[1;31mFileNotFoundError\u001b[0m: [Errno 2] No such file or directory: 'users.csv'"
     ]
    }
   ],
   "source": [
    "import csv\n",
    " \n",
    "list_of_email_addresses = []\n",
    "with open('users.csv', newline='') as users_csv:\n",
    "  user_reader = csv.DictReader(users_csv)\n",
    "  for row in user_reader:\n",
    "    list_of_email_addresses.append(row['Email'])"
   ]
  },
  {
   "cell_type": "code",
   "execution_count": 1,
   "id": "4849c3f5",
   "metadata": {},
   "outputs": [
    {
     "name": "stdout",
     "output_type": "stream",
     "text": [
      "97\n"
     ]
    },
    {
     "ename": "NameError",
     "evalue": "name 'rm' is not defined",
     "output_type": "error",
     "traceback": [
      "\u001b[1;31m---------------------------------------------------------------------------\u001b[0m",
      "\u001b[1;31mNameError\u001b[0m                                 Traceback (most recent call last)",
      "Input \u001b[1;32mIn [1]\u001b[0m, in \u001b[0;36m<cell line: 19>\u001b[1;34m()\u001b[0m\n\u001b[0;32m     33\u001b[0m tsp(graph, v, \u001b[38;5;241m0\u001b[39m, n, \u001b[38;5;241m1\u001b[39m, \u001b[38;5;241m0\u001b[39m)\n\u001b[0;32m     35\u001b[0m \u001b[38;5;28mprint\u001b[39m(\u001b[38;5;28mmin\u001b[39m(answer))\n\u001b[1;32m---> 36\u001b[0m \u001b[38;5;28mprint\u001b[39m(\u001b[43mrm\u001b[49m)\n",
      "\u001b[1;31mNameError\u001b[0m: name 'rm' is not defined"
     ]
    }
   ],
   "source": [
    "V = 4\n",
    "answer = []\n",
    "\n",
    "# Hàm tìm đường đi có trọng số thấp nhất\n",
    "def tsp(graph, v, currPos, n, count, cost):\n",
    "    if (count == n and graph[currPos][0]):\n",
    "        answer.append(cost + graph[currPos][0])\n",
    "        return\n",
    "\n",
    "    for i in range(n):\n",
    "        if (v[i] == False and graph[currPos][i]):\n",
    "            # Đánh dấu là đã truy cập\n",
    "            v[i] = True\n",
    "            tsp(graph, v, i, n, count + 1,\n",
    "                cost + graph[currPos][i])\n",
    "            # Đánh dấu nút thứ i là chưa được thăm\n",
    "            v[i] = False\n",
    "\n",
    "if __name__ == '__main__':\n",
    "    n = 4 # số node\n",
    "    \n",
    "    graph= [[ 0, 20, 35, 42 ],\n",
    "            [ 20, 0, 34, 30 ],\n",
    "            [ 35, 34, 0, 12 ],\n",
    "            [ 42, 30, 12, 0 ]]\n",
    "\n",
    "    # Mảng Boolean để kiểm tra xem một nút đã được truy cập hay chưa\n",
    "    v = [False for i in range(n)]\n",
    "\n",
    "    v[0] = True\n",
    "\n",
    "    # Find the minimum weight Hamiltonian Cycle\n",
    "    tsp(graph, v, 0, n, 1, 0)\n",
    "\n",
    "    print(min(answer))\n",
    "    print(rm)"
   ]
  },
  {
   "cell_type": "code",
   "execution_count": null,
   "id": "e327f825",
   "metadata": {},
   "outputs": [],
   "source": []
  }
 ],
 "metadata": {
  "kernelspec": {
   "display_name": "Python 3 (ipykernel)",
   "language": "python",
   "name": "python3"
  },
  "language_info": {
   "codemirror_mode": {
    "name": "ipython",
    "version": 3
   },
   "file_extension": ".py",
   "mimetype": "text/x-python",
   "name": "python",
   "nbconvert_exporter": "python",
   "pygments_lexer": "ipython3",
   "version": "3.9.12"
  }
 },
 "nbformat": 4,
 "nbformat_minor": 5
}
