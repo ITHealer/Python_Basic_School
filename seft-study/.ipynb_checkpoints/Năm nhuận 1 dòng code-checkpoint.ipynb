{
 "cells": [
  {
   "cell_type": "code",
   "execution_count": 5,
   "id": "24f06c31",
   "metadata": {},
   "outputs": [],
   "source": [
    "leaps = [y for y in range(1900, 1940) if (y % 4 == 0 and y % 100 != 0) or (y % 400 == 0)]"
   ]
  },
  {
   "cell_type": "code",
   "execution_count": 6,
   "id": "c3c5c801",
   "metadata": {},
   "outputs": [
    {
     "data": {
      "text/plain": [
       "[1904, 1908, 1912, 1916, 1920, 1924, 1928, 1932, 1936]"
      ]
     },
     "execution_count": 6,
     "metadata": {},
     "output_type": "execute_result"
    }
   ],
   "source": [
    "leaps"
   ]
  },
  {
   "cell_type": "code",
   "execution_count": null,
   "id": "efed1761",
   "metadata": {},
   "outputs": [],
   "source": []
  },
  {
   "cell_type": "code",
   "execution_count": 13,
   "id": "cd85444d",
   "metadata": {},
   "outputs": [],
   "source": [
    "codes1 = []\n",
    "for s in \"MF\": # Male, Female\n",
    "    for z in \"SMLX\": # Small, Medium, Large, eXtra large\n",
    "        for c in \"BGW\": # Black, Gray, White\n",
    "            codes1.append(s + z + c)"
   ]
  },
  {
   "cell_type": "code",
   "execution_count": 14,
   "id": "95ace467",
   "metadata": {},
   "outputs": [
    {
     "name": "stdout",
     "output_type": "stream",
     "text": [
      "['MSB', 'MSG', 'MSW', 'MMB', 'MMG', 'MMW', 'MLB', 'MLG', 'MLW', 'MXB', 'MXG', 'MXW', 'FSB', 'FSG', 'FSW', 'FMB', 'FMG', 'FMW', 'FLB', 'FLG', 'FLW', 'FXB', 'FXG', 'FXW']\n"
     ]
    }
   ],
   "source": [
    "print(codes1)"
   ]
  },
  {
   "cell_type": "code",
   "execution_count": 15,
   "id": "f1880b6c",
   "metadata": {},
   "outputs": [],
   "source": [
    "codes2 = [s+z+c for s in \"MF\" for z in \"SMLX\" for c in \"BGW\"]"
   ]
  },
  {
   "cell_type": "code",
   "execution_count": 16,
   "id": "c78633de",
   "metadata": {},
   "outputs": [
    {
     "name": "stdout",
     "output_type": "stream",
     "text": [
      "['MSB', 'MSG', 'MSW', 'MMB', 'MMG', 'MMW', 'MLB', 'MLG', 'MLW', 'MXB', 'MXG', 'MXW', 'FSB', 'FSG', 'FSW', 'FMB', 'FMG', 'FMW', 'FLB', 'FLG', 'FLW', 'FXB', 'FXG', 'FXW']\n"
     ]
    }
   ],
   "source": [
    "print(codes2)"
   ]
  },
  {
   "cell_type": "code",
   "execution_count": 19,
   "id": "9b574493",
   "metadata": {},
   "outputs": [],
   "source": [
    "codes3 = []\n",
    "\n",
    "for s in \"MF\": # Male, Female\n",
    "    for z in \"SMLX\": # Small, Medium, Large, eXtra large\n",
    "        if s == \"F\" and z == \"X\":\n",
    "            continue\n",
    "    for color in \"BGW\": # Black, Gray, White\n",
    "        codes3.append(s + z + c)"
   ]
  },
  {
   "cell_type": "code",
   "execution_count": 20,
   "id": "4976e71b",
   "metadata": {},
   "outputs": [
    {
     "name": "stdout",
     "output_type": "stream",
     "text": [
      "['MXW', 'MXW', 'MXW', 'FXW', 'FXW', 'FXW']\n"
     ]
    }
   ],
   "source": [
    "print(codes3)"
   ]
  },
  {
   "cell_type": "code",
   "execution_count": 21,
   "id": "1fc3ec7b",
   "metadata": {},
   "outputs": [
    {
     "name": "stdout",
     "output_type": "stream",
     "text": [
      "['MSB', 'MSG', 'MSW', 'MMB', 'MMG', 'MMW', 'MLB', 'MLG', 'MLW', 'MXB', 'MXG', 'MXW', 'FSB', 'FSG', 'FSW', 'FMB', 'FMG', 'FMW', 'FLB', 'FLG', 'FLW']\n"
     ]
    }
   ],
   "source": [
    "codes4 = [s+z+c for s in \"MF\" for z in \"SMLX\" for c in \"BGW\" if not\n",
    "(s=='F' and z=='X')]\n",
    "print(codes4)"
   ]
  },
  {
   "cell_type": "code",
   "execution_count": 27,
   "id": "e95b971a",
   "metadata": {},
   "outputs": [],
   "source": [
    "def sum_of_powers(*args, power=1):\n",
    "    result = 0\n",
    "    for arg in args:\n",
    "        result += arg ** power\n",
    "    return result"
   ]
  },
  {
   "cell_type": "code",
   "execution_count": 29,
   "id": "0cd9e004",
   "metadata": {},
   "outputs": [
    {
     "name": "stdout",
     "output_type": "stream",
     "text": [
      "6\n"
     ]
    }
   ],
   "source": [
    "print(sum_of_powers(1, 2, 3))"
   ]
  },
  {
   "cell_type": "code",
   "execution_count": 30,
   "id": "c3fa0754",
   "metadata": {},
   "outputs": [
    {
     "name": "stdout",
     "output_type": "stream",
     "text": [
      "16\n"
     ]
    }
   ],
   "source": [
    "def f(a=1, b=2, c=3):\n",
    "    return a+b+c\n",
    "s = dict(a=4, b=5, c=7)\n",
    "print(f(**s))"
   ]
  },
  {
   "cell_type": "code",
   "execution_count": 31,
   "id": "5b51a119",
   "metadata": {},
   "outputs": [
    {
     "name": "stdout",
     "output_type": "stream",
     "text": [
      "6\n",
      "9\n",
      "10\n",
      "3\n"
     ]
    }
   ],
   "source": [
    "def f(*, a=1, b=2, c=3):\n",
    "    return a+b+c\n",
    "print(f())\n",
    "print(f(a=4))\n",
    "print(f(b=4, a=3))\n",
    "print(3) #lỗi"
   ]
  },
  {
   "cell_type": "code",
   "execution_count": 32,
   "id": "388d4b79",
   "metadata": {},
   "outputs": [
    {
     "data": {
      "text/plain": [
       "15.0"
      ]
     },
     "execution_count": 32,
     "metadata": {},
     "output_type": "execute_result"
    }
   ],
   "source": [
    "area = lambda b, h: 0.5 * b * h\n",
    "area(5, 6)"
   ]
  },
  {
   "cell_type": "code",
   "execution_count": null,
   "id": "c66318ff",
   "metadata": {},
   "outputs": [],
   "source": []
  }
 ],
 "metadata": {
  "kernelspec": {
   "display_name": "Python 3 (ipykernel)",
   "language": "python",
   "name": "python3"
  },
  "language_info": {
   "codemirror_mode": {
    "name": "ipython",
    "version": 3
   },
   "file_extension": ".py",
   "mimetype": "text/x-python",
   "name": "python",
   "nbconvert_exporter": "python",
   "pygments_lexer": "ipython3",
   "version": "3.9.12"
  }
 },
 "nbformat": 4,
 "nbformat_minor": 5
}
