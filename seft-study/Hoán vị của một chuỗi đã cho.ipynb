{
 "cells": [
  {
   "cell_type": "code",
   "execution_count": 1,
   "id": "729e6660",
   "metadata": {},
   "outputs": [
    {
     "name": "stdout",
     "output_type": "stream",
     "text": [
      "Nhập vào một chuỗi: cat\n",
      "cat\n",
      "cta\n",
      "act\n",
      "atc\n",
      "tca\n",
      "tac\n"
     ]
    }
   ],
   "source": [
    "from itertools import permutations\n",
    "\n",
    "def allPermutations(str):\n",
    "    permList = permutations(str)\n",
    "    # print all permutations\n",
    "    for perm in list(permList):\n",
    "        print(''.join(perm))\n",
    "        \n",
    "# Driver program\n",
    "if __name__ == \"__main__\":\n",
    "    string = input(\"Nhập vào một chuỗi: \")\n",
    "    allPermutations(string)\n",
    "    "
   ]
  },
  {
   "cell_type": "code",
   "execution_count": null,
   "id": "729b154e",
   "metadata": {},
   "outputs": [],
   "source": []
  }
 ],
 "metadata": {
  "kernelspec": {
   "display_name": "Python 3 (ipykernel)",
   "language": "python",
   "name": "python3"
  },
  "language_info": {
   "codemirror_mode": {
    "name": "ipython",
    "version": 3
   },
   "file_extension": ".py",
   "mimetype": "text/x-python",
   "name": "python",
   "nbconvert_exporter": "python",
   "pygments_lexer": "ipython3",
   "version": "3.9.12"
  }
 },
 "nbformat": 4,
 "nbformat_minor": 5
}
