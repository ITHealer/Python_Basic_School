{
 "cells": [
  {
   "cell_type": "markdown",
   "id": "cba1f2b1",
   "metadata": {},
   "source": [
    "### Bài 8: Nhập độ dài ba cạnh a, b, c. Cho biết a, b, c có phải là ba cạnh của một tam giác không? Nếu là ba cạnh của một tam giác thì cho biết đó làm tam giác gì: đều, cân hay tam giác thường? "
   ]
  },
  {
   "cell_type": "code",
   "execution_count": 29,
   "id": "7b79f65a",
   "metadata": {},
   "outputs": [
    {
     "name": "stdout",
     "output_type": "stream",
     "text": [
      "a = 4\n",
      "b = 4\n",
      "c = 12\n",
      "4.0, 4.0, 12.0: không là độ dài của một tam giác!\n"
     ]
    }
   ],
   "source": [
    "a = float(input('a = '))\n",
    "b = float(input('b = '))\n",
    "c = float(input('c = ')) \n",
    "\n",
    "# a, b, c = map(float, input().split())\n",
    "\n",
    "def check_triangle(a, b, c):\n",
    "#   if a+b>c or a+c>b or b+c>a:\n",
    "    # check đk ngược lại \n",
    "    if a+b<c or a+c<b or b+c<a:\n",
    "        print(f'{a}, {b}, {c}: không là độ dài của một tam giác!')\n",
    "        return\n",
    "    if a==b and b==c:\n",
    "        print(f'{a}, {b}, {c} là độ dài của tam giác đều!')\n",
    "    elif (a==b and b!=c) or (b==c and c!=a) or (c==a and a!=b):\n",
    "        print(f'{a}, {b}, {c} là độ dài của tam giác cân!')\n",
    "    elif (a*a + b*b == c*c) or (b*b + c*c == a*a) or (c*c + a*a == b*b):\n",
    "        print(f'{a}, {b}, {c} là độ dài của tam giác vuông!')\n",
    "    elif (a==b and b!=c and 2*a*a == c*c) or (b==c and c!=a and 2*b*b == a*a) or (c==a and a!=b and 2*c*c == b*b):\n",
    "        print(f'{a}, {b}, {c} là độ dài của tam giác vuông cân!')\n",
    "    else: \n",
    "         print(f'{a}, {b}, {c} là độ dài của tam giác thường!')\n",
    "            \n",
    "check_triangle(a, b, c)"
   ]
  },
  {
   "attachments": {
    "image.png": {
     "image/png": "[encoded data removed]"
    }
   },
   "cell_type": "markdown",
   "id": "5b0be4d4",
   "metadata": {},
   "source": [
    "### Bài 10: Nhập n, k nguyên đảm bảo phải dương và k≤n. Tính tổ hợp chập k của n theo công thức:\n",
    "![image.png](attachment:image.png)"
   ]
  },
  {
   "cell_type": "code",
   "execution_count": 38,
   "id": "70333391",
   "metadata": {},
   "outputs": [],
   "source": [
    "# func manual\n",
    "def giai_thua(n):\n",
    "    gt=1\n",
    "    if n==0 or n==1:\n",
    "        return 1\n",
    "    else:\n",
    "        for i in range(1, n+1):\n",
    "            gt*=i\n",
    "    return gt"
   ]
  },
  {
   "cell_type": "code",
   "execution_count": 39,
   "id": "65bc2fe8",
   "metadata": {},
   "outputs": [],
   "source": [
    "# func manual\n",
    "def giai_thua_de_quy(n):\n",
    "    gt=1\n",
    "    if (n==0 or n==1):\n",
    "         return 1\n",
    "    return n*giai_thua_de_quy(n-1)"
   ]
  },
  {
   "cell_type": "code",
   "execution_count": 44,
   "id": "68e9d438",
   "metadata": {},
   "outputs": [
    {
     "name": "stdout",
     "output_type": "stream",
     "text": [
      "362880\n"
     ]
    }
   ],
   "source": [
    "# using library\n",
    "import math\n",
    "print(math.factorial(9))"
   ]
  },
  {
   "cell_type": "code",
   "execution_count": 48,
   "id": "b7ecf415",
   "metadata": {},
   "outputs": [],
   "source": [
    "# func manual tính tổ hợp\n",
    "def tohop_chap_k(n, k):\n",
    "    return ((giai_thua_de_quy(n)/((giai_thua_de_quy(k)*(giai_thua_de_quy(n-k))))))"
   ]
  },
  {
   "cell_type": "code",
   "execution_count": 49,
   "id": "2b5e4885",
   "metadata": {},
   "outputs": [
    {
     "data": {
      "text/plain": [
       "3.0"
      ]
     },
     "execution_count": 49,
     "metadata": {},
     "output_type": "execute_result"
    }
   ],
   "source": [
    "tohop_chap_k(3, 2)"
   ]
  },
  {
   "cell_type": "markdown",
   "id": "bf38afa7",
   "metadata": {},
   "source": [
    "### Bài 11: Tìm và in lên màn hình tất cả các số nguyên trong phạm vi từ 10 đến 99 sao cho tích của hai chữ số của nó thì bằng hai lần tổng của hai chữ số của nó. Ví dụ: số N=36 có hai chữ số là 3 và 6, và 3*6 = 2*(3+6). Tương tự đối với số 44."
   ]
  },
  {
   "cell_type": "code",
   "execution_count": 59,
   "id": "c1d12623",
   "metadata": {},
   "outputs": [],
   "source": [
    "def tich_2_so(n):\n",
    "    result = 1\n",
    "    while n!=0:\n",
    "        d=n%10\n",
    "        result*=d\n",
    "        n = n//10\n",
    "    return result"
   ]
  },
  {
   "cell_type": "code",
   "execution_count": 60,
   "id": "2328779d",
   "metadata": {},
   "outputs": [],
   "source": [
    "def tong_2_so(n):\n",
    "    result = 0\n",
    "    while n!=0:\n",
    "        d=n%10\n",
    "        result+=d\n",
    "        n = n//10\n",
    "    return result"
   ]
  },
  {
   "cell_type": "code",
   "execution_count": 66,
   "id": "c4addc47",
   "metadata": {},
   "outputs": [
    {
     "name": "stdout",
     "output_type": "stream",
     "text": [
      "36\n",
      "44\n",
      "63\n"
     ]
    }
   ],
   "source": [
    "def bai11():\n",
    "    for i in range(10, 100):\n",
    "        if tich_2_so(i) == 2*tong_2_so(i):\n",
    "            print(i)\n",
    "bai11()"
   ]
  },
  {
   "cell_type": "markdown",
   "id": "59ed1188",
   "metadata": {},
   "source": [
    "### Bài 13: Nhập một số nguyên n, cho biết đó là số nguyên tố hay không. Nếu không phải là số nguyên tố thì phân tích số đó thành tích các thừa số nguyên tố. Ví dụ nhập n=1470, khi đó tích các thừa số nguyên tố của n=2.3.5.7.7."
   ]
  },
  {
   "cell_type": "code",
   "execution_count": 68,
   "id": "7370d6b6",
   "metadata": {},
   "outputs": [],
   "source": [
    "def check_snt(n):\n",
    "    for i in range(2, n//2):\n",
    "        if n%i==0:\n",
    "            return 0\n",
    "    return 1"
   ]
  },
  {
   "cell_type": "code",
   "execution_count": 94,
   "id": "24788133",
   "metadata": {},
   "outputs": [],
   "source": [
    "def ptt_snt(n):\n",
    "    str_result=\"\"\n",
    "    if check_snt(n):\n",
    "        print(f'{n} là số nguyên tố!')\n",
    "    else:\n",
    "        for i in range(2, n):\n",
    "            count = 0\n",
    "            while n%i==0:\n",
    "                count=count+1\n",
    "                n=n/i\n",
    "                if count > 1:\n",
    "                    str_result=str_result+str(i)+\"*\"\n",
    "                else:\n",
    "                    str_result=str_result+str(i)+\"*\"\n",
    "    return str_result[:-1]"
   ]
  },
  {
   "cell_type": "code",
   "execution_count": 95,
   "id": "d1db40cb",
   "metadata": {},
   "outputs": [
    {
     "data": {
      "text/plain": [
       "'2*3*5*7*7'"
      ]
     },
     "execution_count": 95,
     "metadata": {},
     "output_type": "execute_result"
    }
   ],
   "source": [
    "ptt_snt(1470)"
   ]
  },
  {
   "cell_type": "code",
   "execution_count": null,
   "id": "210a4dbf",
   "metadata": {},
   "outputs": [],
   "source": []
  }
 ],
 "metadata": {
  "kernelspec": {
   "display_name": "Python 3 (ipykernel)",
   "language": "python",
   "name": "python3"
  },
  "language_info": {
   "codemirror_mode": {
    "name": "ipython",
    "version": 3
   },
   "file_extension": ".py",
   "mimetype": "text/x-python",
   "name": "python",
   "nbconvert_exporter": "python",
   "pygments_lexer": "ipython3",
   "version": "3.9.12"
  }
 },
 "nbformat": 4,
 "nbformat_minor": 5
}
