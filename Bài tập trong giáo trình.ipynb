{
 "cells": [
  {
   "cell_type": "code",
   "execution_count": 1,
   "id": "a4bb67c1",
   "metadata": {},
   "outputs": [],
   "source": [
    "import math"
   ]
  },
  {
   "attachments": {
    "image.png": {
     "image/png": "[encoded data removed]"
    }
   },
   "cell_type": "markdown",
   "id": "10fdee06",
   "metadata": {},
   "source": [
    "# Bài 2.1. Một quả bóng được ném thẳng đứng trong không khí từ độ cao h0 so với mặt đất với vận tốc ban đầu v0. Độ cao h và vận tốc v tiếp theo của nó được cho bởi các phương trình sau: \n",
    "![image.png](attachment:image.png)\n",
    "trong đó g=9.8m/s2 là gia tốc trọng\n",
    "trường. Viết đoạn chương trình tìm chiều cao và vận tốc v tại thời điểm t sau khi quả\n",
    "bóng được ném."
   ]
  },
  {
   "cell_type": "code",
   "execution_count": null,
   "id": "8c84fc4f",
   "metadata": {},
   "outputs": [],
   "source": []
  },
  {
   "attachments": {
    "image-2.png": {
     "image/png": "[encoded data removed]"
    },
    "image.png": {
     "image/png": "[encoded data removed]"
    }
   },
   "cell_type": "markdown",
   "id": "19776429",
   "metadata": {},
   "source": [
    "# Bài 2.2. Viết câu lệnh tính giá trị các biểu thức sau:\n",
    "![image.png](attachment:image.png)\n",
    "c = ![image-2.png](attachment:image-2.png)\n"
   ]
  },
  {
   "cell_type": "code",
   "execution_count": 4,
   "id": "1178b087",
   "metadata": {},
   "outputs": [
    {
     "data": {
      "text/plain": [
       "11.0"
      ]
     },
     "execution_count": 4,
     "metadata": {},
     "output_type": "execute_result"
    }
   ],
   "source": [
    "a = (2+pow(math.e, 2.8))//(math.sqrt(13)-2)\n",
    "a"
   ]
  },
  {
   "cell_type": "code",
   "execution_count": 5,
   "id": "63f7599b",
   "metadata": {},
   "outputs": [
    {
     "data": {
      "text/plain": [
       "0.26008973689431575"
      ]
     },
     "execution_count": 5,
     "metadata": {},
     "output_type": "execute_result"
    }
   ],
   "source": [
    "b = (1-(1+math.log(2))**(-3.5))/(1+math.sqrt(5))\n",
    "b"
   ]
  },
  {
   "cell_type": "code",
   "execution_count": 6,
   "id": "8cca00d2",
   "metadata": {},
   "outputs": [
    {
     "data": {
      "text/plain": [
       "0.9877659459927356"
      ]
     },
     "execution_count": 6,
     "metadata": {},
     "output_type": "execute_result"
    }
   ],
   "source": [
    "c = math.sin((2-math.sqrt(2))//2+math.sqrt(2))\n",
    "c"
   ]
  },
  {
   "cell_type": "markdown",
   "id": "975fcf01",
   "metadata": {},
   "source": [
    "# Bài 2.3. Viết chương trình nhập vào ba cạnh a, b, c của một tam giác. In ra màn hình chu vi, diện tích và các góc hợp bởi ba cạnh của tam giác đó."
   ]
  },
  {
   "cell_type": "code",
   "execution_count": null,
   "id": "1ae25d1f",
   "metadata": {},
   "outputs": [],
   "source": []
  }
 ],
 "metadata": {
  "kernelspec": {
   "display_name": "Python 3 (ipykernel)",
   "language": "python",
   "name": "python3"
  },
  "language_info": {
   "codemirror_mode": {
    "name": "ipython",
    "version": 3
   },
   "file_extension": ".py",
   "mimetype": "text/x-python",
   "name": "python",
   "nbconvert_exporter": "python",
   "pygments_lexer": "ipython3",
   "version": "3.9.12"
  }
 },
 "nbformat": 4,
 "nbformat_minor": 5
}
