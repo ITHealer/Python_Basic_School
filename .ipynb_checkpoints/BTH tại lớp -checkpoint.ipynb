{
 "cells": [
  {
   "cell_type": "markdown",
   "id": "e9874b14",
   "metadata": {},
   "source": [
    "# Bài 1"
   ]
  },
  {
   "cell_type": "code",
   "execution_count": 4,
   "id": "c7d781dc",
   "metadata": {},
   "outputs": [
    {
     "name": "stdout",
     "output_type": "stream",
     "text": [
      "Nhập vào số sinh viên n = 3\n",
      "Nhập vào điểm số sinh viên thứ 0\n",
      "8\n",
      "Nhập vào điểm số sinh viên thứ 1\n",
      "5\n",
      "Nhập vào điểm số sinh viên thứ 2\n",
      "6\n"
     ]
    }
   ],
   "source": [
    "# Nhập vào n sinh viên\n",
    "n = float(input('Nhập vào số sinh viên n = '))\n",
    "list_sv = []\n",
    "for sv in range(n):\n",
    "    print(f'Nhập vào điểm số sinh viên thứ {sv}')\n",
    "    score = float(input())\n",
    "    list_sv.append(score)\n",
    "    "
   ]
  },
  {
   "cell_type": "code",
   "execution_count": 23,
   "id": "7128aa90",
   "metadata": {},
   "outputs": [
    {
     "data": {
      "text/plain": [
       "[8, 5, 6]"
      ]
     },
     "execution_count": 23,
     "metadata": {},
     "output_type": "execute_result"
    }
   ],
   "source": [
    "list_sv"
   ]
  },
  {
   "cell_type": "code",
   "execution_count": 25,
   "id": "c02cb76a",
   "metadata": {},
   "outputs": [],
   "source": [
    "def Average(lst):\n",
    "    return sum(lst) / len(lst)"
   ]
  },
  {
   "cell_type": "code",
   "execution_count": 28,
   "id": "2132d5be",
   "metadata": {},
   "outputs": [
    {
     "name": "stdout",
     "output_type": "stream",
     "text": [
      "TB = 6.33\n"
     ]
    }
   ],
   "source": [
    "print(\"TB =\", round(Average(list_sv), 2))"
   ]
  },
  {
   "cell_type": "code",
   "execution_count": 7,
   "id": "cb9a2932",
   "metadata": {},
   "outputs": [
    {
     "data": {
      "text/plain": [
       "8"
      ]
     },
     "execution_count": 7,
     "metadata": {},
     "output_type": "execute_result"
    }
   ],
   "source": [
    "sv_max = max(list_sv)\n",
    "sv_max"
   ]
  },
  {
   "cell_type": "code",
   "execution_count": 12,
   "id": "059553ce",
   "metadata": {},
   "outputs": [
    {
     "data": {
      "text/plain": [
       "5"
      ]
     },
     "execution_count": 12,
     "metadata": {},
     "output_type": "execute_result"
    }
   ],
   "source": [
    "sv_min = min(list_sv)\n",
    "sv_min"
   ]
  },
  {
   "cell_type": "code",
   "execution_count": 21,
   "id": "b021e491",
   "metadata": {},
   "outputs": [],
   "source": [
    "def thongke(list):\n",
    "    g = 0\n",
    "    k = 0\n",
    "    tb = 0\n",
    "    y = 0\n",
    "    list_tk = []\n",
    "    for i in range(len(list)):\n",
    "        if list[i] >= 8:\n",
    "            g += 1\n",
    "        elif list[i] >= 6.5 and list[i] < 8:\n",
    "            k += 1\n",
    "        elif list[i] >= 5 and list[i] < 6.5:\n",
    "            tb += 1\n",
    "        else: \n",
    "            y += 1\n",
    "    list_tk.append(g)\n",
    "    list_tk.append(k)\n",
    "    list_tk.append(tb)\n",
    "    list_tk.append(y)\n",
    "    return list_tk"
   ]
  },
  {
   "cell_type": "code",
   "execution_count": 22,
   "id": "ed8f79ba",
   "metadata": {},
   "outputs": [
    {
     "name": "stdout",
     "output_type": "stream",
     "text": [
      "[1, 0, 2, 0]\n"
     ]
    }
   ],
   "source": [
    "print(thongke(list_sv))"
   ]
  },
  {
   "cell_type": "code",
   "execution_count": null,
   "id": "32c81a54",
   "metadata": {},
   "outputs": [],
   "source": []
  },
  {
   "cell_type": "markdown",
   "id": "ec30fb25",
   "metadata": {},
   "source": [
    "# BÀI 2"
   ]
  },
  {
   "cell_type": "markdown",
   "id": "ca87a82b",
   "metadata": {},
   "source": [
    "Chương trình quản lý danh bạ điện thoại gồm: họ tên, sđt\n",
    "\n",
    "1. Thêm 1 loạt sđt vào danh bạ. Kết thúc khi ng dùng k muốn nhập nữa\n",
    "\n",
    "2. Hiển thị tổng số ng có trong danh bạ. Sort theo họ tên A-Z\n",
    "\n",
    "3. Nhập vào xâu ký tự từ bàn phím, tìm và hiển thị all những ng có họ tên chứa xâu ký tự vừa nhập cùng sđt tương ứng \n",
    "\n",
    "4. Nhập vào chuỗi số, tìm và hiển thị ..."
   ]
  },
  {
   "cell_type": "code",
   "execution_count": 31,
   "id": "dd462a1e",
   "metadata": {},
   "outputs": [
    {
     "name": "stdout",
     "output_type": "stream",
     "text": [
      "Nhập vào số người muốn thêm vào danh bạ n = 4\n",
      "Nhập vào tên: \n",
      "Hoai\n",
      "Nhập vào sđt: \n",
      "0387058294\n",
      "Nhập vào tên: \n",
      "Hoa\n",
      "Nhập vào sđt: \n",
      "036115055\n",
      "Nhập vào tên: \n",
      "Nhi\n",
      "Nhập vào sđt: \n",
      "01838383333\n",
      "Nhập vào tên: \n",
      "phung\n",
      "Nhập vào sđt: \n",
      "18829299922\n"
     ]
    }
   ],
   "source": [
    "contact_Dict = {}\n",
    "\n",
    "n = int(input('Nhập vào số người muốn thêm vào danh bạ n = '))\n",
    "\n",
    "for contact in range(n):\n",
    "    print('Nhập vào tên: ')\n",
    "    ht = input()\n",
    "    print('Nhập vào sđt: ')\n",
    "    sdt = int(input())\n",
    "    contact_Dict[ht] = sdt"
   ]
  },
  {
   "cell_type": "code",
   "execution_count": 32,
   "id": "46a39cac",
   "metadata": {},
   "outputs": [
    {
     "name": "stdout",
     "output_type": "stream",
     "text": [
      "{'Hoai': 387058294, 'Hoa': 36115055, 'Nhi': 1838383333, 'phung': 18829299922}\n"
     ]
    }
   ],
   "source": [
    "print(contact_Dict)"
   ]
  },
  {
   "cell_type": "code",
   "execution_count": 34,
   "id": "5550c526",
   "metadata": {},
   "outputs": [
    {
     "name": "stdout",
     "output_type": "stream",
     "text": [
      "Có 4 người trong danh bạ\n"
     ]
    }
   ],
   "source": [
    "print(f'Có {len(contact_Dict)} người trong danh bạ')"
   ]
  },
  {
   "cell_type": "code",
   "execution_count": 36,
   "id": "abfddc31",
   "metadata": {},
   "outputs": [
    {
     "data": {
      "text/plain": [
       "['Hoa', 'Hoai', 'Nhi', 'phung']"
      ]
     },
     "execution_count": 36,
     "metadata": {},
     "output_type": "execute_result"
    }
   ],
   "source": [
    "contact_sorted = sorted(contact_Dict)\n",
    "contact_sorted"
   ]
  },
  {
   "cell_type": "code",
   "execution_count": 47,
   "id": "8466bb6a",
   "metadata": {},
   "outputs": [],
   "source": [
    "def search_data(lst):\n",
    "    lst_search = []\n",
    "    key = input('Nhập vào tên người cần tìm: ')\n",
    "    for k in lst.items():\n",
    "        if key in k.: \n",
    "            lst_search.append(lst)\n",
    "    return lst_search"
   ]
  },
  {
   "cell_type": "code",
   "execution_count": 48,
   "id": "d9dc357c",
   "metadata": {},
   "outputs": [
    {
     "name": "stdout",
     "output_type": "stream",
     "text": [
      "Nhập vào tên người cần tìm: Hoa\n",
      "('Hoai', 387058294)\n",
      "('Hoa', 36115055)\n",
      "('Nhi', 1838383333)\n",
      "('phung', 18829299922)\n",
      "None\n"
     ]
    }
   ],
   "source": [
    "print(search_data(contact_Dict))"
   ]
  },
  {
   "cell_type": "code",
   "execution_count": null,
   "id": "90de1095",
   "metadata": {},
   "outputs": [],
   "source": []
  }
 ],
 "metadata": {
  "kernelspec": {
   "display_name": "Python 3 (ipykernel)",
   "language": "python",
   "name": "python3"
  },
  "language_info": {
   "codemirror_mode": {
    "name": "ipython",
    "version": 3
   },
   "file_extension": ".py",
   "mimetype": "text/x-python",
   "name": "python",
   "nbconvert_exporter": "python",
   "pygments_lexer": "ipython3",
   "version": "3.9.12"
  }
 },
 "nbformat": 4,
 "nbformat_minor": 5
}
