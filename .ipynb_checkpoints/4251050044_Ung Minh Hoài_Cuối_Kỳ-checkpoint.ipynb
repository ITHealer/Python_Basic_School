{
 "cells": [
  {
   "cell_type": "markdown",
   "id": "83fb659c",
   "metadata": {},
   "source": [
    "# <p style=\"background-color:skyblue; font-family:newtimeroman; font-size:250%; text-align:center; border-radius: 15px 50px;\">Python 📝</p>"
   ]
  },
  {
   "cell_type": "markdown",
   "id": "94d80785",
   "metadata": {},
   "source": [
    "<p style=\"text-align:center\">\n",
    "    <a href=\"https://github.com/ITHealer?tab=repositories\" target=\"_blank\">\n",
    "    <img src=\"avatar_healer.jpg\" width=\"200\" alt=\"Logo link github\"  />\n",
    "    </a>\n",
    "    <b>4251050044 - Ung Minh Hoài</b> <br>\n",
    "</p>"
   ]
  },
  {
   "cell_type": "markdown",
   "id": "a7ef9ef4",
   "metadata": {},
   "source": [
    "## 1. Import library"
   ]
  },
  {
   "cell_type": "code",
   "execution_count": 3,
   "id": "876bcf31",
   "metadata": {},
   "outputs": [],
   "source": [
    "import numpy as np\n",
    "import pandas as pd\n",
    "import matplotlib.pyplot as plt\n",
    "%matplotlib inline"
   ]
  },
  {
   "cell_type": "markdown",
   "id": "0b63e02f",
   "metadata": {},
   "source": [
    "## Câu 1:"
   ]
  },
  {
   "cell_type": "markdown",
   "id": "38281ed4",
   "metadata": {},
   "source": [
    "## Demo"
   ]
  },
  {
   "cell_type": "markdown",
   "id": "50cf69de",
   "metadata": {},
   "source": [
    "### a. Khởi tạo danh bạ"
   ]
  },
  {
   "cell_type": "code",
   "execution_count": 39,
   "id": "4a4f272c",
   "metadata": {},
   "outputs": [
    {
     "name": "stdout",
     "output_type": "stream",
     "text": [
      "Nhập số lượng muốn thêm vào danh bạ: 2\n",
      "Nhập họ tên: hoai\n",
      "Nhập sđt: 111111111\n",
      "Nhập họ tên: hòa\n",
      "Nhập sđt: 2222222\n",
      "{'hoai': '111111111', 'hòa': '2222222'}\n"
     ]
    }
   ],
   "source": [
    "lst_danhba = {}\n",
    "def nhap_du_lieu():\n",
    "    n = int(input('Nhập số lượng muốn thêm vào danh bạ: '))\n",
    "    i = 0\n",
    "    while i < n:\n",
    "        hoten = input(\"Nhập họ tên: \")\n",
    "        sdt = input(\"Nhập sđt: \")\n",
    "        lst_danhba[hoten] = sdt\n",
    "        i = i + 1\n",
    "\n",
    "nhap_du_lieu()\n",
    "print(lst_danhba)"
   ]
  },
  {
   "cell_type": "markdown",
   "id": "416c3849",
   "metadata": {},
   "source": [
    "### b. Hiển thị tổng số người trong danh bạ"
   ]
  },
  {
   "cell_type": "code",
   "execution_count": 45,
   "id": "b6506913",
   "metadata": {},
   "outputs": [
    {
     "name": "stdout",
     "output_type": "stream",
     "text": [
      "Có 2 người trong danh bạ\n"
     ]
    }
   ],
   "source": [
    "print(f'Có {len(lst_danhba)} người trong danh bạ')"
   ]
  },
  {
   "cell_type": "markdown",
   "id": "29a15cf4",
   "metadata": {},
   "source": [
    "### c. Sắp xếp"
   ]
  },
  {
   "cell_type": "code",
   "execution_count": 46,
   "id": "1a3badea",
   "metadata": {},
   "outputs": [
    {
     "name": "stdout",
     "output_type": "stream",
     "text": [
      "hoai hòa "
     ]
    }
   ],
   "source": [
    "# cách 1:\n",
    "for i in sorted(lst_danhba.keys()):\n",
    "    print(i, end=\" \")"
   ]
  },
  {
   "cell_type": "code",
   "execution_count": 48,
   "id": "16e29f89",
   "metadata": {},
   "outputs": [
    {
     "name": "stdout",
     "output_type": "stream",
     "text": [
      "OrderedDict([('hoai', '111111111'), ('hòa', '2222222')])\n"
     ]
    }
   ],
   "source": [
    "# cách 2:\n",
    "from collections import OrderedDict\n",
    "\n",
    "lst_danhba = OrderedDict(sorted(lst_danhba.items()))\n",
    "print(lst_danhba)"
   ]
  },
  {
   "cell_type": "markdown",
   "id": "6b04e750",
   "metadata": {},
   "source": [
    "### d. Tìm sinh viên theo tên"
   ]
  },
  {
   "cell_type": "code",
   "execution_count": 49,
   "id": "c061e6af",
   "metadata": {},
   "outputs": [
    {
     "name": "stdout",
     "output_type": "stream",
     "text": [
      "Nhập số lượng muốn thêm vào danh bạ: 1\n",
      "Nhập họ tên: hien\n",
      "Nhập sđt: 2222\n"
     ]
    }
   ],
   "source": [
    "# nhập tên sv để tìm.\n",
    "nhap_du_lieu()"
   ]
  },
  {
   "cell_type": "code",
   "execution_count": 56,
   "id": "dfe230eb",
   "metadata": {},
   "outputs": [
    {
     "name": "stdout",
     "output_type": "stream",
     "text": [
      "2222\n"
     ]
    }
   ],
   "source": [
    "print(lst_danhba.get('hien'))"
   ]
  },
  {
   "cell_type": "markdown",
   "id": "c795673e",
   "metadata": {},
   "source": [
    "### e. Tìm sinh viên theo số điện thoại"
   ]
  },
  {
   "cell_type": "code",
   "execution_count": 57,
   "id": "f4b7964e",
   "metadata": {},
   "outputs": [
    {
     "name": "stdout",
     "output_type": "stream",
     "text": [
      "Nhập số lượng muốn thêm vào danh bạ: 1\n",
      "Nhập họ tên: anh\n",
      "Nhập sđt: 2222\n"
     ]
    }
   ],
   "source": [
    "# nhập số điện thoại sv để tìm.\n",
    "nhap_du_lieu()"
   ]
  },
  {
   "cell_type": "code",
   "execution_count": 74,
   "id": "0be44bbf",
   "metadata": {},
   "outputs": [],
   "source": [
    "def tim_theo_sdt():\n",
    "    sdt_tim = input('Nhap: ')\n",
    "    for hoten, sdt in lst_danhba.items(): \n",
    "        if sdt == sdt_tim:\n",
    "            print(hoten)"
   ]
  },
  {
   "cell_type": "code",
   "execution_count": 75,
   "id": "cbbc1b2a",
   "metadata": {},
   "outputs": [
    {
     "name": "stdout",
     "output_type": "stream",
     "text": [
      "Nhap: 2222\n",
      "hien\n",
      "anh\n"
     ]
    }
   ],
   "source": [
    "tim_theo_sdt()"
   ]
  },
  {
   "cell_type": "markdown",
   "id": "b03bfaf1",
   "metadata": {},
   "source": [
    "## Code chuẩn \n",
    "* Điều chỉnh thêm các hàm sắp xếp với tìm kiếm."
   ]
  },
  {
   "cell_type": "code",
   "execution_count": 1,
   "id": "e7b1b14d",
   "metadata": {},
   "outputs": [
    {
     "name": "stdout",
     "output_type": "stream",
     "text": [
      "-------------------\n",
      "1. Nhập danh sách sinh viên.\n",
      "2. Thêm sinh viên vào danh sách.\n",
      "3. Xóa sinh viên khỏi danh sách.\n",
      "4. Sửa sinh viên trong danh sách.\n",
      "5. Xem danh sách sinh viên.\n",
      "6. Thoát!.\n",
      "------------------------\n",
      "Vui lòng nhập lựa chọn: 1\n",
      "Nhập số sinh viên: 1\n",
      "Nhập sinh viên thứ  1\n",
      "Nhập mã sinh viên: 42\n",
      "Nhập họ tên: H\n",
      "Nhập lớp: 42\n",
      "Nhập giới tính sinh viên: Nam\n",
      "-------------------\n",
      "1. Nhập danh sách sinh viên.\n",
      "2. Thêm sinh viên vào danh sách.\n",
      "3. Xóa sinh viên khỏi danh sách.\n",
      "4. Sửa sinh viên trong danh sách.\n",
      "5. Xem danh sách sinh viên.\n",
      "6. Thoát!.\n",
      "------------------------\n",
      "Vui lòng nhập lựa chọn: 5\n",
      "[{'masv': 42, 'tensv': 'H', 'lopsv': '42', 'gioitinh': 'Nam'}]\n",
      "-------------------\n",
      "1. Nhập danh sách sinh viên.\n",
      "2. Thêm sinh viên vào danh sách.\n",
      "3. Xóa sinh viên khỏi danh sách.\n",
      "4. Sửa sinh viên trong danh sách.\n",
      "5. Xem danh sách sinh viên.\n",
      "6. Thoát!.\n",
      "------------------------\n",
      "Vui lòng nhập lựa chọn: 6\n"
     ]
    }
   ],
   "source": [
    "lsv = []\n",
    "def nhap():\n",
    "    for i in range(0,n,1):\n",
    "        print('Nhập sinh viên thứ ', i + 1)\n",
    "        masv = int(input('Nhập mã sinh viên: '))\n",
    "        tensv = input('Nhập họ tên: ')\n",
    "        lopsv = input('Nhập lớp: ')\n",
    "        gioitinh = (input('Nhập giới tính sinh viên: '))\n",
    "        d = {\"masv\":masv, \"tensv\":tensv, \"lopsv\":lopsv, \"gioitinh\":gioitinh}\n",
    "        lsv.append(d)\n",
    "\n",
    "def xoa():\n",
    "    tk = int(input('Nhập mã sinh viên cần xóa: '))\n",
    "    for i in range(0, len(lsv)):\n",
    "        if lsv[i].get(\"masv\") == tk:\n",
    "            lsv.remove(lsv[i])\n",
    "            print('Đã xóa sinh viên.')\n",
    "        else:\n",
    "            print('Không có trong danh sách sinh viên.')\n",
    "\n",
    "def sua():\n",
    "    tk = int(input('Nhập mã sinh viên cần sửa: '))\n",
    "    for i in range(0, len(lsv)):\n",
    "        if lsv[i].get(\"masv\") == tk:\n",
    "            masv = int(input(\"Nhập mã sinh viên: \"))\n",
    "            tensv = input('Nhập họ tên: ')\n",
    "            lopsv = input('Nhập lớp: ')\n",
    "            gioitinh = input('Nhập giới tính sinh viên: ')\n",
    "            d = {\"masv\":masv, \"tensv\":tensv, \"lopsv\":lopsv, \"gioitinh\":gioitinh}\n",
    "            lsv[i] = d\n",
    "        else:\n",
    "            print('Không có trong danh sách sinh viên.')\n",
    "\n",
    "def them():\n",
    "    print('Nhập thông tin sinh viên cần thêm: ')\n",
    "    masv = int(input(\"Nhập mã sinh viên: \"))\n",
    "    tensv = input('Nhập họ tên: ')\n",
    "    lopsv = input('Nhập lớp: ')\n",
    "    gioitinh = input('Nhập giới tính sinh viên: ')\n",
    "    d = {\"masv\":masv, \"tensv\":tensv, \"lopsv\":lopsv, \"gioitinh\":gioitinh}\n",
    "    lsv.append(d)\n",
    "\n",
    "def hienthi():\n",
    "    print(lsv[0:])\n",
    "\n",
    "while True:\n",
    "    print('''-------------------\n",
    "1. Nhập danh sách sinh viên.\n",
    "2. Thêm sinh viên vào danh sách.\n",
    "3. Xóa sinh viên khỏi danh sách.\n",
    "4. Sửa sinh viên trong danh sách.\n",
    "5. Xem danh sách sinh viên.\n",
    "6. Thoát!.\n",
    "------------------------''')\n",
    "    chon = int(input('Vui lòng nhập lựa chọn: '))\n",
    "    if chon == 1:\n",
    "        n = int(input('Nhập số sinh viên: '))\n",
    "        nhap()\n",
    "    if chon == 2:\n",
    "        them()\n",
    "    if chon == 3:\n",
    "        xoa()\n",
    "    if chon == 4:\n",
    "        sua()\n",
    "    if chon == 5:\n",
    "        hienthi()\n",
    "    if chon == 6:\n",
    "        break"
   ]
  },
  {
   "cell_type": "markdown",
   "id": "a128d146",
   "metadata": {},
   "source": [
    "## Câu 2: "
   ]
  },
  {
   "cell_type": "markdown",
   "id": "468c11a4",
   "metadata": {},
   "source": [
    "### a. Lưu dữ liệu"
   ]
  },
  {
   "cell_type": "code",
   "execution_count": 5,
   "id": "1e55d083",
   "metadata": {},
   "outputs": [],
   "source": [
    "msv = ['S01', 'S02', 'S03', 'S04']\n",
    "hoten = ['Nguyễn Quỳnh Anh', 'Trần Văn Nam', 'Nguyễn Thị Ngọc Hà', 'Lê Hoàng Nam']\n",
    "diem_qua_trinh = [9, 6, 8, 7]\n",
    "diem_thi = [7, 8, 7, 5]\n",
    "\n",
    "DS = zip(msv, hoten, diem_qua_trinh, diem_thi)\n",
    "data = pd.DataFrame(data = DS, columns=['msv', 'hoten', 'diem_qua_trinh', 'diem_thi'])\n",
    "data.to_csv('DiemLTCB.csv', index=False, header=True)"
   ]
  },
  {
   "cell_type": "markdown",
   "id": "97713e68",
   "metadata": {},
   "source": [
    "### b. Đọc dữ liệu"
   ]
  },
  {
   "cell_type": "code",
   "execution_count": 7,
   "id": "d5b2ec86",
   "metadata": {},
   "outputs": [
    {
     "data": {
      "text/html": [
       "<div>\n",
       "<style scoped>\n",
       "    .dataframe tbody tr th:only-of-type {\n",
       "        vertical-align: middle;\n",
       "    }\n",
       "\n",
       "    .dataframe tbody tr th {\n",
       "        vertical-align: top;\n",
       "    }\n",
       "\n",
       "    .dataframe thead th {\n",
       "        text-align: right;\n",
       "    }\n",
       "</style>\n",
       "<table border=\"1\" class=\"dataframe\">\n",
       "  <thead>\n",
       "    <tr style=\"text-align: right;\">\n",
       "      <th></th>\n",
       "      <th>msv</th>\n",
       "      <th>hoten</th>\n",
       "      <th>diem_qua_trinh</th>\n",
       "      <th>diem_thi</th>\n",
       "    </tr>\n",
       "  </thead>\n",
       "  <tbody>\n",
       "    <tr>\n",
       "      <th>0</th>\n",
       "      <td>S01</td>\n",
       "      <td>Nguyễn Quỳnh Anh</td>\n",
       "      <td>9</td>\n",
       "      <td>7</td>\n",
       "    </tr>\n",
       "    <tr>\n",
       "      <th>1</th>\n",
       "      <td>S02</td>\n",
       "      <td>Trần Văn Nam</td>\n",
       "      <td>6</td>\n",
       "      <td>8</td>\n",
       "    </tr>\n",
       "    <tr>\n",
       "      <th>2</th>\n",
       "      <td>S03</td>\n",
       "      <td>Nguyễn Thị Ngọc Hà</td>\n",
       "      <td>8</td>\n",
       "      <td>7</td>\n",
       "    </tr>\n",
       "    <tr>\n",
       "      <th>3</th>\n",
       "      <td>S04</td>\n",
       "      <td>Lê Hoàng Nam</td>\n",
       "      <td>7</td>\n",
       "      <td>5</td>\n",
       "    </tr>\n",
       "  </tbody>\n",
       "</table>\n",
       "</div>"
      ],
      "text/plain": [
       "   msv               hoten  diem_qua_trinh  diem_thi\n",
       "0  S01    Nguyễn Quỳnh Anh               9         7\n",
       "1  S02        Trần Văn Nam               6         8\n",
       "2  S03  Nguyễn Thị Ngọc Hà               8         7\n",
       "3  S04        Lê Hoàng Nam               7         5"
      ]
     },
     "execution_count": 7,
     "metadata": {},
     "output_type": "execute_result"
    }
   ],
   "source": [
    "df = pd.read_csv('DiemLTCB.csv')\n",
    "df"
   ]
  },
  {
   "cell_type": "markdown",
   "id": "4edfe220",
   "metadata": {},
   "source": [
    "### c. Lọc dữ liệu"
   ]
  },
  {
   "cell_type": "code",
   "execution_count": 8,
   "id": "38ac1b6f",
   "metadata": {},
   "outputs": [
    {
     "data": {
      "text/html": [
       "<div>\n",
       "<style scoped>\n",
       "    .dataframe tbody tr th:only-of-type {\n",
       "        vertical-align: middle;\n",
       "    }\n",
       "\n",
       "    .dataframe tbody tr th {\n",
       "        vertical-align: top;\n",
       "    }\n",
       "\n",
       "    .dataframe thead th {\n",
       "        text-align: right;\n",
       "    }\n",
       "</style>\n",
       "<table border=\"1\" class=\"dataframe\">\n",
       "  <thead>\n",
       "    <tr style=\"text-align: right;\">\n",
       "      <th></th>\n",
       "      <th>msv</th>\n",
       "      <th>hoten</th>\n",
       "      <th>diem_qua_trinh</th>\n",
       "      <th>diem_thi</th>\n",
       "    </tr>\n",
       "  </thead>\n",
       "  <tbody>\n",
       "    <tr>\n",
       "      <th>0</th>\n",
       "      <td>S01</td>\n",
       "      <td>Nguyễn Quỳnh Anh</td>\n",
       "      <td>9</td>\n",
       "      <td>7</td>\n",
       "    </tr>\n",
       "    <tr>\n",
       "      <th>2</th>\n",
       "      <td>S03</td>\n",
       "      <td>Nguyễn Thị Ngọc Hà</td>\n",
       "      <td>8</td>\n",
       "      <td>7</td>\n",
       "    </tr>\n",
       "  </tbody>\n",
       "</table>\n",
       "</div>"
      ],
      "text/plain": [
       "   msv               hoten  diem_qua_trinh  diem_thi\n",
       "0  S01    Nguyễn Quỳnh Anh               9         7\n",
       "2  S03  Nguyễn Thị Ngọc Hà               8         7"
      ]
     },
     "execution_count": 8,
     "metadata": {},
     "output_type": "execute_result"
    }
   ],
   "source": [
    "loc_sv = df[(df['diem_qua_trinh'] > 6.0) & (df['diem_thi'] >= 7.0)]\n",
    "loc_sv"
   ]
  },
  {
   "cell_type": "markdown",
   "id": "7c9ff4f2",
   "metadata": {},
   "source": [
    "## Câu 3:"
   ]
  },
  {
   "cell_type": "markdown",
   "id": "ac742f47",
   "metadata": {},
   "source": [
    "### a. Vẽ biểu đồ"
   ]
  },
  {
   "cell_type": "code",
   "execution_count": 13,
   "id": "d9f80338",
   "metadata": {},
   "outputs": [
    {
     "data": {
      "image/png": "[encoded data removed]",
      "text/plain": [
       "<Figure size 720x504 with 1 Axes>"
      ]
     },
     "metadata": {
      "needs_background": "light"
     },
     "output_type": "display_data"
    }
   ],
   "source": [
    "plt.figure(figsize = (10,7))\n",
    "plt.bar(df.msv, df.diem_qua_trinh, color='green')\n",
    "plt.xlabel('Mã SV')\n",
    "plt.ylabel('Điểm quá trình')\n",
    "plt.title('Biểu đồ điểm quá trình của SV')\n",
    "plt.grid(color = 'green', linestyle = '--', linewidth = 0.5)\n",
    "plt.show()"
   ]
  },
  {
   "cell_type": "markdown",
   "id": "743bf618",
   "metadata": {},
   "source": [
    "### b. Lưu biểu đồ"
   ]
  },
  {
   "cell_type": "code",
   "execution_count": 14,
   "id": "5baa4d4f",
   "metadata": {},
   "outputs": [
    {
     "data": {
      "text/plain": [
       "<Figure size 432x288 with 0 Axes>"
      ]
     },
     "metadata": {},
     "output_type": "display_data"
    }
   ],
   "source": [
    "plt.savefig('DiemQT.png')"
   ]
  },
  {
   "cell_type": "markdown",
   "id": "fe3cb7b1",
   "metadata": {},
   "source": [
    "## End"
   ]
  }
 ],
 "metadata": {
  "kernelspec": {
   "display_name": "Python 3 (ipykernel)",
   "language": "python",
   "name": "python3"
  },
  "language_info": {
   "codemirror_mode": {
    "name": "ipython",
    "version": 3
   },
   "file_extension": ".py",
   "mimetype": "text/x-python",
   "name": "python",
   "nbconvert_exporter": "python",
   "pygments_lexer": "ipython3",
   "version": "3.9.12"
  }
 },
 "nbformat": 4,
 "nbformat_minor": 5
}
