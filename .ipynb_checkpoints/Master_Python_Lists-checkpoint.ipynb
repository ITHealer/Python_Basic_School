{
 "cells": [
  {
   "cell_type": "code",
   "execution_count": 26,
   "id": "5e42030d",
   "metadata": {},
   "outputs": [],
   "source": [
    "import pandas as pd"
   ]
  },
  {
   "cell_type": "code",
   "execution_count": 27,
   "id": "ae5da066",
   "metadata": {},
   "outputs": [
    {
     "data": {
      "text/html": [
       "<div>\n",
       "<style scoped>\n",
       "    .dataframe tbody tr th:only-of-type {\n",
       "        vertical-align: middle;\n",
       "    }\n",
       "\n",
       "    .dataframe tbody tr th {\n",
       "        vertical-align: top;\n",
       "    }\n",
       "\n",
       "    .dataframe thead th {\n",
       "        text-align: right;\n",
       "    }\n",
       "</style>\n",
       "<table border=\"1\" class=\"dataframe\">\n",
       "  <thead>\n",
       "    <tr style=\"text-align: right;\">\n",
       "      <th></th>\n",
       "      <th>restaurant</th>\n",
       "      <th>area</th>\n",
       "      <th>postalcode</th>\n",
       "      <th>city</th>\n",
       "    </tr>\n",
       "  </thead>\n",
       "  <tbody>\n",
       "    <tr>\n",
       "      <th>0</th>\n",
       "      <td>Jogi</td>\n",
       "      <td>H.platz</td>\n",
       "      <td>52062</td>\n",
       "      <td>Aachen</td>\n",
       "    </tr>\n",
       "    <tr>\n",
       "      <th>1</th>\n",
       "      <td>Terminal 1</td>\n",
       "      <td>Vaihingen</td>\n",
       "      <td>70752</td>\n",
       "      <td>Stuttgart</td>\n",
       "    </tr>\n",
       "    <tr>\n",
       "      <th>2</th>\n",
       "      <td>India Club</td>\n",
       "      <td>Alex.graben</td>\n",
       "      <td>52064</td>\n",
       "      <td>Berlin</td>\n",
       "    </tr>\n",
       "  </tbody>\n",
       "</table>\n",
       "</div>"
      ],
      "text/plain": [
       "   restaurant         area postalcode       city\n",
       "0        Jogi      H.platz      52062     Aachen\n",
       "1  Terminal 1    Vaihingen      70752  Stuttgart\n",
       "2  India Club  Alex.graben      52064     Berlin"
      ]
     },
     "execution_count": 27,
     "metadata": {},
     "output_type": "execute_result"
    }
   ],
   "source": [
    "data = {\"restaurant\": [\"Jogi\", \"Terminal 1\", \"India Club\"],\\\n",
    "        \"area\": [\"H.platz\", \"Vaihingen\", \"Alex.graben\"],\\\n",
    "        \"postalcode\": [\"52062\", \"70752\", \"52064\"],\\\n",
    "        \"city\": [\"Aachen\", \"Stuttgart\", \"Berlin\"]}\n",
    "df = pd.DataFrame(data)\n",
    "df.head()"
   ]
  },
  {
   "cell_type": "code",
   "execution_count": 28,
   "id": "11c69117",
   "metadata": {},
   "outputs": [
    {
     "data": {
      "text/html": [
       "<div>\n",
       "<style scoped>\n",
       "    .dataframe tbody tr th:only-of-type {\n",
       "        vertical-align: middle;\n",
       "    }\n",
       "\n",
       "    .dataframe tbody tr th {\n",
       "        vertical-align: top;\n",
       "    }\n",
       "\n",
       "    .dataframe thead th {\n",
       "        text-align: right;\n",
       "    }\n",
       "</style>\n",
       "<table border=\"1\" class=\"dataframe\">\n",
       "  <thead>\n",
       "    <tr style=\"text-align: right;\">\n",
       "      <th></th>\n",
       "      <th>restaurant</th>\n",
       "      <th>area</th>\n",
       "      <th>postalcode</th>\n",
       "      <th>city</th>\n",
       "      <th>Address</th>\n",
       "    </tr>\n",
       "  </thead>\n",
       "  <tbody>\n",
       "    <tr>\n",
       "      <th>0</th>\n",
       "      <td>Jogi</td>\n",
       "      <td>H.platz</td>\n",
       "      <td>52062</td>\n",
       "      <td>Aachen</td>\n",
       "      <td>Jogi, H.platz, 52062, Aachen</td>\n",
       "    </tr>\n",
       "    <tr>\n",
       "      <th>1</th>\n",
       "      <td>Terminal 1</td>\n",
       "      <td>Vaihingen</td>\n",
       "      <td>70752</td>\n",
       "      <td>Stuttgart</td>\n",
       "      <td>Terminal 1, Vaihingen, 70752, Stuttgart</td>\n",
       "    </tr>\n",
       "    <tr>\n",
       "      <th>2</th>\n",
       "      <td>India Club</td>\n",
       "      <td>Alex.graben</td>\n",
       "      <td>52064</td>\n",
       "      <td>Berlin</td>\n",
       "      <td>India Club, Alex.graben, 52064, Berlin</td>\n",
       "    </tr>\n",
       "  </tbody>\n",
       "</table>\n",
       "</div>"
      ],
      "text/plain": [
       "   restaurant         area postalcode       city  \\\n",
       "0        Jogi      H.platz      52062     Aachen   \n",
       "1  Terminal 1    Vaihingen      70752  Stuttgart   \n",
       "2  India Club  Alex.graben      52064     Berlin   \n",
       "\n",
       "                                   Address  \n",
       "0             Jogi, H.platz, 52062, Aachen  \n",
       "1  Terminal 1, Vaihingen, 70752, Stuttgart  \n",
       "2   India Club, Alex.graben, 52064, Berlin  "
      ]
     },
     "execution_count": 28,
     "metadata": {},
     "output_type": "execute_result"
    }
   ],
   "source": [
    "df[\"Address\"] = df[df.columns[0:]].apply(lambda x: ', '.join(x), axis=1)\n",
    "df.head()"
   ]
  },
  {
   "cell_type": "code",
   "execution_count": null,
   "id": "50946ea7",
   "metadata": {},
   "outputs": [],
   "source": []
  },
  {
   "cell_type": "markdown",
   "id": "50a3aeac",
   "metadata": {},
   "source": [
    "## Create list by List Comprehension"
   ]
  },
  {
   "cell_type": "code",
   "execution_count": 4,
   "id": "08b586ff",
   "metadata": {},
   "outputs": [
    {
     "data": {
      "text/plain": [
       "['A', 'B', 'C', 'D']"
      ]
     },
     "execution_count": 4,
     "metadata": {},
     "output_type": "execute_result"
    }
   ],
   "source": [
    "mylist = [i for i in \"ABCD\"]\n",
    "mylist"
   ]
  },
  {
   "cell_type": "markdown",
   "id": "f0b82b13",
   "metadata": {},
   "source": [
    "### Adds an item at the end of the list --> append()"
   ]
  },
  {
   "cell_type": "code",
   "execution_count": 5,
   "id": "06a19bf2",
   "metadata": {},
   "outputs": [
    {
     "data": {
      "text/plain": [
       "['A', 'B', 'C', 'D', [100, 200]]"
      ]
     },
     "execution_count": 5,
     "metadata": {},
     "output_type": "execute_result"
    }
   ],
   "source": [
    "mylist.append([100, 200])\n",
    "mylist"
   ]
  },
  {
   "cell_type": "markdown",
   "id": "3da3b6de",
   "metadata": {},
   "source": [
    "### Add the items of a iterable, to the end of the current list --> extend()"
   ]
  },
  {
   "cell_type": "code",
   "execution_count": 6,
   "id": "7fb14367",
   "metadata": {},
   "outputs": [
    {
     "name": "stdout",
     "output_type": "stream",
     "text": [
      "['A', 'B', 'C', 'D', [100, 200], 'T', 'H', 'I', 'S']\n"
     ]
    }
   ],
   "source": [
    "mylist.extend(\"THIS\")\n",
    "print(mylist)"
   ]
  },
  {
   "cell_type": "markdown",
   "id": "e21034da",
   "metadata": {},
   "source": [
    "### Add an item at the specified position --> insert() (thêm vào vị trí chỉ định)"
   ]
  },
  {
   "cell_type": "code",
   "execution_count": 7,
   "id": "6b5262ce",
   "metadata": {},
   "outputs": [
    {
     "name": "stdout",
     "output_type": "stream",
     "text": [
      "['A', 20.35, 'B', 'C', 'D', [100, 200], 'T', 'H', 'I', 'S']\n"
     ]
    }
   ],
   "source": [
    "mylist.insert(1, 20.35)\n",
    "print(mylist)"
   ]
  },
  {
   "cell_type": "markdown",
   "id": "9c275646",
   "metadata": {},
   "source": [
    "### Remove the first occurence of specified item --> remove()"
   ]
  },
  {
   "cell_type": "code",
   "execution_count": 8,
   "id": "5080bef7",
   "metadata": {},
   "outputs": [
    {
     "name": "stdout",
     "output_type": "stream",
     "text": [
      "['A', 20.35, 'B', 'C', 'D', [100, 200], 'T', 'I', 'S']\n"
     ]
    }
   ],
   "source": [
    "mylist.remove(\"H\")\n",
    "print(mylist)"
   ]
  },
  {
   "cell_type": "markdown",
   "id": "b2339387",
   "metadata": {},
   "source": [
    "### Removes the item at the specified position --> pop(index) (xóa phần tử dựa vào vị trí)"
   ]
  },
  {
   "cell_type": "code",
   "execution_count": 9,
   "id": "6c3291be",
   "metadata": {},
   "outputs": [
    {
     "data": {
      "text/plain": [
       "'D'"
      ]
     },
     "execution_count": 9,
     "metadata": {},
     "output_type": "execute_result"
    }
   ],
   "source": [
    "mylist.pop(-5)"
   ]
  },
  {
   "cell_type": "markdown",
   "id": "45275ce9",
   "metadata": {},
   "source": [
    "### Removes the item at the end of the list --> pop()"
   ]
  },
  {
   "cell_type": "code",
   "execution_count": 10,
   "id": "f8044f69",
   "metadata": {},
   "outputs": [
    {
     "data": {
      "text/plain": [
       "'S'"
      ]
     },
     "execution_count": 10,
     "metadata": {},
     "output_type": "execute_result"
    }
   ],
   "source": [
    "mylist.pop()"
   ]
  },
  {
   "cell_type": "markdown",
   "id": "9a08fddb",
   "metadata": {},
   "source": [
    "### Get the index of the first occurence of the specified item --> index() (vị trí)"
   ]
  },
  {
   "cell_type": "code",
   "execution_count": 11,
   "id": "9c983825",
   "metadata": {},
   "outputs": [
    {
     "data": {
      "text/plain": [
       "6"
      ]
     },
     "execution_count": 11,
     "metadata": {},
     "output_type": "execute_result"
    }
   ],
   "source": [
    "mylist.index(\"I\")"
   ]
  },
  {
   "cell_type": "markdown",
   "id": "ec8cd471",
   "metadata": {},
   "source": [
    "### Reverse the order of the list --> reverse() (đảo ngược)"
   ]
  },
  {
   "cell_type": "code",
   "execution_count": 12,
   "id": "92acee98",
   "metadata": {},
   "outputs": [
    {
     "name": "stdout",
     "output_type": "stream",
     "text": [
      "['I', 'T', [100, 200], 'C', 'B', 20.35, 'A']\n"
     ]
    }
   ],
   "source": [
    "mylist.reverse()\n",
    "print(mylist)"
   ]
  },
  {
   "cell_type": "markdown",
   "id": "e906c425",
   "metadata": {},
   "source": [
    "### Đếm số lần xuất hiện của phần tử được chỉ định"
   ]
  },
  {
   "cell_type": "code",
   "execution_count": 13,
   "id": "68e3b1b1",
   "metadata": {},
   "outputs": [
    {
     "data": {
      "text/plain": [
       "1"
      ]
     },
     "execution_count": 13,
     "metadata": {},
     "output_type": "execute_result"
    }
   ],
   "source": [
    "mylist.count(\"I\")"
   ]
  },
  {
   "cell_type": "markdown",
   "id": "65661c48",
   "metadata": {},
   "source": [
    "### Sort the list --> sort()"
   ]
  },
  {
   "cell_type": "code",
   "execution_count": 17,
   "id": "238b859f",
   "metadata": {},
   "outputs": [
    {
     "name": "stdout",
     "output_type": "stream",
     "text": [
      "['A', 'B', 'C', 'I', 'T']\n"
     ]
    }
   ],
   "source": [
    "mylist.remove(20.35)\n",
    "mylist.remove([100, 200])\n",
    "mylist.sort()\n",
    "print(mylist)"
   ]
  },
  {
   "cell_type": "code",
   "execution_count": 18,
   "id": "d6630e3e",
   "metadata": {},
   "outputs": [
    {
     "data": {
      "text/plain": [
       "True"
      ]
     },
     "execution_count": 18,
     "metadata": {},
     "output_type": "execute_result"
    }
   ],
   "source": [
    "\"T\" in mylist"
   ]
  },
  {
   "cell_type": "code",
   "execution_count": 19,
   "id": "9a4a759b",
   "metadata": {},
   "outputs": [
    {
     "data": {
      "text/plain": [
       "True"
      ]
     },
     "execution_count": 19,
     "metadata": {},
     "output_type": "execute_result"
    }
   ],
   "source": [
    "20.35 not in mylist"
   ]
  },
  {
   "cell_type": "markdown",
   "id": "736d0397",
   "metadata": {},
   "source": [
    "### Create a new list by copying mylist --> copy()"
   ]
  },
  {
   "cell_type": "code",
   "execution_count": 20,
   "id": "e6648baa",
   "metadata": {},
   "outputs": [
    {
     "name": "stdout",
     "output_type": "stream",
     "text": [
      "['A', 'B', 'C', 'I', 'T']\n"
     ]
    }
   ],
   "source": [
    "newlist = mylist.copy()\n",
    "print(newlist)"
   ]
  },
  {
   "cell_type": "markdown",
   "id": "5849a5ad",
   "metadata": {},
   "source": [
    "### Lấy chỉ mục và các mục tại các chỉ mục đó từ danh sách"
   ]
  },
  {
   "cell_type": "code",
   "execution_count": 21,
   "id": "638c5f36",
   "metadata": {},
   "outputs": [
    {
     "name": "stdout",
     "output_type": "stream",
     "text": [
      "mylist[0] = A\n",
      "mylist[1] = B\n",
      "mylist[2] = C\n",
      "mylist[3] = I\n",
      "mylist[4] = T\n"
     ]
    }
   ],
   "source": [
    "for idx in range(0,len(mylist)):\n",
    "    print(f\"mylist[{idx}] = {mylist[idx]}\")"
   ]
  },
  {
   "cell_type": "markdown",
   "id": "b9227d7d",
   "metadata": {},
   "source": [
    "### Đảo ngược chỉ mục"
   ]
  },
  {
   "cell_type": "code",
   "execution_count": 22,
   "id": "0b25487b",
   "metadata": {},
   "outputs": [
    {
     "name": "stdout",
     "output_type": "stream",
     "text": [
      "mylist[-5] = A\n",
      "mylist[-4] = B\n",
      "mylist[-3] = C\n",
      "mylist[-2] = I\n",
      "mylist[-1] = T\n"
     ]
    }
   ],
   "source": [
    "import numpy as np\n",
    "for idx in list(np.arange(len(mylist),0,-1)*-1):\n",
    "    print(f\"mylist[{idx}] = {mylist[idx]}\")"
   ]
  },
  {
   "cell_type": "code",
   "execution_count": 23,
   "id": "efe586fd",
   "metadata": {},
   "outputs": [
    {
     "data": {
      "text/plain": [
       "5"
      ]
     },
     "execution_count": 23,
     "metadata": {},
     "output_type": "execute_result"
    }
   ],
   "source": [
    "len(mylist)"
   ]
  },
  {
   "cell_type": "markdown",
   "id": "17d729f4",
   "metadata": {},
   "source": [
    "### Remove all items from the list --> clear()"
   ]
  },
  {
   "cell_type": "code",
   "execution_count": 24,
   "id": "3753e5f7",
   "metadata": {},
   "outputs": [
    {
     "name": "stdout",
     "output_type": "stream",
     "text": [
      "[]\n"
     ]
    }
   ],
   "source": [
    "mylist.clear()\n",
    "print(mylist)"
   ]
  },
  {
   "cell_type": "markdown",
   "id": "4d3fdea0",
   "metadata": {},
   "source": [
    "### Delete the list --> del(name_of_list)"
   ]
  },
  {
   "cell_type": "code",
   "execution_count": 25,
   "id": "86b292ae",
   "metadata": {},
   "outputs": [],
   "source": [
    "del(mylist)"
   ]
  },
  {
   "cell_type": "code",
   "execution_count": null,
   "id": "9ea0e264",
   "metadata": {},
   "outputs": [],
   "source": []
  }
 ],
 "metadata": {
  "kernelspec": {
   "display_name": "Python 3 (ipykernel)",
   "language": "python",
   "name": "python3"
  },
  "language_info": {
   "codemirror_mode": {
    "name": "ipython",
    "version": 3
   },
   "file_extension": ".py",
   "mimetype": "text/x-python",
   "name": "python",
   "nbconvert_exporter": "python",
   "pygments_lexer": "ipython3",
   "version": "3.9.12"
  }
 },
 "nbformat": 4,
 "nbformat_minor": 5
}
