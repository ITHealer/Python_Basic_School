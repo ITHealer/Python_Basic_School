{
 "cells": [
  {
   "cell_type": "code",
   "execution_count": 1,
   "id": "831ef0e1",
   "metadata": {},
   "outputs": [],
   "source": [
    "import pandas as pd"
   ]
  },
  {
   "cell_type": "code",
   "execution_count": 2,
   "id": "19a53135",
   "metadata": {},
   "outputs": [
    {
     "data": {
      "text/html": [
       "<div>\n",
       "<style scoped>\n",
       "    .dataframe tbody tr th:only-of-type {\n",
       "        vertical-align: middle;\n",
       "    }\n",
       "\n",
       "    .dataframe tbody tr th {\n",
       "        vertical-align: top;\n",
       "    }\n",
       "\n",
       "    .dataframe thead th {\n",
       "        text-align: right;\n",
       "    }\n",
       "</style>\n",
       "<table border=\"1\" class=\"dataframe\">\n",
       "  <thead>\n",
       "    <tr style=\"text-align: right;\">\n",
       "      <th></th>\n",
       "      <th>Unnamed: 0</th>\n",
       "      <th>hoten</th>\n",
       "      <th>ngaysinh</th>\n",
       "      <th>gioitinh</th>\n",
       "      <th>td_CN</th>\n",
       "      <th>td_ThS</th>\n",
       "      <th>td_TS</th>\n",
       "      <th>sodt</th>\n",
       "      <th>huutri</th>\n",
       "      <th>hsl</th>\n",
       "      <th>luongcb</th>\n",
       "    </tr>\n",
       "  </thead>\n",
       "  <tbody>\n",
       "    <tr>\n",
       "      <th>0</th>\n",
       "      <td>0</td>\n",
       "      <td>Nguyễn Thị Lệ</td>\n",
       "      <td>01/01/45</td>\n",
       "      <td>0</td>\n",
       "      <td>1</td>\n",
       "      <td>1</td>\n",
       "      <td>0</td>\n",
       "      <td>915030909</td>\n",
       "      <td>1</td>\n",
       "      <td>6.40</td>\n",
       "      <td>8640000.0</td>\n",
       "    </tr>\n",
       "    <tr>\n",
       "      <th>1</th>\n",
       "      <td>1</td>\n",
       "      <td>Lê Văn Tài</td>\n",
       "      <td>21/10/76</td>\n",
       "      <td>1</td>\n",
       "      <td>1</td>\n",
       "      <td>1</td>\n",
       "      <td>1</td>\n",
       "      <td>902524444</td>\n",
       "      <td>0</td>\n",
       "      <td>3.99</td>\n",
       "      <td>5386500.0</td>\n",
       "    </tr>\n",
       "    <tr>\n",
       "      <th>2</th>\n",
       "      <td>2</td>\n",
       "      <td>Hồ Hữu Hoàn</td>\n",
       "      <td>03/03/90</td>\n",
       "      <td>1</td>\n",
       "      <td>0</td>\n",
       "      <td>0</td>\n",
       "      <td>0</td>\n",
       "      <td>232321234</td>\n",
       "      <td>0</td>\n",
       "      <td>2.97</td>\n",
       "      <td>4009500.0</td>\n",
       "    </tr>\n",
       "    <tr>\n",
       "      <th>3</th>\n",
       "      <td>3</td>\n",
       "      <td>Lý Thị Lựu</td>\n",
       "      <td>30/04/01</td>\n",
       "      <td>0</td>\n",
       "      <td>1</td>\n",
       "      <td>1</td>\n",
       "      <td>0</td>\n",
       "      <td>170239311</td>\n",
       "      <td>1</td>\n",
       "      <td>5.40</td>\n",
       "      <td>7290000.0</td>\n",
       "    </tr>\n",
       "    <tr>\n",
       "      <th>4</th>\n",
       "      <td>4</td>\n",
       "      <td>Trần Trọng Chí</td>\n",
       "      <td>01/09/63</td>\n",
       "      <td>1</td>\n",
       "      <td>1</td>\n",
       "      <td>0</td>\n",
       "      <td>0</td>\n",
       "      <td>904031234</td>\n",
       "      <td>0</td>\n",
       "      <td>4.20</td>\n",
       "      <td>5670000.0</td>\n",
       "    </tr>\n",
       "    <tr>\n",
       "      <th>5</th>\n",
       "      <td>5</td>\n",
       "      <td>Phè Văn Phởn</td>\n",
       "      <td>22/09/04</td>\n",
       "      <td>1</td>\n",
       "      <td>1</td>\n",
       "      <td>1</td>\n",
       "      <td>1</td>\n",
       "      <td>907234445</td>\n",
       "      <td>1</td>\n",
       "      <td>8.20</td>\n",
       "      <td>11070000.0</td>\n",
       "    </tr>\n",
       "  </tbody>\n",
       "</table>\n",
       "</div>"
      ],
      "text/plain": [
       "   Unnamed: 0           hoten  ngaysinh  gioitinh  td_CN  td_ThS  td_TS  \\\n",
       "0           0   Nguyễn Thị Lệ  01/01/45         0      1       1      0   \n",
       "1           1      Lê Văn Tài  21/10/76         1      1       1      1   \n",
       "2           2     Hồ Hữu Hoàn  03/03/90         1      0       0      0   \n",
       "3           3      Lý Thị Lựu  30/04/01         0      1       1      0   \n",
       "4           4  Trần Trọng Chí  01/09/63         1      1       0      0   \n",
       "5           5    Phè Văn Phởn  22/09/04         1      1       1      1   \n",
       "\n",
       "        sodt  huutri   hsl     luongcb  \n",
       "0  915030909       1  6.40   8640000.0  \n",
       "1  902524444       0  3.99   5386500.0  \n",
       "2  232321234       0  2.97   4009500.0  \n",
       "3  170239311       1  5.40   7290000.0  \n",
       "4  904031234       0  4.20   5670000.0  \n",
       "5  907234445       1  8.20  11070000.0  "
      ]
     },
     "execution_count": 2,
     "metadata": {},
     "output_type": "execute_result"
    }
   ],
   "source": [
    "df = pd.read_csv('bai58.csv')\n",
    "df"
   ]
  },
  {
   "cell_type": "markdown",
   "id": "fccc733e",
   "metadata": {},
   "source": [
    "# 1. Đếm số nhân viên có giới tính là Nữ (giá trị 0), số nhân viên có giới tính là Nam (giá trị 1)."
   ]
  },
  {
   "cell_type": "code",
   "execution_count": 7,
   "id": "da6a4710",
   "metadata": {},
   "outputs": [
    {
     "data": {
      "text/html": [
       "<div>\n",
       "<style scoped>\n",
       "    .dataframe tbody tr th:only-of-type {\n",
       "        vertical-align: middle;\n",
       "    }\n",
       "\n",
       "    .dataframe tbody tr th {\n",
       "        vertical-align: top;\n",
       "    }\n",
       "\n",
       "    .dataframe thead th {\n",
       "        text-align: right;\n",
       "    }\n",
       "</style>\n",
       "<table border=\"1\" class=\"dataframe\">\n",
       "  <thead>\n",
       "    <tr style=\"text-align: right;\">\n",
       "      <th></th>\n",
       "      <th>gioitinh</th>\n",
       "      <th>số lượng</th>\n",
       "    </tr>\n",
       "  </thead>\n",
       "  <tbody>\n",
       "    <tr>\n",
       "      <th>0</th>\n",
       "      <td>0</td>\n",
       "      <td>2</td>\n",
       "    </tr>\n",
       "    <tr>\n",
       "      <th>1</th>\n",
       "      <td>1</td>\n",
       "      <td>4</td>\n",
       "    </tr>\n",
       "  </tbody>\n",
       "</table>\n",
       "</div>"
      ],
      "text/plain": [
       "   gioitinh  số lượng\n",
       "0         0         2\n",
       "1         1         4"
      ]
     },
     "execution_count": 7,
     "metadata": {},
     "output_type": "execute_result"
    }
   ],
   "source": [
    "count_staff_female = df.groupby('gioitinh')['gioitinh'].size().reset_index(name='số lượng')\n",
    "count_staff_female"
   ]
  },
  {
   "cell_type": "code",
   "execution_count": 45,
   "id": "54d5b4e0",
   "metadata": {},
   "outputs": [
    {
     "data": {
      "text/plain": [
       "2"
      ]
     },
     "execution_count": 45,
     "metadata": {},
     "output_type": "execute_result"
    }
   ],
   "source": [
    "df.loc[(df['gioitinh']==0)]['gioitinh'].count()"
   ]
  },
  {
   "cell_type": "code",
   "execution_count": 46,
   "id": "3b0a0cf5",
   "metadata": {},
   "outputs": [
    {
     "data": {
      "text/plain": [
       "4"
      ]
     },
     "execution_count": 46,
     "metadata": {},
     "output_type": "execute_result"
    }
   ],
   "source": [
    "df.loc[(df['gioitinh']==1)]['gioitinh'].count()"
   ]
  },
  {
   "cell_type": "code",
   "execution_count": null,
   "id": "fee7517b",
   "metadata": {},
   "outputs": [],
   "source": []
  },
  {
   "cell_type": "markdown",
   "id": "dc833b9f",
   "metadata": {},
   "source": [
    "# 2. Đếm số nhân viên Nữ và có trình độ Thạc sỹ"
   ]
  },
  {
   "cell_type": "code",
   "execution_count": 48,
   "id": "78fadd7a",
   "metadata": {},
   "outputs": [
    {
     "data": {
      "text/plain": [
       "2"
      ]
     },
     "execution_count": 48,
     "metadata": {},
     "output_type": "execute_result"
    }
   ],
   "source": [
    "df.loc[(df['gioitinh']==0) & (df['td_ThS']==1)]['gioitinh'].count()"
   ]
  },
  {
   "cell_type": "markdown",
   "id": "40b11d81",
   "metadata": {},
   "source": [
    "\n",
    "    .iloc  giúp selecting hàng và cột qua các row và column numbers. Cú pháp data.iloc[<row selection>, <column selection>]. Những input được phép truyền vào là một số nguyên (5), một list của các số nguyên ([1,2,3]), một slice object với các số nguyên (1:5), một boolean array hay một callable function.\n",
    "\n",
    "    .loc  giúp selecting hàng và cột qua hai cách: Cách 1 qua các row và column index hoặc nhãn. Cách 2 qua boolean/conditional lookup, tôi sẽ chỉ rõ qua các ví dụ. Cú pháp là data.loc[<row selection>, <column selection>].\n",
    "\n",
    "    .ix là lai của hai cách phía trên. Nếu truyền vào là một label không phải số nguyên thì nó sẽ hoạt động giống .loc còn nếu truyền vào kiểu số nguyên nó sẽ hoạt động giống iloc."
   ]
  },
  {
   "cell_type": "code",
   "execution_count": 40,
   "id": "200b3ad5",
   "metadata": {},
   "outputs": [
    {
     "name": "stdout",
     "output_type": "stream",
     "text": [
      "2\n"
     ]
    }
   ],
   "source": [
    "def count_sf_td_ThS():\n",
    "    count = 0\n",
    "    for idx in range(0,df.shape[0],1):\n",
    "        if df['gioitinh'].iloc[idx]==0 and df['td_ThS'].iloc[idx]==1:\n",
    "            count = count + 1\n",
    "    return count\n",
    "\n",
    "print(count_sf_td_ThS())"
   ]
  },
  {
   "cell_type": "markdown",
   "id": "3938a8ea",
   "metadata": {},
   "source": [
    "# 3. Đếm số nhân viên có giới tính là Nữ hoặc nhân viên có trình độ Tiến sỹ"
   ]
  },
  {
   "cell_type": "code",
   "execution_count": 49,
   "id": "a7d34bda",
   "metadata": {},
   "outputs": [
    {
     "data": {
      "text/plain": [
       "4"
      ]
     },
     "execution_count": 49,
     "metadata": {},
     "output_type": "execute_result"
    }
   ],
   "source": [
    "df.loc[(df['gioitinh']==0) | (df['td_TS']==1)]['gioitinh'].count()"
   ]
  },
  {
   "cell_type": "markdown",
   "id": "5f96c38a",
   "metadata": {},
   "source": [
    "# 4. Tính trung bình trường dữ liệu Lương cơ bản của những người có trình độ là cử nhân."
   ]
  },
  {
   "cell_type": "code",
   "execution_count": 51,
   "id": "357aeeec",
   "metadata": {},
   "outputs": [
    {
     "data": {
      "text/plain": [
       "7611300.0"
      ]
     },
     "execution_count": 51,
     "metadata": {},
     "output_type": "execute_result"
    }
   ],
   "source": [
    "df.loc[(df['td_CN']==1)]['luongcb'].mean()"
   ]
  },
  {
   "cell_type": "markdown",
   "id": "22d1cdd9",
   "metadata": {},
   "source": [
    "# 5. Xác định mức lương cơ bản cao nhất của nhân viên có trình độ cử nhân.\n",
    "\n",
    "\n"
   ]
  },
  {
   "cell_type": "code",
   "execution_count": 52,
   "id": "5969b316",
   "metadata": {},
   "outputs": [
    {
     "data": {
      "text/plain": [
       "11069999.999999998"
      ]
     },
     "execution_count": 52,
     "metadata": {},
     "output_type": "execute_result"
    }
   ],
   "source": [
    "df.loc[(df['td_CN']==1)]['luongcb'].max()"
   ]
  },
  {
   "cell_type": "markdown",
   "id": "69efcaab",
   "metadata": {},
   "source": [
    "# 6. Xác định mức lương cơ bản thấp nhất của nhân viên nữ có trình độ cử nhân"
   ]
  },
  {
   "cell_type": "code",
   "execution_count": 54,
   "id": "4c0bf6db",
   "metadata": {},
   "outputs": [
    {
     "data": {
      "text/plain": [
       "7290000.000000001"
      ]
     },
     "execution_count": 54,
     "metadata": {},
     "output_type": "execute_result"
    }
   ],
   "source": [
    "df.loc[(df['gioitinh']==0) & (df['td_CN']==1)]['luongcb'].min()"
   ]
  },
  {
   "cell_type": "code",
   "execution_count": null,
   "id": "7199f3f8",
   "metadata": {},
   "outputs": [],
   "source": []
  }
 ],
 "metadata": {
  "kernelspec": {
   "display_name": "Python 3 (ipykernel)",
   "language": "python",
   "name": "python3"
  },
  "language_info": {
   "codemirror_mode": {
    "name": "ipython",
    "version": 3
   },
   "file_extension": ".py",
   "mimetype": "text/x-python",
   "name": "python",
   "nbconvert_exporter": "python",
   "pygments_lexer": "ipython3",
   "version": "3.9.12"
  }
 },
 "nbformat": 4,
 "nbformat_minor": 5
}
