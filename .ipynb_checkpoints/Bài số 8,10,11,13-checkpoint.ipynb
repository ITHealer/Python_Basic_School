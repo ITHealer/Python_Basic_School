{
 "cells": [
  {
   "cell_type": "markdown",
   "id": "2e36e1a9",
   "metadata": {},
   "source": [
    "### Bài 8: Nhập độ dài ba cạnh a, b, c. Cho biết a, b, c có phải là ba cạnh của một tam giác không? Nếu là ba cạnh của một tam giác thì cho biết đó làm tam giác gì: đều, cân hay tam giác thường? "
   ]
  },
  {
   "cell_type": "code",
   "execution_count": 29,
   "id": "55fc17d8",
   "metadata": {},
   "outputs": [
    {
     "name": "stdout",
     "output_type": "stream",
     "text": [
      "a = 4\n",
      "b = 4\n",
      "c = 12\n",
      "4.0, 4.0, 12.0: không là độ dài của một tam giác!\n"
     ]
    }
   ],
   "source": [
    "a = float(input('a = '))\n",
    "b = float(input('b = '))\n",
    "c = float(input('c = ')) \n",
    "\n",
    "# a, b, c = map(float, input().split())\n",
    "\n",
    "def check_triangle(a, b, c):\n",
    "#   if a+b>c or a+c>b or b+c>a:\n",
    "    # check đk ngược lại \n",
    "    if a+b<c or a+c<b or b+c<a:\n",
    "        print(f'{a}, {b}, {c}: không là độ dài của một tam giác!')\n",
    "        return\n",
    "    if a==b and b==c:\n",
    "        print(f'{a}, {b}, {c} là độ dài của tam giác đều!')\n",
    "    elif (a==b and b!=c) or (b==c and c!=a) or (c==a and a!=b):\n",
    "        print(f'{a}, {b}, {c} là độ dài của tam giác cân!')\n",
    "    elif (a*a + b*b == c*c) or (b*b + c*c == a*a) or (c*c + a*a == b*b):\n",
    "        print(f'{a}, {b}, {c} là độ dài của tam giác vuông!')\n",
    "    elif (a==b and b!=c and 2*a*a == c*c) or (b==c and c!=a and 2*b*b == a*a) or (c==a and a!=b and 2*c*c == b*b):\n",
    "        print(f'{a}, {b}, {c} là độ dài của tam giác vuông cân!')\n",
    "    else: \n",
    "         print(f'{a}, {b}, {c} là độ dài của tam giác thường!')\n",
    "            \n",
    "check_triangle(a, b, c)"
   ]
  },
  {
   "attachments": {
    "image.png": {
     "image/png": "[encoded data removed]"
    }
   },
   "cell_type": "markdown",
   "id": "2d293c0e",
   "metadata": {},
   "source": [
    "### Bài 10: Nhập n, k nguyên đảm bảo phải dương và k≤n. Tính tổ hợp chập k của n theo công thức:\n",
    "![image.png](attachment:image.png)"
   ]
  },
  {
   "cell_type": "code",
   "execution_count": 38,
   "id": "117dc979",
   "metadata": {},
   "outputs": [],
   "source": [
    "# func manual\n",
    "def giai_thua(n):\n",
    "    gt=1\n",
    "    if n==0 or n==1:\n",
    "        return 1\n",
    "    else:\n",
    "        for i in range(1, n+1):\n",
    "            gt*=i\n",
    "    return gt"
   ]
  },
  {
   "cell_type": "code",
   "execution_count": 39,
   "id": "b9f78437",
   "metadata": {},
   "outputs": [],
   "source": [
    "# func manual\n",
    "def giai_thua_de_quy(n):\n",
    "    gt=1\n",
    "    if (n==0 or n==1):\n",
    "         return 1\n",
    "    return n*giai_thua_de_quy(n-1)"
   ]
  },
  {
   "cell_type": "code",
   "execution_count": 44,
   "id": "83b04585",
   "metadata": {},
   "outputs": [
    {
     "name": "stdout",
     "output_type": "stream",
     "text": [
      "362880\n"
     ]
    }
   ],
   "source": [
    "# using library\n",
    "import math\n",
    "print(math.factorial(9))"
   ]
  },
  {
   "cell_type": "code",
   "execution_count": null,
   "id": "16b1e5d8",
   "metadata": {},
   "outputs": [],
   "source": []
  }
 ],
 "metadata": {
  "kernelspec": {
   "display_name": "Python 3 (ipykernel)",
   "language": "python",
   "name": "python3"
  },
  "language_info": {
   "codemirror_mode": {
    "name": "ipython",
    "version": 3
   },
   "file_extension": ".py",
   "mimetype": "text/x-python",
   "name": "python",
   "nbconvert_exporter": "python",
   "pygments_lexer": "ipython3",
   "version": "3.9.12"
  }
 },
 "nbformat": 4,
 "nbformat_minor": 5
}
