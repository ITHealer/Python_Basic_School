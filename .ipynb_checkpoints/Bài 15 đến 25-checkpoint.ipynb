{
 "cells": [
  {
   "cell_type": "code",
   "execution_count": 10,
   "id": "5e76f0f7",
   "metadata": {},
   "outputs": [
    {
     "name": "stdout",
     "output_type": "stream",
     "text": [
      "Nhập vào số nguyên n = 123\n"
     ]
    },
    {
     "data": {
      "text/plain": [
       "321"
      ]
     },
     "execution_count": 10,
     "metadata": {},
     "output_type": "execute_result"
    }
   ],
   "source": [
    "def dao_nguoc():\n",
    "    n = int(input('Nhập vào số nguyên n = '))\n",
    "    a=0\n",
    "    b=0\n",
    "    while n > 0:\n",
    "        a = n%10\n",
    "        b = b*10 + a\n",
    "        n = n // 10\n",
    "    return b\n",
    "\n",
    "dao_nguoc()"
   ]
  },
  {
   "cell_type": "markdown",
   "id": "b2247454",
   "metadata": {},
   "source": [
    "### Bài 19: Định nghĩa một hàm có input là 2 chuỗi và in chuỗi có độ dài lớn hơn trong giao diện điều khiển. Nếu 2 chuỗi có chiều dài như nhau thì in tất cả các chuỗi theo dòng."
   ]
  },
  {
   "cell_type": "code",
   "execution_count": 11,
   "id": "ec4fd3cc",
   "metadata": {},
   "outputs": [
    {
     "name": "stdout",
     "output_type": "stream",
     "text": [
      "Chuỗi 1: anh\n",
      "Chuỗi 2: anh\n",
      "anh\n",
      "anh\n"
     ]
    }
   ],
   "source": [
    "def bai_19():\n",
    "    str1 = input(\"Chuỗi 1: \")\n",
    "    str2 = input(\"Chuỗi 2: \")\n",
    "    if len(str1) == len(str2):\n",
    "        print(str1 + \"\\n\" + str2)\n",
    "        \n",
    "bai_19()"
   ]
  },
  {
   "cell_type": "markdown",
   "id": "9e99a006",
   "metadata": {},
   "source": [
    "### Bài 20: Định nghĩa hàm có thể chấp nhận input là số nguyên và in \"Đây là một số chẵn\" nếu nó chẵn và in \"Đây là một số lẻ\" nếu là số lẻ."
   ]
  },
  {
   "cell_type": "code",
   "execution_count": 13,
   "id": "0afc88d2",
   "metadata": {},
   "outputs": [
    {
     "name": "stdout",
     "output_type": "stream",
     "text": [
      "Nhập số nguyên n = 10\n",
      "Đây là một số chẵn\n"
     ]
    }
   ],
   "source": [
    "def chan_le():\n",
    "    n = int(input('Nhập số nguyên n = '))\n",
    "    if n % 2 == 0: \n",
    "        print('Đây là một số chẵn')\n",
    "    else: \n",
    "        print('Đây là một số lẻ')\n",
    "\n",
    "chan_le()"
   ]
  },
  {
   "cell_type": "markdown",
   "id": "6fd8081f",
   "metadata": {},
   "source": [
    "### Bài 22: Định nghĩa hàm kiểm tra một số có phải là số nguyên tố hay không?\n"
   ]
  },
  {
   "cell_type": "code",
   "execution_count": 19,
   "id": "a6a1ec86",
   "metadata": {},
   "outputs": [
    {
     "name": "stdout",
     "output_type": "stream",
     "text": [
      "Nhập số nguyên n = 13\n",
      "snt\n"
     ]
    }
   ],
   "source": [
    "def snt():\n",
    "    n = int(input('Nhập số nguyên n = '))\n",
    "    for i in range(2,n):\n",
    "        if n % i == 0:\n",
    "            print('Không phải snt')\n",
    "            return\n",
    "    print('snt')\n",
    "snt()"
   ]
  },
  {
   "cell_type": "code",
   "execution_count": 26,
   "id": "84e69a1a",
   "metadata": {},
   "outputs": [],
   "source": [
    "def is_prime(n):return 0 not in [n%i for i in range(2,n//2+1)]"
   ]
  },
  {
   "cell_type": "code",
   "execution_count": 29,
   "id": "eb443e9d",
   "metadata": {},
   "outputs": [
    {
     "data": {
      "text/plain": [
       "False"
      ]
     },
     "execution_count": 29,
     "metadata": {},
     "output_type": "execute_result"
    }
   ],
   "source": [
    "is_prime(9)"
   ]
  },
  {
   "cell_type": "code",
   "execution_count": 30,
   "id": "0d1fc494",
   "metadata": {},
   "outputs": [],
   "source": [
    "def gen_prime(a, b): \n",
    "    output = [] \n",
    "    for n in range(a, b+1): \n",
    "        if is_prime(n): \n",
    "            output.append(n) \n",
    "    return output"
   ]
  },
  {
   "cell_type": "code",
   "execution_count": 32,
   "id": "867ee8ab",
   "metadata": {},
   "outputs": [
    {
     "data": {
      "text/plain": [
       "[11]"
      ]
     },
     "execution_count": 32,
     "metadata": {},
     "output_type": "execute_result"
    }
   ],
   "source": [
    "gen_prime(9, 11)"
   ]
  },
  {
   "cell_type": "code",
   "execution_count": 34,
   "id": "fc2323d3",
   "metadata": {},
   "outputs": [],
   "source": [
    "def gen_prime(a, b): return [n for n in range(a,b+1) if 0 not in [n%i for i in range(2, n//2+1)]]"
   ]
  },
  {
   "cell_type": "code",
   "execution_count": 35,
   "id": "c2baa600",
   "metadata": {},
   "outputs": [
    {
     "data": {
      "text/plain": [
       "[11]"
      ]
     },
     "execution_count": 35,
     "metadata": {},
     "output_type": "execute_result"
    }
   ],
   "source": [
    "gen_prime(9, 11)"
   ]
  },
  {
   "cell_type": "markdown",
   "id": "7e8d6daf",
   "metadata": {},
   "source": [
    "### Bài 23: Định nghĩa hàm kiểm tra một số có phải là số hoàn hảo hay không?\n"
   ]
  },
  {
   "cell_type": "code",
   "execution_count": null,
   "id": "78737d23",
   "metadata": {},
   "outputs": [],
   "source": []
  },
  {
   "cell_type": "markdown",
   "id": "aed81893",
   "metadata": {},
   "source": [
    "### Bài 24: Định nghĩa hàm kiểm tra một số có phải là số đối xứng hay không?\n"
   ]
  },
  {
   "cell_type": "code",
   "execution_count": 42,
   "id": "2faf84b8",
   "metadata": {},
   "outputs": [
    {
     "name": "stdout",
     "output_type": "stream",
     "text": [
      "sdx\n"
     ]
    }
   ],
   "source": [
    "def dx(n):\n",
    "    N = n\n",
    "    a=0\n",
    "    b=0\n",
    "    while n > 0:\n",
    "        a = n%10\n",
    "        b = b*10 + a\n",
    "        n = n // 10\n",
    "    if b == N:\n",
    "        print('sdx')\n",
    "    else: \n",
    "        print('kdx')\n",
    "dx(1221)"
   ]
  },
  {
   "cell_type": "markdown",
   "id": "ab674acf",
   "metadata": {},
   "source": [
    "### Bài  25: Định nghĩa hàm phân tích một số thành tích các thừa số nguyên tố."
   ]
  },
  {
   "cell_type": "code",
   "execution_count": 44,
   "id": "7c833c93",
   "metadata": {},
   "outputs": [
    {
     "name": "stdout",
     "output_type": "stream",
     "text": [
      "22\n"
     ]
    }
   ],
   "source": [
    "def productPrimeFactors(n):\n",
    "    product = 1\n",
    "     \n",
    "    for i in range(2, n + 1):\n",
    "        if (n % i == 0):\n",
    "            isPrime = 1\n",
    "             \n",
    "            for j in range(2, int(i / 2 + 1)):\n",
    "                if (i % j == 0):\n",
    "                    isPrime = 0\n",
    "                    break\n",
    "                 \n",
    "            # condition if 'i' is Prime number\n",
    "            # as well as factor of num\n",
    "            if (isPrime):\n",
    "                product = product * i\n",
    "                 \n",
    "    return product \n",
    "\n",
    "n = 44\n",
    "print (productPrimeFactors(n))"
   ]
  },
  {
   "cell_type": "code",
   "execution_count": 46,
   "id": "368ade48",
   "metadata": {},
   "outputs": [
    {
     "name": "stdout",
     "output_type": "stream",
     "text": [
      "Nhập số nguyên dương n = 9\n",
      "Kết quả: 9 = 3 x 3\n"
     ]
    }
   ],
   "source": [
    "def phanTichSoNguyen(n):\n",
    "    i = 2;\n",
    "    listNumbers = [];\n",
    "    # phân tích\n",
    "    while (n > 1):\n",
    "        if (n % i == 0):\n",
    "            n = int(n / i);\n",
    "            listNumbers.append(i);\n",
    "        else:\n",
    "            i = i + 1;\n",
    "    # nếu listNumbers trống thì add n vào listNumbers\n",
    "    if (len(listNumbers) == 0):\n",
    "        listNumbers.append(n);\n",
    "    return listNumbers;\n",
    " \n",
    "n = int(input(\"Nhập số nguyên dương n = \"));\n",
    "# phân tích số nguyên dương n\n",
    "listNumbers = phanTichSoNguyen(n);\n",
    "size = len(listNumbers);\n",
    "sb = \"\";\n",
    "for i in range(0, size - 1):\n",
    "    sb = sb + str(listNumbers[i]) + \" x \";\n",
    "sb = sb + str(listNumbers[size-1]);\n",
    "# in kết quả ra màn hình\n",
    "print(\"Kết quả:\", n, \"=\", sb);"
   ]
  },
  {
   "cell_type": "code",
   "execution_count": null,
   "id": "e73b059c",
   "metadata": {},
   "outputs": [],
   "source": []
  },
  {
   "cell_type": "code",
   "execution_count": null,
   "id": "7c0be97b",
   "metadata": {},
   "outputs": [],
   "source": []
  }
 ],
 "metadata": {
  "kernelspec": {
   "display_name": "Python 3 (ipykernel)",
   "language": "python",
   "name": "python3"
  },
  "language_info": {
   "codemirror_mode": {
    "name": "ipython",
    "version": 3
   },
   "file_extension": ".py",
   "mimetype": "text/x-python",
   "name": "python",
   "nbconvert_exporter": "python",
   "pygments_lexer": "ipython3",
   "version": "3.9.12"
  }
 },
 "nbformat": 4,
 "nbformat_minor": 5
}
