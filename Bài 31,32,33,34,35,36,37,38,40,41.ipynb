{
 "cells": [
  {
   "cell_type": "markdown",
   "id": "f94894e6",
   "metadata": {},
   "source": [
    "# Bài 31: Viết chương trình chấp nhận một chuỗi số, phân tách bằng dấu phẩy từ giao diện điều khiển, tạo ra một danh sách và một tuple chứa mọi số.\n",
    "Ví dụ: Đầu vào được cung cấp là 34,67,55,33,12,98 thì đầu ra là:\n",
    "['34', '67', '55', '33', '12', '98']\n",
    "('34', '67', '55', '33', '12', '98')\n"
   ]
  },
  {
   "cell_type": "code",
   "execution_count": 1,
   "id": "41bbc6a5",
   "metadata": {},
   "outputs": [
    {
     "name": "stdout",
     "output_type": "stream",
     "text": [
      "Nhập vào các giá trị:8\n",
      "['8']\n",
      "('8',)\n"
     ]
    }
   ],
   "source": [
    "values=input(\"Nhập vào các giá trị:\")\n",
    "l=values.split(\",\")\n",
    "t=tuple(l)\n",
    "print (l)\n",
    "print (t)\n"
   ]
  },
  {
   "cell_type": "markdown",
   "id": "b660faec",
   "metadata": {},
   "source": [
    "# Bài 32: Với số nguyên n nhất định, hãy viết chương trình để tạo ra một dictionary chứa (i, i*i) như là số nguyên từ 1 đến n (bao gồm cả 1 và n) sau đó in ra dictionary này. Ví dụ: Giả sử số n là 8 thì đầu ra sẽ là: {1: 1, 2: 4, 3: 9, 4: 16, 5: 25, 6: 36, 7: 49, 8: 64}."
   ]
  },
  {
   "cell_type": "code",
   "execution_count": 1,
   "id": "d8c8470d",
   "metadata": {},
   "outputs": [
    {
     "name": "stdout",
     "output_type": "stream",
     "text": [
      "nhap n= 4\n",
      "{1: 1, 2: 4, 3: 9, 4: 16}\n"
     ]
    }
   ],
   "source": [
    "def printDict(n):\n",
    "    d=dict() \n",
    "    for i in range(1,n+1): \n",
    "       d[i]=i**2 \n",
    "    print (d) \n",
    "n=int(input(\"nhap n= \"))\n",
    "printDict(n)"
   ]
  },
  {
   "cell_type": "code",
   "execution_count": 2,
   "id": "14afd5b5",
   "metadata": {},
   "outputs": [
    {
     "name": "stdout",
     "output_type": "stream",
     "text": [
      "4\n"
     ]
    },
    {
     "data": {
      "text/plain": [
       "[1, 4, 9, 16]"
      ]
     },
     "execution_count": 2,
     "metadata": {},
     "output_type": "execute_result"
    }
   ],
   "source": [
    "n = int(input())\n",
    "d = dict()\n",
    "for key in range(1, n+1):\n",
    "    d[key] = key**2\n",
    "    \n",
    "[value for value in d.values()]"
   ]
  },
  {
   "cell_type": "code",
   "execution_count": 3,
   "id": "2c2e69cc",
   "metadata": {},
   "outputs": [
    {
     "data": {
      "text/plain": [
       "[{1: 1}, {2: 4}, {3: 9}, {4: 16}]"
      ]
     },
     "execution_count": 3,
     "metadata": {},
     "output_type": "execute_result"
    }
   ],
   "source": [
    "[{key:value} for key, value in d.items()]"
   ]
  },
  {
   "cell_type": "code",
   "execution_count": 4,
   "id": "65434980",
   "metadata": {},
   "outputs": [
    {
     "name": "stdout",
     "output_type": "stream",
     "text": [
      "nhap n= 1\n",
      "{1: 1}\n"
     ]
    }
   ],
   "source": [
    "# code mẫu\n",
    "def printDict(n):\n",
    "    d=dict() \n",
    "    for i in range(1,n+1): \n",
    "        d[i]=i**2 \n",
    "    print (d)\n",
    "n=int(input(\"nhap n= \"))\n",
    "printDict(n)"
   ]
  },
  {
   "cell_type": "code",
   "execution_count": 12,
   "id": "67136c7d",
   "metadata": {},
   "outputs": [
    {
     "name": "stdout",
     "output_type": "stream",
     "text": [
      "{1}\n",
      "{2, 4}\n",
      "{9, 3}\n",
      "{16, 4}\n"
     ]
    }
   ],
   "source": [
    "def printDict():\n",
    "    d=dict() \n",
    "    for i in range(1,5): \n",
    "         d[i]=i**2 \n",
    "    for (k,v) in d.items(): \n",
    "        print ({k,v}) \n",
    "# Bài tập Python 34, Code by Quantrimang.com\n",
    "printDict()"
   ]
  },
  {
   "cell_type": "code",
   "execution_count": 14,
   "id": "cdb942ac",
   "metadata": {},
   "outputs": [
    {
     "name": "stdout",
     "output_type": "stream",
     "text": [
      "[1, 4, 9, 16, 25, 36, 49, 64, 81, 100, 121, 144, 169, 196, 225, 256, 289, 324, 361, 400]\n"
     ]
    }
   ],
   "source": [
    "def printList():\n",
    "    li=list()\n",
    "    for i in range(1,21):\n",
    "        li.append(i**2)\n",
    "    print (li)\n",
    "# Bài Python 36, Code by Quantrimang.com\n",
    "printList() "
   ]
  },
  {
   "cell_type": "code",
   "execution_count": null,
   "id": "73bbe66c",
   "metadata": {},
   "outputs": [],
   "source": []
  },
  {
   "cell_type": "code",
   "execution_count": 15,
   "id": "ccce9fc2",
   "metadata": {},
   "outputs": [
    {
     "name": "stdout",
     "output_type": "stream",
     "text": [
      "(1, 2, 3, 4, 5)\n",
      "(6, 7, 8, 9, 10)\n"
     ]
    }
   ],
   "source": [
    "tp=(1,2,3,4,5,6,7,8,9,10)\n",
    "tp1=tp[:5]\n",
    "tp2=tp[5:]\n",
    "print (tp1)\n",
    "print (tp2) "
   ]
  },
  {
   "cell_type": "code",
   "execution_count": 17,
   "id": "7d799a29",
   "metadata": {},
   "outputs": [
    {
     "name": "stdout",
     "output_type": "stream",
     "text": [
      "(2, 4, 6, 8, 10)\n"
     ]
    }
   ],
   "source": [
    "# số chẵn trong tuple\n",
    "tp=(1,2,3,4,5,6,7,8,9,10)\n",
    "li=list()\n",
    "for i in tp: \n",
    " if tp[-i]%2==0: \n",
    "       li.append(tp[i])\n",
    "\n",
    "tp2=tuple(li)\n",
    "print (tp2)"
   ]
  },
  {
   "cell_type": "code",
   "execution_count": 18,
   "id": "835a2e4e",
   "metadata": {},
   "outputs": [
    {
     "name": "stdout",
     "output_type": "stream",
     "text": [
      "[1, 4, 9, 16, 25, 36, 49, 64, 81, 100]\n"
     ]
    }
   ],
   "source": [
    "li = [1,2,3,4,5,6,7,8,9,10]\n",
    "squaredNumbers = list(map (lambda x: x ** 2, li))\n",
    "print (squaredNumbers)"
   ]
  },
  {
   "cell_type": "code",
   "execution_count": 19,
   "id": "ebf8780c",
   "metadata": {},
   "outputs": [
    {
     "name": "stdout",
     "output_type": "stream",
     "text": [
      "[4, 16, 36, 64, 100]\n"
     ]
    }
   ],
   "source": [
    "li = [1,2,3,4,5,6,7,8,9,10]\n",
    "squareOfEvenNumbers = list (map (lambda x: x ** 2, filter (lambda x: x% 2 == 0, li)))\n",
    "print (squareOfEvenNumbers)"
   ]
  },
  {
   "cell_type": "markdown",
   "id": "469161a2",
   "metadata": {},
   "source": [
    "## # fibonaci"
   ]
  },
  {
   "cell_type": "code",
   "execution_count": 22,
   "id": "c6980303",
   "metadata": {},
   "outputs": [
    {
     "name": "stdout",
     "output_type": "stream",
     "text": [
      "Nhập số n: 9\n",
      "0,1,1,2,3,5,8,13,21,34\n"
     ]
    }
   ],
   "source": [
    "\n",
    "def f(n):\n",
    "    if n == 0: return 0\n",
    "    elif n == 1: return 1\n",
    "    else: return f(n-1)+f(n-2)\n",
    "\n",
    "n=int(input(\"Nhập số n: \"))\n",
    "values = [str(f(x)) for x in range(0, n+1)]\n",
    "print (\",\".join(values))"
   ]
  },
  {
   "cell_type": "code",
   "execution_count": 23,
   "id": "aa26cb9f",
   "metadata": {},
   "outputs": [],
   "source": [
    "# bỏ các số chia hết 5, 7"
   ]
  },
  {
   "cell_type": "code",
   "execution_count": 24,
   "id": "3e472e22",
   "metadata": {},
   "outputs": [
    {
     "name": "stdout",
     "output_type": "stream",
     "text": [
      "[12, 24, 88, 120, 155]\n"
     ]
    }
   ],
   "source": [
    "li = [12,24,35,70,88,120,155]\n",
    "# Code by Quantrimang.com\n",
    "li = [i for i in li if i%5!=0 or i%7!=0]\n",
    "print (li)"
   ]
  },
  {
   "cell_type": "code",
   "execution_count": null,
   "id": "026db432",
   "metadata": {},
   "outputs": [],
   "source": []
  },
  {
   "cell_type": "markdown",
   "id": "aa367419",
   "metadata": {},
   "source": [
    "# Bài 33. Viết một chương trình để in ra tuple chứa các số chẵn được lấy từ tuple (1,2,3,4,5,6,7,8,9,10)."
   ]
  },
  {
   "cell_type": "code",
   "execution_count": 22,
   "id": "465c7b8b",
   "metadata": {},
   "outputs": [
    {
     "data": {
      "text/plain": [
       "(2, 4, 6, 8, 10)"
      ]
     },
     "execution_count": 22,
     "metadata": {},
     "output_type": "execute_result"
    }
   ],
   "source": [
    "def sochan():\n",
    "    tup=tuple()\n",
    "    l_ist=[]\n",
    "    for i in range(1, 11):\n",
    "        l_ist.append(i)\n",
    "    for j in l_ist:\n",
    "        if j%2==0:\n",
    "            tup += (j,)\n",
    "    return tup\n",
    "sochan()"
   ]
  },
  {
   "cell_type": "markdown",
   "id": "af4c441a",
   "metadata": {},
   "source": [
    "# Bài 34: Viết chương trình lọc các số chẵn trong danh sách sử dụng hàm filter. Danh sách là [1,2,3,4,5,6,7,8,9,10]."
   ]
  },
  {
   "cell_type": "code",
   "execution_count": 25,
   "id": "dd8fd3df",
   "metadata": {},
   "outputs": [],
   "source": [
    "def create_list(n):\n",
    "    lst=[]\n",
    "    for i in range(1, n+1):\n",
    "        lst.append(i)\n",
    "    return lst"
   ]
  },
  {
   "cell_type": "code",
   "execution_count": 30,
   "id": "99e34db6",
   "metadata": {},
   "outputs": [
    {
     "name": "stdout",
     "output_type": "stream",
     "text": [
      "10\n",
      "[2, 4, 6, 8, 10]\n"
     ]
    }
   ],
   "source": [
    "n=int(input())\n",
    "f = filter(lambda x: x%2==0, create_list(n))\n",
    "print(list(f))"
   ]
  },
  {
   "cell_type": "code",
   "execution_count": 31,
   "id": "fd6ccec2",
   "metadata": {},
   "outputs": [
    {
     "name": "stdout",
     "output_type": "stream",
     "text": [
      "[2, 4, 6, 8, 10]\n"
     ]
    }
   ],
   "source": [
    "# Code mẫu:\n",
    "li = [1,2,3,4,5,6,7,8,9,10]\n",
    "evenNumbers = list(filter (lambda x: x% 2 == 0, li))\n",
    "print (evenNumbers)\n"
   ]
  },
  {
   "cell_type": "markdown",
   "id": "90f9c8ca",
   "metadata": {},
   "source": [
    "# Bài 35: Viết chương trình tạo và in ra tuple chứa các giá trị bình phương của các số từ 1 đến n. Số nguyên dương n được nhập từ bàn phím."
   ]
  },
  {
   "cell_type": "code",
   "execution_count": 32,
   "id": "872f99b0",
   "metadata": {},
   "outputs": [
    {
     "name": "stdout",
     "output_type": "stream",
     "text": [
      "4\n"
     ]
    },
    {
     "data": {
      "text/plain": [
       "(1, 4, 9, 16)"
      ]
     },
     "execution_count": 32,
     "metadata": {},
     "output_type": "execute_result"
    }
   ],
   "source": [
    "def binhphuong(n):\n",
    "    lst=[]\n",
    "    for i in range(1, n+1):\n",
    "        lst.append(i**2)\n",
    "    t=tuple(lst)\n",
    "    return t\n",
    "\n",
    "n=int(input())\n",
    "binhphuong(n)"
   ]
  },
  {
   "cell_type": "markdown",
   "id": "2032571b",
   "metadata": {},
   "source": [
    "# Bài 36: Viết chương trình phân tích số nguyên n thành các thừa số nguyên tố. Ví dụ: 50=2x5x5. (Đưa các thừa số nguyên tố phân tích được vào trong list)"
   ]
  },
  {
   "cell_type": "code",
   "execution_count": 35,
   "id": "6e225883",
   "metadata": {},
   "outputs": [],
   "source": [
    "def check_snt(n):\n",
    "    for i in range(2, n//2):\n",
    "        if n%i==0:\n",
    "            return 0\n",
    "    return 1"
   ]
  },
  {
   "cell_type": "code",
   "execution_count": 67,
   "id": "5169b3f7",
   "metadata": {},
   "outputs": [
    {
     "name": "stdout",
     "output_type": "stream",
     "text": [
      "50\n"
     ]
    },
    {
     "data": {
      "text/plain": [
       "'2*5*5'"
      ]
     },
     "execution_count": 67,
     "metadata": {},
     "output_type": "execute_result"
    }
   ],
   "source": [
    "def ptt_snt(n):\n",
    "    str_result=\"\"\n",
    "    if check_snt(n):\n",
    "        print(f'{n} là số nguyên tố!')\n",
    "    else:\n",
    "        for i in range(2, n):\n",
    "            count = 0\n",
    "            while n%i==0:\n",
    "                count=count+1\n",
    "                n=n/i\n",
    "#                 str_result=str_result+str(i)+\"*\"\n",
    "                if (count):\n",
    "                    if count > 1:\n",
    "                        str_result=str_result+str(i)+\"*\"\n",
    "                    else:\n",
    "                        str_result=str_result+str(i)+\"*\"\n",
    "    \n",
    "    return str_result[:-1]\n",
    "\n",
    "n=int(input())\n",
    "ptt_snt(n)"
   ]
  },
  {
   "cell_type": "code",
   "execution_count": 63,
   "id": "7bba9a0d",
   "metadata": {},
   "outputs": [
    {
     "name": "stdout",
     "output_type": "stream",
     "text": [
      "Nhập số nguyên dương n = 42\n",
      "Kết quả: 42 = 2 x 3 x 7\n"
     ]
    }
   ],
   "source": [
    "def phanTichSoNguyen(n):\n",
    "    i = 2\n",
    "    listNumbers = []\n",
    "    while (n > 1):\n",
    "        if (n % i == 0):\n",
    "            n = int(n / i)\n",
    "            listNumbers.append(i)\n",
    "        else:\n",
    "            i = i + 1\n",
    "    # nếu listNumbers trống thì add n vào listNumbers\n",
    "    if (len(listNumbers) == 0):\n",
    "        listNumbers.append(n)\n",
    "    return listNumbers\n",
    " \n",
    "n = int(input(\"Nhập số nguyên dương n = \"))\n",
    "\n",
    "listNumbers = phanTichSoNguyen(n)\n",
    "size = len(listNumbers)\n",
    "sb = \"\"\n",
    "for i in range(0, size - 1):\n",
    "    sb = sb + str(listNumbers[i]) + \" x \"\n",
    "sb = sb + str(listNumbers[size-1]);\n",
    "\n",
    "print(\"Kết quả:\", n, \"=\", sb)"
   ]
  },
  {
   "cell_type": "markdown",
   "id": "ee3a26a7",
   "metadata": {},
   "source": [
    "# Bài 37: Viết chương trình tính tần suất các từ được nhập từ bàn phím. Kết quả được xuất ra sau khi đã sắp xếp theo bảng chữ cái. Giả sử:\n",
    "Đầu vào: The more danger, the more honor\n",
    "\n",
    "Đầu ra: \tThe:1 \t\tdanger:1\t honor:1 \tmore:2 \tthe:1\n"
   ]
  },
  {
   "cell_type": "code",
   "execution_count": 68,
   "id": "db7df127",
   "metadata": {},
   "outputs": [
    {
     "name": "stdout",
     "output_type": "stream",
     "text": [
      "anh yeu em yeu nhieu lam em co biet khong em\n",
      "anh:1\n",
      "biet:1\n",
      "co:1\n",
      "em:3\n",
      "khong:1\n",
      "lam:1\n",
      "nhieu:1\n",
      "yeu:2\n"
     ]
    }
   ],
   "source": [
    "freq = {} # frequency of words in text\n",
    "line = input()\n",
    "for word in line.split():\n",
    "    freq[word] = freq.get(word,0)+1\n",
    "words = sorted(freq.keys())\n",
    "for w in words:\n",
    "    print (\"%s:%d\" % (w,freq[w]))\n"
   ]
  },
  {
   "cell_type": "markdown",
   "id": "9e49358f",
   "metadata": {},
   "source": [
    "# Bài 38: Viết chương trình nhập một chuỗi phân tách nhau bởi dấu phẩy và in từng từ trong chuỗi theo thứ tự bảng chữ cái, phân tách nhau bằng dấu phẩy. Ví dụ:\n",
    "Đầu vào: mary,peter,alice,jack\n",
    "\n",
    "Đầu ra: alice,jack,mary,peter\n"
   ]
  },
  {
   "cell_type": "code",
   "execution_count": 70,
   "id": "4cb5d83d",
   "metadata": {},
   "outputs": [
    {
     "name": "stdout",
     "output_type": "stream",
     "text": [
      "Nhập một chuỗi: anh , yeu , em , yeu \n",
      " em , yeu , yeu ,anh \n"
     ]
    }
   ],
   "source": [
    "items=[x for x in input(\"Nhập một chuỗi: \").split(',')]\n",
    "items.sort()\n",
    "print (','.join(items))\n"
   ]
  },
  {
   "cell_type": "markdown",
   "id": "df48b4ca",
   "metadata": {},
   "source": [
    "# Bài 40: Cho trước một số tự nhiên n. Tạo một mảng có n phần tử mà các phần tử có chỉ số chẵn (bắt đầu từ 0) là một cấp số cộng bắt đầu từ 2, công sai bằng -0.5; các phần tử có chỉ số lẻ bằng -1.\n",
    "Ví dụ: Với n=4, kết quả trả về là mảng [ 2. -1. 1.5 -1. ]. \n",
    "\n",
    "Với n=5, kết quả trả về là mảng [ 2. -1. 1.5 -1. 1. ].\n"
   ]
  },
  {
   "cell_type": "code",
   "execution_count": 75,
   "id": "0207552a",
   "metadata": {},
   "outputs": [],
   "source": [
    "# n=int(input(\"nhập số phần tử n=\"))\n",
    "# A[[0]]=2.0\n",
    "# for i in range (1,n):\n",
    "#     if (i%2==0):\n",
    "#         A[[i]]=(A[[i-2]])-0.5\n",
    "#     else: A[[i]]=-1\n",
    "# for i in range (0,n):\n",
    "#     print(A[[i]])\n"
   ]
  },
  {
   "cell_type": "markdown",
   "id": "48248bbe",
   "metadata": {},
   "source": [
    "# Bài 41: Cho mảng một chiều A bất kì, hiển thị lên màn hình các yêu cầu sau:\n",
    "-\tĐếm các số chính phương có trong mảng\n",
    "-\tĐếm số lượng số nguyên tố có trong mảng\n",
    "-\tTính tổng và trung bình cộng các phần tử trong mảng\n",
    "-\tSắp xếp mảng theo thứ tự giảm dần.\n"
   ]
  },
  {
   "cell_type": "code",
   "execution_count": 42,
   "id": "7add5e6c",
   "metadata": {},
   "outputs": [],
   "source": [
    "def cp_1(n):\n",
    "    flag = 0;\n",
    "    #Tìm số bất kỳ nhỏ hơn hoặc bằng n mà bình phương bằng n\n",
    "    if any(i**2 == n for i in range(n+1)):\n",
    "        flag = 1\n",
    "    return flag"
   ]
  },
  {
   "cell_type": "code",
   "execution_count": 44,
   "id": "82e9c060",
   "metadata": {},
   "outputs": [
    {
     "data": {
      "text/plain": [
       "1"
      ]
     },
     "execution_count": 44,
     "metadata": {},
     "output_type": "execute_result"
    }
   ],
   "source": [
    "cp_1(25)"
   ]
  },
  {
   "cell_type": "code",
   "execution_count": 40,
   "id": "d12b17b0",
   "metadata": {},
   "outputs": [],
   "source": [
    "def cp_2(n):\n",
    "    flag = 0;\n",
    "    #Kiểm tra căn bậc 2 của số đó có phải số tự nhiên hay không\n",
    "    if (n ** .5).is_integer(): ##  if (math.sqrt(n)).is_integer():\n",
    "        flag = 1\n",
    "    return flag"
   ]
  },
  {
   "cell_type": "code",
   "execution_count": 41,
   "id": "6326f07d",
   "metadata": {},
   "outputs": [
    {
     "data": {
      "text/plain": [
       "0"
      ]
     },
     "execution_count": 41,
     "metadata": {},
     "output_type": "execute_result"
    }
   ],
   "source": [
    "cp(11)"
   ]
  },
  {
   "cell_type": "code",
   "execution_count": 56,
   "id": "8b10dff1",
   "metadata": {},
   "outputs": [],
   "source": [
    "def snt(n):\n",
    "    for i in range(2, n):\n",
    "        if n%i==0:\n",
    "            return False\n",
    "    return True"
   ]
  },
  {
   "cell_type": "code",
   "execution_count": 58,
   "id": "0428d3fe",
   "metadata": {},
   "outputs": [
    {
     "data": {
      "text/plain": [
       "True"
      ]
     },
     "execution_count": 58,
     "metadata": {},
     "output_type": "execute_result"
    }
   ],
   "source": [
    "snt(13)"
   ]
  },
  {
   "cell_type": "code",
   "execution_count": 28,
   "id": "0a4dceb8",
   "metadata": {},
   "outputs": [],
   "source": [
    "import numpy as np\n",
    "np.random.seed(0)\n",
    "\n",
    "x2 = np.random.randint(100, size=(3,4))"
   ]
  },
  {
   "cell_type": "code",
   "execution_count": 29,
   "id": "471bd280",
   "metadata": {},
   "outputs": [
    {
     "data": {
      "text/plain": [
       "array([[44, 47, 64, 67],\n",
       "       [67,  9, 83, 21],\n",
       "       [36, 87, 70, 88]])"
      ]
     },
     "execution_count": 29,
     "metadata": {},
     "output_type": "execute_result"
    }
   ],
   "source": [
    "x2"
   ]
  },
  {
   "cell_type": "code",
   "execution_count": 49,
   "id": "d27c4729",
   "metadata": {},
   "outputs": [],
   "source": [
    "def ds_cp(x2):\n",
    "    dem=0\n",
    "    for row in x2:\n",
    "        for elem in row:\n",
    "            if cp_1(elem)==1:\n",
    "                dem=dem+1\n",
    "    return dem"
   ]
  },
  {
   "cell_type": "code",
   "execution_count": 50,
   "id": "7d2bd908",
   "metadata": {},
   "outputs": [
    {
     "data": {
      "text/plain": [
       "3"
      ]
     },
     "execution_count": 50,
     "metadata": {},
     "output_type": "execute_result"
    }
   ],
   "source": [
    "ds_cp(x2)"
   ]
  },
  {
   "cell_type": "code",
   "execution_count": 59,
   "id": "96542fa4",
   "metadata": {},
   "outputs": [],
   "source": [
    "def ds_snt(x2):\n",
    "    count=0\n",
    "    for row in x2:\n",
    "        for elem in row:\n",
    "            if snt(elem)==1:\n",
    "                count=count+1\n",
    "    return count"
   ]
  },
  {
   "cell_type": "code",
   "execution_count": 60,
   "id": "7c10bb15",
   "metadata": {},
   "outputs": [
    {
     "data": {
      "text/plain": [
       "4"
      ]
     },
     "execution_count": 60,
     "metadata": {},
     "output_type": "execute_result"
    }
   ],
   "source": [
    "ds_snt(x2)"
   ]
  },
  {
   "cell_type": "code",
   "execution_count": 68,
   "id": "8113d25c",
   "metadata": {},
   "outputs": [],
   "source": [
    "def tong(x2):\n",
    "    s=0\n",
    "    for row in x2:\n",
    "        for elem in row:\n",
    "            s=s+elem\n",
    "    return s"
   ]
  },
  {
   "cell_type": "code",
   "execution_count": 69,
   "id": "9bea7d99",
   "metadata": {},
   "outputs": [
    {
     "data": {
      "text/plain": [
       "683"
      ]
     },
     "execution_count": 69,
     "metadata": {},
     "output_type": "execute_result"
    }
   ],
   "source": [
    "tong(x2)"
   ]
  },
  {
   "cell_type": "code",
   "execution_count": 103,
   "id": "de030ee9",
   "metadata": {},
   "outputs": [],
   "source": []
  },
  {
   "cell_type": "code",
   "execution_count": 109,
   "id": "9fe47ce8",
   "metadata": {},
   "outputs": [],
   "source": [
    "# for student in sorted(students):\n",
    "#     print(student)\n",
    "\n",
    "# for student in sorted(students, reverse=True):\n",
    "#     print(student)\n",
    "\n",
    "# dict\n",
    "# for student in sorted(students, key = lambda i: i[\"name\"], reverse=True):\n",
    "#     print(student)"
   ]
  },
  {
   "cell_type": "code",
   "execution_count": null,
   "id": "c04848fa",
   "metadata": {},
   "outputs": [],
   "source": []
  }
 ],
 "metadata": {
  "kernelspec": {
   "display_name": "Python 3 (ipykernel)",
   "language": "python",
   "name": "python3"
  },
  "language_info": {
   "codemirror_mode": {
    "name": "ipython",
    "version": 3
   },
   "file_extension": ".py",
   "mimetype": "text/x-python",
   "name": "python",
   "nbconvert_exporter": "python",
   "pygments_lexer": "ipython3",
   "version": "3.9.12"
  }
 },
 "nbformat": 4,
 "nbformat_minor": 5
}
