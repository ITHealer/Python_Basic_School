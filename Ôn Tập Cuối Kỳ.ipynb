{
 "cells": [
  {
   "cell_type": "code",
   "execution_count": null,
   "id": "8ddd5feb",
   "metadata": {},
   "outputs": [],
   "source": [
    "import pandas as pd\n",
    "\n",
    "Location= \"datasets/gradedata.csv\"\n",
    "df =pd.read_csv(Location)\n",
    "\n",
    "meangrade= df['grade'].mean() # trung bình của trường grade\n",
    "stdgrade= df['grade'].std() # Tính độ lệch chuẩn\n",
    "toprange= meangrade + stdgrade * 1.96\n",
    "botrange= meangrade - stdgrade * 1.96\n",
    "\n",
    "copydf= df\n",
    "copydf= copydf.drop(copydf[copydf['grade']> toprange].index)copydf = copydf.drop(copydf[copydf['grade']<botrange].index)\n",
    "copydf\n",
    "\n",
    "\n",
    "# Giải thích:\n",
    "# Dòng 6 tính toán phạm vi trên của  1,96 lần độ lệch chuẩn cộng với giá trị trung bình.\n",
    "# Dòng 7 tính toán phạm vi dưới của  1,96 lần  độ lệch chuẩn cộng với giá trị trung bình.\n",
    "# Dòng 9 xóa những dòng dữ liệu mà giá trị trường grade > giá trị biên trên (toprange)·     \n",
    "# Dòng 10 xóa những dòng dữ liệu mà giá trị trường grade < giá trị biên dưới (botrange)"
   ]
  }
 ],
 "metadata": {
  "kernelspec": {
   "display_name": "Python 3 (ipykernel)",
   "language": "python",
   "name": "python3"
  },
  "language_info": {
   "codemirror_mode": {
    "name": "ipython",
    "version": 3
   },
   "file_extension": ".py",
   "mimetype": "text/x-python",
   "name": "python",
   "nbconvert_exporter": "python",
   "pygments_lexer": "ipython3",
   "version": "3.9.12"
  }
 },
 "nbformat": 4,
 "nbformat_minor": 5
}
