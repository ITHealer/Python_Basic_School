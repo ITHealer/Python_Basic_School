{
 "cells": [
  {
   "cell_type": "markdown",
   "id": "79cbc7fa",
   "metadata": {},
   "source": [
    "# The Basics of NumPy Arrays"
   ]
  },
  {
   "cell_type": "markdown",
   "id": "6697f286",
   "metadata": {},
   "source": [
    "Chúng tôi sẽ đề cập đến một số loại thao tác mảng cơ bản ở đây:\n",
    "\n",
    "Các thuộc tính của mảng: Xác định kích thước, hình dạng, mức tiêu thụ bộ nhớ và kiểu dữ liệu của mảng\n",
    "\n",
    "* Lập chỉ mục mảng: Lấy và đặt giá trị của các phần tử mảng riêng lẻ\n",
    "\n",
    "* Cắt mảng: Lấy và thiết lập các mảng con nhỏ hơn trong một mảng lớn hơn\n",
    "\n",
    "* Định hình lại mảng: Thay đổi hình dạng của một mảng nhất định\n",
    "\n",
    "* Nối và tách mảng: Kết hợp nhiều mảng thành một và chia một mảng thành nhiều"
   ]
  },
  {
   "cell_type": "markdown",
   "id": "035dba16",
   "metadata": {},
   "source": [
    "### NumPy Array Attributes"
   ]
  },
  {
   "cell_type": "markdown",
   "id": "3528afab",
   "metadata": {},
   "source": [
    " Xác định ba mảng ngẫu nhiên, một mảng một chiều, hai chiều và ba chiều."
   ]
  },
  {
   "cell_type": "code",
   "execution_count": 9,
   "id": "eaecbd41",
   "metadata": {},
   "outputs": [],
   "source": [
    "import numpy as np\n",
    "np.random.seed(0)\n",
    "\n",
    "x1 = np.random.randint(10, size=(6)) # One-dimensional array (6 phần tử)\n",
    "x2 = np.random.randint(10, size=(3,4)) # Two-dimensional array (3 dòng; 2 cột)\n",
    "x3 = np.random.randint(10, size=(3,4,5)) # Three-dimensional array"
   ]
  },
  {
   "cell_type": "markdown",
   "id": "2c72311a",
   "metadata": {},
   "source": [
    "* Mỗi mảng có các thuộc tính ndim (số thứ nguyên), shape (kích thước của mỗi thứ nguyên) và size (tổng kích thước của mảng):"
   ]
  },
  {
   "cell_type": "code",
   "execution_count": 16,
   "id": "b6c23ab9",
   "metadata": {},
   "outputs": [
    {
     "name": "stdout",
     "output_type": "stream",
     "text": [
      "x3 ndim:  3\n",
      "x3 shape:  (3, 4, 5)\n",
      "x3 size:  60\n"
     ]
    }
   ],
   "source": [
    "print(\"x3 ndim: \", x3.ndim) # xđ mảng có bao nhiêu chiều\n",
    "print(\"x3 shape: \", x3.shape)\n",
    "print(\"x3 size: \", x3.size) # số phần tử có trong mảng"
   ]
  },
  {
   "cell_type": "code",
   "execution_count": 18,
   "id": "e0ad71f9",
   "metadata": {},
   "outputs": [
    {
     "name": "stdout",
     "output_type": "stream",
     "text": [
      "dtype: int32\n"
     ]
    }
   ],
   "source": [
    "print(\"dtype:\", x3.dtype)"
   ]
  },
  {
   "cell_type": "markdown",
   "id": "5ded20a9",
   "metadata": {},
   "source": [
    "* Các thuộc tính khác bao gồm kích thước mục, liệt kê kích thước (tính bằng byte) của mỗi phần tử mảng và nbyte, liệt kê tổng kích thước (tính bằng byte) của mảng:"
   ]
  },
  {
   "cell_type": "code",
   "execution_count": 20,
   "id": "d6a10b46",
   "metadata": {},
   "outputs": [
    {
     "name": "stdout",
     "output_type": "stream",
     "text": [
      "itemsize:  4 bytes\n",
      "nbytes: 240 bytes\n"
     ]
    }
   ],
   "source": [
    "print(\"itemsize: \", x3.itemsize, \"bytes\")\n",
    "print(\"nbytes:\", x3.nbytes, \"bytes\")"
   ]
  },
  {
   "cell_type": "markdown",
   "id": "49fe0940",
   "metadata": {},
   "source": [
    "* nbyte = itemsize*size."
   ]
  },
  {
   "cell_type": "markdown",
   "id": "9e35c3d7",
   "metadata": {},
   "source": [
    "### Array Indexing: Accessing Single Elements"
   ]
  },
  {
   "cell_type": "code",
   "execution_count": 21,
   "id": "1e17dea5",
   "metadata": {},
   "outputs": [
    {
     "data": {
      "text/plain": [
       "array([5, 0, 3, 3, 7, 9])"
      ]
     },
     "execution_count": 21,
     "metadata": {},
     "output_type": "execute_result"
    }
   ],
   "source": [
    "x1"
   ]
  },
  {
   "cell_type": "code",
   "execution_count": 24,
   "id": "fc457129",
   "metadata": {},
   "outputs": [
    {
     "data": {
      "text/plain": [
       "7"
      ]
     },
     "execution_count": 24,
     "metadata": {},
     "output_type": "execute_result"
    }
   ],
   "source": [
    "x1[4]"
   ]
  },
  {
   "cell_type": "markdown",
   "id": "5f5ba288",
   "metadata": {},
   "source": [
    "* Để lập chỉ mục từ cuối mảng, bạn có thể sử dụng các chỉ số phủ định:"
   ]
  },
  {
   "cell_type": "code",
   "execution_count": 23,
   "id": "a75e7568",
   "metadata": {},
   "outputs": [
    {
     "data": {
      "text/plain": [
       "9"
      ]
     },
     "execution_count": 23,
     "metadata": {},
     "output_type": "execute_result"
    }
   ],
   "source": [
    "x1[-1]"
   ]
  },
  {
   "cell_type": "markdown",
   "id": "5728e0c4",
   "metadata": {},
   "source": [
    "* Trong một mảng nhiều chiều, các mục có thể được truy cập bằng cách sử dụng nhiều chỉ số được phân tách bằng dấu phẩy:"
   ]
  },
  {
   "cell_type": "code",
   "execution_count": 25,
   "id": "b6c9273a",
   "metadata": {},
   "outputs": [
    {
     "data": {
      "text/plain": [
       "array([[3, 5, 2, 4],\n",
       "       [7, 6, 8, 8],\n",
       "       [1, 6, 7, 7]])"
      ]
     },
     "execution_count": 25,
     "metadata": {},
     "output_type": "execute_result"
    }
   ],
   "source": [
    "x2"
   ]
  },
  {
   "cell_type": "code",
   "execution_count": 27,
   "id": "c36359ab",
   "metadata": {},
   "outputs": [
    {
     "data": {
      "text/plain": [
       "5"
      ]
     },
     "execution_count": 27,
     "metadata": {},
     "output_type": "execute_result"
    }
   ],
   "source": [
    "x2[0,1]"
   ]
  },
  {
   "cell_type": "code",
   "execution_count": 28,
   "id": "ee7ac1fb",
   "metadata": {},
   "outputs": [
    {
     "data": {
      "text/plain": [
       "7"
      ]
     },
     "execution_count": 28,
     "metadata": {},
     "output_type": "execute_result"
    }
   ],
   "source": [
    "x2[2, -1]"
   ]
  },
  {
   "cell_type": "markdown",
   "id": "fbc28c01",
   "metadata": {},
   "source": [
    "* Giá trị cũng có thể được sửa đổi bằng cách sử dụng bất kỳ ký hiệu chỉ mục nào ở trên:"
   ]
  },
  {
   "cell_type": "code",
   "execution_count": 29,
   "id": "fd7deb99",
   "metadata": {},
   "outputs": [
    {
     "data": {
      "text/plain": [
       "array([[12,  5,  2,  4],\n",
       "       [ 7,  6,  8,  8],\n",
       "       [ 1,  6,  7,  7]])"
      ]
     },
     "execution_count": 29,
     "metadata": {},
     "output_type": "execute_result"
    }
   ],
   "source": [
    "x2[0, 0] = 12\n",
    "x2"
   ]
  },
  {
   "cell_type": "markdown",
   "id": "6fb4bd51",
   "metadata": {},
   "source": [
    "* Hãy nhớ rằng, không giống như danh sách Python, mảng NumPy có một kiểu cố định. Điều này có nghĩa là, ví dụ, nếu bạn cố gắng chèn một giá trị dấu phẩy động vào một mảng số nguyên, giá trị sẽ bị cắt bớt một cách âm thầm. Đừng để bị bắt không biết bởi hành vi này!"
   ]
  },
  {
   "cell_type": "code",
   "execution_count": 30,
   "id": "2e505a2f",
   "metadata": {},
   "outputs": [
    {
     "data": {
      "text/plain": [
       "array([3, 0, 3, 3, 7, 9])"
      ]
     },
     "execution_count": 30,
     "metadata": {},
     "output_type": "execute_result"
    }
   ],
   "source": [
    "x1[0] = 3.14159  # this will be truncated!\n",
    "x1"
   ]
  },
  {
   "cell_type": "markdown",
   "id": "35d9f26d",
   "metadata": {},
   "source": [
    "### Array Slicing: Accessing Subarrays"
   ]
  },
  {
   "cell_type": "markdown",
   "id": "a347074f",
   "metadata": {},
   "source": [
    "x[start:stop:step]"
   ]
  },
  {
   "cell_type": "markdown",
   "id": "a3c73e22",
   "metadata": {},
   "source": [
    "* Nếu bất kỳ giá trị nào trong số này không được xác định, chúng được đặt mặc định thành các giá trị start = 0, stop = size của thứ nguyên, bước = 1. Chúng ta sẽ xem xét việc truy cập các mảng con trong một chiều và nhiều chiều."
   ]
  },
  {
   "cell_type": "markdown",
   "id": "e3f8b931",
   "metadata": {},
   "source": [
    "#### One-dimensional subarrays"
   ]
  },
  {
   "cell_type": "code",
   "execution_count": 33,
   "id": "aead693b",
   "metadata": {},
   "outputs": [
    {
     "data": {
      "text/plain": [
       "array([0, 1, 2, 3, 4, 5, 6, 7, 8, 9])"
      ]
     },
     "execution_count": 33,
     "metadata": {},
     "output_type": "execute_result"
    }
   ],
   "source": [
    "x = np.arange(10)\n",
    "x"
   ]
  },
  {
   "cell_type": "code",
   "execution_count": 35,
   "id": "e8d3c0a2",
   "metadata": {},
   "outputs": [
    {
     "data": {
      "text/plain": [
       "array([0, 1, 2, 3, 4])"
      ]
     },
     "execution_count": 35,
     "metadata": {},
     "output_type": "execute_result"
    }
   ],
   "source": [
    "x[:5] # first five elements"
   ]
  },
  {
   "cell_type": "code",
   "execution_count": 36,
   "id": "c056e92b",
   "metadata": {},
   "outputs": [
    {
     "data": {
      "text/plain": [
       "array([5, 6, 7, 8, 9])"
      ]
     },
     "execution_count": 36,
     "metadata": {},
     "output_type": "execute_result"
    }
   ],
   "source": [
    "x[5:]  # elements after index 5"
   ]
  },
  {
   "cell_type": "code",
   "execution_count": 37,
   "id": "ba174be6",
   "metadata": {},
   "outputs": [
    {
     "data": {
      "text/plain": [
       "array([4, 5, 6])"
      ]
     },
     "execution_count": 37,
     "metadata": {},
     "output_type": "execute_result"
    }
   ],
   "source": [
    "x[4:7]  # middle sub-array"
   ]
  },
  {
   "cell_type": "code",
   "execution_count": 41,
   "id": "92133b83",
   "metadata": {},
   "outputs": [
    {
     "data": {
      "text/plain": [
       "array([0, 2, 4, 6, 8])"
      ]
     },
     "execution_count": 41,
     "metadata": {},
     "output_type": "execute_result"
    }
   ],
   "source": [
    "x[::2]  # every other element (bước nhảy)"
   ]
  },
  {
   "cell_type": "code",
   "execution_count": 42,
   "id": "3fde2afc",
   "metadata": {},
   "outputs": [
    {
     "data": {
      "text/plain": [
       "array([1, 3, 5, 7, 9])"
      ]
     },
     "execution_count": 42,
     "metadata": {},
     "output_type": "execute_result"
    }
   ],
   "source": [
    "x[1::2]  # (bắt đầu từ index = 1 bước nhảy 2)"
   ]
  },
  {
   "cell_type": "markdown",
   "id": "9c91f3d1",
   "metadata": {},
   "source": [
    "* Một trường hợp có thể gây nhầm lẫn là khi giá trị bước là âm. Trong trường hợp này, các giá trị mặc định cho bắt đầu và dừng được hoán đổi. Điều này trở thành một cách thuận tiện để đảo ngược một mảng"
   ]
  },
  {
   "cell_type": "code",
   "execution_count": 43,
   "id": "537c98ce",
   "metadata": {},
   "outputs": [
    {
     "data": {
      "text/plain": [
       "array([9, 8, 7, 6, 5, 4, 3, 2, 1, 0])"
      ]
     },
     "execution_count": 43,
     "metadata": {},
     "output_type": "execute_result"
    }
   ],
   "source": [
    "x[::-1]  # all elements, reversed"
   ]
  },
  {
   "cell_type": "code",
   "execution_count": 44,
   "id": "a2c97539",
   "metadata": {},
   "outputs": [
    {
     "data": {
      "text/plain": [
       "array([5, 3, 1])"
      ]
     },
     "execution_count": 44,
     "metadata": {},
     "output_type": "execute_result"
    }
   ],
   "source": [
    "x[5::-2]  # reversed every other from index 5"
   ]
  },
  {
   "cell_type": "markdown",
   "id": "e9f5ce63",
   "metadata": {},
   "source": [
    "#### Multi-dimensional subarrays"
   ]
  },
  {
   "cell_type": "code",
   "execution_count": 45,
   "id": "eced69c0",
   "metadata": {},
   "outputs": [
    {
     "data": {
      "text/plain": [
       "array([[12,  5,  2,  4],\n",
       "       [ 7,  6,  8,  8],\n",
       "       [ 1,  6,  7,  7]])"
      ]
     },
     "execution_count": 45,
     "metadata": {},
     "output_type": "execute_result"
    }
   ],
   "source": [
    "x2"
   ]
  },
  {
   "cell_type": "code",
   "execution_count": 46,
   "id": "9e6e8008",
   "metadata": {},
   "outputs": [
    {
     "data": {
      "text/plain": [
       "array([[12,  5,  2],\n",
       "       [ 7,  6,  8]])"
      ]
     },
     "execution_count": 46,
     "metadata": {},
     "output_type": "execute_result"
    }
   ],
   "source": [
    "x2[:2, :3]  # two rows, three columns"
   ]
  },
  {
   "cell_type": "code",
   "execution_count": 47,
   "id": "b4fbd622",
   "metadata": {},
   "outputs": [
    {
     "data": {
      "text/plain": [
       "array([[12,  2],\n",
       "       [ 7,  8],\n",
       "       [ 1,  7]])"
      ]
     },
     "execution_count": 47,
     "metadata": {},
     "output_type": "execute_result"
    }
   ],
   "source": [
    "x2[:3, ::2]"
   ]
  },
  {
   "cell_type": "code",
   "execution_count": 48,
   "id": "df9802bd",
   "metadata": {},
   "outputs": [
    {
     "data": {
      "text/plain": [
       "array([[7, 8]])"
      ]
     },
     "execution_count": 48,
     "metadata": {},
     "output_type": "execute_result"
    }
   ],
   "source": [
    "x2[1::3, ::2]"
   ]
  },
  {
   "cell_type": "markdown",
   "id": "c40904c5",
   "metadata": {},
   "source": [
    "* Cuối cùng, các kích thước của mảng con thậm chí có thể được đảo ngược với nhau:"
   ]
  },
  {
   "cell_type": "code",
   "execution_count": 49,
   "id": "df500764",
   "metadata": {},
   "outputs": [
    {
     "data": {
      "text/plain": [
       "array([[ 7,  7,  6,  1],\n",
       "       [ 8,  8,  6,  7],\n",
       "       [ 4,  2,  5, 12]])"
      ]
     },
     "execution_count": 49,
     "metadata": {},
     "output_type": "execute_result"
    }
   ],
   "source": [
    "x2[::-1, ::-1]"
   ]
  },
  {
   "cell_type": "markdown",
   "id": "0f8519c7",
   "metadata": {},
   "source": [
    "#### Accessing array rows and columns"
   ]
  },
  {
   "cell_type": "markdown",
   "id": "b186ed83",
   "metadata": {},
   "source": [
    "* Một thói quen thường cần là truy cập các hàng hoặc cột đơn lẻ của một mảng. Điều này có thể được thực hiện bằng cách kết hợp lập chỉ mục và cắt, sử dụng một lát trống được đánh dấu bằng dấu hai chấm (:):"
   ]
  },
  {
   "cell_type": "code",
   "execution_count": 50,
   "id": "ea6c8df6",
   "metadata": {},
   "outputs": [
    {
     "name": "stdout",
     "output_type": "stream",
     "text": [
      "[12  7  1]\n"
     ]
    }
   ],
   "source": [
    "print(x2[:, 0])  # cột đầu tiên của x2"
   ]
  },
  {
   "cell_type": "code",
   "execution_count": 51,
   "id": "2fde0f71",
   "metadata": {},
   "outputs": [
    {
     "name": "stdout",
     "output_type": "stream",
     "text": [
      "[12  5  2  4]\n"
     ]
    }
   ],
   "source": [
    "print(x2[0, :]) # dòng đầu tiên của x2"
   ]
  },
  {
   "cell_type": "markdown",
   "id": "74a8682c",
   "metadata": {},
   "source": [
    "* Trong trường hợp truy cập hàng, có thể bỏ qua lát trống để có cú pháp gọn gàng hơn:"
   ]
  },
  {
   "cell_type": "code",
   "execution_count": 53,
   "id": "b6268f15",
   "metadata": {},
   "outputs": [
    {
     "name": "stdout",
     "output_type": "stream",
     "text": [
      "[12  5  2  4]\n"
     ]
    }
   ],
   "source": [
    "print(x2[0])"
   ]
  },
  {
   "cell_type": "markdown",
   "id": "e3a9f8e9",
   "metadata": {},
   "source": [
    "#### Subarrays as no-copy views"
   ]
  },
  {
   "cell_type": "markdown",
   "id": "2e38960d",
   "metadata": {},
   "source": [
    "* Một điều quan trọng và cực kỳ hữu ích - cần biết về các lát mảng là chúng trả về các dạng xem thay vì bản sao của dữ liệu mảng. Đây là một khu vực trong đó việc cắt mảng NumPy khác với cách cắt danh sách trong Python: trong danh sách, các lát cắt sẽ là bản sao. Hãy xem xét mảng hai chiều của chúng ta từ trước:"
   ]
  },
  {
   "cell_type": "code",
   "execution_count": 55,
   "id": "0a79ce77",
   "metadata": {},
   "outputs": [
    {
     "name": "stdout",
     "output_type": "stream",
     "text": [
      "[[12  5  2  4]\n",
      " [ 7  6  8  8]\n",
      " [ 1  6  7  7]]\n"
     ]
    }
   ],
   "source": [
    "print(x2)"
   ]
  },
  {
   "cell_type": "markdown",
   "id": "5c585a16",
   "metadata": {},
   "source": [
    "* Hãy trích xuất một mảng con 2 × 2 từ mảng này:"
   ]
  },
  {
   "cell_type": "code",
   "execution_count": 59,
   "id": "d35ccb78",
   "metadata": {},
   "outputs": [
    {
     "name": "stdout",
     "output_type": "stream",
     "text": [
      "[[12  5]\n",
      " [ 7  6]]\n"
     ]
    }
   ],
   "source": [
    "x2_sub = x2[:2, :2]\n",
    "print(x2_sub)"
   ]
  },
  {
   "cell_type": "markdown",
   "id": "79ed2fda",
   "metadata": {},
   "source": [
    "* Bây giờ nếu chúng ta sửa đổi mảng con này, chúng ta sẽ thấy rằng mảng ban đầu đã bị thay đổi! Quan sát:"
   ]
  },
  {
   "cell_type": "code",
   "execution_count": 60,
   "id": "e4d1e395",
   "metadata": {},
   "outputs": [
    {
     "name": "stdout",
     "output_type": "stream",
     "text": [
      "[[99  5]\n",
      " [ 7  6]]\n"
     ]
    }
   ],
   "source": [
    "x2_sub[0, 0] = 99\n",
    "print(x2_sub)"
   ]
  },
  {
   "cell_type": "code",
   "execution_count": 61,
   "id": "f3bbd6f0",
   "metadata": {},
   "outputs": [
    {
     "name": "stdout",
     "output_type": "stream",
     "text": [
      "[[99  5  2  4]\n",
      " [ 7  6  8  8]\n",
      " [ 1  6  7  7]]\n"
     ]
    }
   ],
   "source": [
    "print(x2)"
   ]
  },
  {
   "cell_type": "markdown",
   "id": "6e4f1df9",
   "metadata": {},
   "source": [
    "* Hành vi mặc định này thực sự khá hữu ích: có nghĩa là khi chúng ta làm việc với các bộ dữ liệu lớn, chúng ta có thể truy cập và xử lý các phần của các bộ dữ liệu này mà không cần sao chép bộ đệm dữ liệu bên dưới."
   ]
  },
  {
   "cell_type": "markdown",
   "id": "a05ad2fc",
   "metadata": {},
   "source": [
    "#### Creating copies of arrays"
   ]
  },
  {
   "cell_type": "markdown",
   "id": "1aea3bb3",
   "metadata": {},
   "source": [
    "* Mặc dù có các tính năng tuyệt vời của chế độ xem mảng, nhưng thay vào đó, việc sao chép dữ liệu một cách rõ ràng trong một mảng hoặc một mảng con sẽ rất hữu ích. Điều này có thể được thực hiện dễ dàng nhất với phương thức copy ():"
   ]
  },
  {
   "cell_type": "code",
   "execution_count": 62,
   "id": "ae3a1eda",
   "metadata": {},
   "outputs": [
    {
     "name": "stdout",
     "output_type": "stream",
     "text": [
      "[[99  5]\n",
      " [ 7  6]]\n"
     ]
    }
   ],
   "source": [
    "x2_sub_copy = x2[:2, :2].copy()\n",
    "print(x2_sub_copy)"
   ]
  },
  {
   "cell_type": "markdown",
   "id": "a6c4ec8f",
   "metadata": {},
   "source": [
    "* Nếu bây giờ chúng ta sửa đổi mảng con này, mảng ban đầu sẽ không bị thay đổi:"
   ]
  },
  {
   "cell_type": "code",
   "execution_count": 63,
   "id": "425d6f30",
   "metadata": {},
   "outputs": [
    {
     "name": "stdout",
     "output_type": "stream",
     "text": [
      "[[11  5]\n",
      " [ 7  6]]\n"
     ]
    }
   ],
   "source": [
    "x2_sub_copy[0,0] = 11\n",
    "print(x2_sub_copy)"
   ]
  },
  {
   "cell_type": "code",
   "execution_count": 64,
   "id": "7a5c8911",
   "metadata": {},
   "outputs": [
    {
     "name": "stdout",
     "output_type": "stream",
     "text": [
      "[[99  5  2  4]\n",
      " [ 7  6  8  8]\n",
      " [ 1  6  7  7]]\n"
     ]
    }
   ],
   "source": [
    "print(x2)"
   ]
  },
  {
   "cell_type": "markdown",
   "id": "1556e9ec",
   "metadata": {},
   "source": [
    "#### Reshaping of Arrays"
   ]
  },
  {
   "cell_type": "markdown",
   "id": "3015bd17",
   "metadata": {},
   "source": [
    "* Một loại hoạt động hữu ích khác là định hình lại các mảng. Cách linh hoạt nhất để làm điều này là với phương pháp định hình lại. Ví dụ: nếu bạn muốn đặt các số từ 1 đến 9 trong lưới 3 × 3, bạn có thể thực hiện như sau:"
   ]
  },
  {
   "cell_type": "code",
   "execution_count": 66,
   "id": "9b387eea",
   "metadata": {},
   "outputs": [
    {
     "data": {
      "text/plain": [
       "array([[1, 2, 3],\n",
       "       [4, 5, 6],\n",
       "       [7, 8, 9]])"
      ]
     },
     "execution_count": 66,
     "metadata": {},
     "output_type": "execute_result"
    }
   ],
   "source": [
    "grid = np.arange(1, 10).reshape(3, 3)\n",
    "grid"
   ]
  },
  {
   "cell_type": "markdown",
   "id": "fb4b61ce",
   "metadata": {},
   "source": [
    "* Lưu ý rằng để điều này hoạt động, kích thước của mảng ban đầu phải khớp với kích thước của mảng được định hình lại. Nếu có thể, phương thức định hình lại sẽ sử dụng chế độ xem không sao chép của mảng ban đầu, nhưng với các bộ đệm bộ nhớ không liền kề, điều này không phải lúc nào cũng đúng.\n",
    "\n",
    "* Một kiểu định hình lại phổ biến khác là chuyển đổi mảng một chiều thành ma trận hàng hoặc cột hai chiều. Điều này có thể được thực hiện bằng phương pháp định hình lại hoặc dễ dàng thực hiện hơn bằng cách sử dụng từ khóa newaxis trong một thao tác lát:"
   ]
  },
  {
   "cell_type": "code",
   "execution_count": 116,
   "id": "e10b8131",
   "metadata": {},
   "outputs": [
    {
     "data": {
      "text/plain": [
       "array([[1, 2, 3]])"
      ]
     },
     "execution_count": 116,
     "metadata": {},
     "output_type": "execute_result"
    }
   ],
   "source": [
    "x = np.array([1, 2, 3])\n",
    "\n",
    "# row vector via reshape\n",
    "x.reshape((1, 3))"
   ]
  },
  {
   "cell_type": "code",
   "execution_count": 117,
   "id": "3ebbc737",
   "metadata": {},
   "outputs": [],
   "source": [
    "t = x.reshape((1, 3)).copy()"
   ]
  },
  {
   "cell_type": "code",
   "execution_count": 118,
   "id": "eea0777f",
   "metadata": {},
   "outputs": [
    {
     "data": {
      "text/plain": [
       "array([[1, 2, 3]])"
      ]
     },
     "execution_count": 118,
     "metadata": {},
     "output_type": "execute_result"
    }
   ],
   "source": [
    "t"
   ]
  },
  {
   "cell_type": "code",
   "execution_count": 68,
   "id": "1cca81a2",
   "metadata": {},
   "outputs": [
    {
     "data": {
      "text/plain": [
       "array([[1, 2, 3]])"
      ]
     },
     "execution_count": 68,
     "metadata": {},
     "output_type": "execute_result"
    }
   ],
   "source": [
    "# row vector via newaxis\n",
    "x[np.newaxis, :]"
   ]
  },
  {
   "cell_type": "code",
   "execution_count": 69,
   "id": "cdff1bd5",
   "metadata": {},
   "outputs": [
    {
     "data": {
      "text/plain": [
       "array([[1],\n",
       "       [2],\n",
       "       [3]])"
      ]
     },
     "execution_count": 69,
     "metadata": {},
     "output_type": "execute_result"
    }
   ],
   "source": [
    "# column vector via reshape\n",
    "x.reshape((3, 1))"
   ]
  },
  {
   "cell_type": "code",
   "execution_count": 72,
   "id": "21e6b80b",
   "metadata": {},
   "outputs": [
    {
     "data": {
      "text/plain": [
       "array([[1],\n",
       "       [2],\n",
       "       [3]])"
      ]
     },
     "execution_count": 72,
     "metadata": {},
     "output_type": "execute_result"
    }
   ],
   "source": [
    "# column vector via newaxis\n",
    "x[:, np.newaxis]"
   ]
  },
  {
   "cell_type": "markdown",
   "id": "fd10a788",
   "metadata": {},
   "source": [
    "### Nối và tách mảng"
   ]
  },
  {
   "cell_type": "markdown",
   "id": "040779e1",
   "metadata": {},
   "source": [
    "#### Concatenation of arrays (Nối các mảng)"
   ]
  },
  {
   "cell_type": "markdown",
   "id": "3bf1efcd",
   "metadata": {},
   "source": [
    "* Việc nối hoặc nối hai mảng trong NumPy chủ yếu được thực hiện bằng cách sử dụng các quy trình np.concatenate, np.vstack và np.hstack. np.concatenate lấy một tuple hoặc danh sách các mảng làm đối số đầu tiên của nó, như chúng ta có thể thấy ở đây:"
   ]
  },
  {
   "cell_type": "code",
   "execution_count": 74,
   "id": "3dcd47b5",
   "metadata": {},
   "outputs": [
    {
     "data": {
      "text/plain": [
       "array([1, 2, 3, 3, 2, 1])"
      ]
     },
     "execution_count": 74,
     "metadata": {},
     "output_type": "execute_result"
    }
   ],
   "source": [
    "x = np.array([1, 2, 3])\n",
    "y = np.array([3, 2, 1])\n",
    "np.concatenate((x, y))"
   ]
  },
  {
   "cell_type": "code",
   "execution_count": 75,
   "id": "1e3aa0b7",
   "metadata": {},
   "outputs": [
    {
     "data": {
      "text/plain": [
       "array([1, 2, 3, 3, 2, 1])"
      ]
     },
     "execution_count": 75,
     "metadata": {},
     "output_type": "execute_result"
    }
   ],
   "source": [
    "np.concatenate([x, y])"
   ]
  },
  {
   "cell_type": "code",
   "execution_count": 76,
   "id": "99c604ba",
   "metadata": {},
   "outputs": [
    {
     "name": "stdout",
     "output_type": "stream",
     "text": [
      "[ 1  2  3  3  2  1 99 99 99]\n"
     ]
    }
   ],
   "source": [
    "z = [99, 99, 99]\n",
    "print(np.concatenate([x, y, z]))"
   ]
  },
  {
   "cell_type": "markdown",
   "id": "27b0c1cd",
   "metadata": {},
   "source": [
    "* Dùng cho mảng 2 chiều"
   ]
  },
  {
   "cell_type": "code",
   "execution_count": 77,
   "id": "5a3f3051",
   "metadata": {},
   "outputs": [],
   "source": [
    "grid = np.array([[1, 2, 3],\n",
    "                 [4, 5, 6]])"
   ]
  },
  {
   "cell_type": "code",
   "execution_count": 78,
   "id": "c258dcb7",
   "metadata": {},
   "outputs": [
    {
     "data": {
      "text/plain": [
       "array([[1, 2, 3],\n",
       "       [4, 5, 6],\n",
       "       [1, 2, 3],\n",
       "       [4, 5, 6]])"
      ]
     },
     "execution_count": 78,
     "metadata": {},
     "output_type": "execute_result"
    }
   ],
   "source": [
    "# nối dọc theo trục đầu tiên\n",
    "np.concatenate([grid, grid])"
   ]
  },
  {
   "cell_type": "code",
   "execution_count": 115,
   "id": "3d776c8e",
   "metadata": {},
   "outputs": [
    {
     "data": {
      "text/plain": [
       "array([[ 0,  1,  2,  3,  0,  1,  2,  3],\n",
       "       [ 4,  5,  6,  7,  4,  5,  6,  7],\n",
       "       [ 8,  9, 10, 11,  8,  9, 10, 11],\n",
       "       [12, 13, 14, 15, 12, 13, 14, 15]])"
      ]
     },
     "execution_count": 115,
     "metadata": {},
     "output_type": "execute_result"
    }
   ],
   "source": [
    "# concatenate along the second axis (zero-indexed)\n",
    "np.concatenate([grid, grid], axis=1)"
   ]
  },
  {
   "cell_type": "markdown",
   "id": "a8b1cf4d",
   "metadata": {},
   "source": [
    "* Để làm việc với các mảng có kích thước hỗn hợp, có thể rõ ràng hơn khi sử dụng hàm np.vstack (ngăn xếp dọc) và np.hstack (ngăn xếp ngang):"
   ]
  },
  {
   "cell_type": "code",
   "execution_count": 80,
   "id": "fdfb443b",
   "metadata": {},
   "outputs": [],
   "source": [
    "x = np.array([1, 2, 3])\n",
    "grid = np.array([[9, 8, 7],\n",
    "                 [6, 5, 4]])"
   ]
  },
  {
   "cell_type": "code",
   "execution_count": 85,
   "id": "63c16f8f",
   "metadata": {},
   "outputs": [
    {
     "data": {
      "text/plain": [
       "array([[1, 2, 3],\n",
       "       [9, 8, 7],\n",
       "       [6, 5, 4]])"
      ]
     },
     "execution_count": 85,
     "metadata": {},
     "output_type": "execute_result"
    }
   ],
   "source": [
    "np.vstack([x, grid])"
   ]
  },
  {
   "cell_type": "code",
   "execution_count": 86,
   "id": "d499818e",
   "metadata": {},
   "outputs": [
    {
     "data": {
      "text/plain": [
       "array([[ 9,  8,  7, 99],\n",
       "       [ 6,  5,  4, 99]])"
      ]
     },
     "execution_count": 86,
     "metadata": {},
     "output_type": "execute_result"
    }
   ],
   "source": [
    "y = np.array([[99],\n",
    "              [99]])\n",
    "np.hstack([grid, y])"
   ]
  },
  {
   "cell_type": "markdown",
   "id": "9873922b",
   "metadata": {},
   "source": [
    "* Tương tự, np.dstack sẽ xếp các mảng dọc theo trục thứ ba."
   ]
  },
  {
   "cell_type": "code",
   "execution_count": 98,
   "id": "e8f83111",
   "metadata": {},
   "outputs": [
    {
     "data": {
      "text/plain": [
       "array([[[1, 2, 3],\n",
       "        [2, 3, 4],\n",
       "        [4, 3, 2]]])"
      ]
     },
     "execution_count": 98,
     "metadata": {},
     "output_type": "execute_result"
    }
   ],
   "source": [
    "x_x3 = np.array([[[1, 2, 3]]])\n",
    "grid_x3 = np.array([[[1, 2, 3],\n",
    "                   [2, 3, 4],\n",
    "                   [4, 3, 2]]])\n",
    "grid_x3"
   ]
  },
  {
   "cell_type": "code",
   "execution_count": 99,
   "id": "dee28a32",
   "metadata": {},
   "outputs": [
    {
     "data": {
      "text/plain": [
       "array([[[1, 2, 3],\n",
       "        [2, 3, 4],\n",
       "        [4, 3, 2],\n",
       "        [1, 2, 3]]])"
      ]
     },
     "execution_count": 99,
     "metadata": {},
     "output_type": "execute_result"
    }
   ],
   "source": [
    "np.hstack([grid_x3, x_x3])"
   ]
  },
  {
   "cell_type": "code",
   "execution_count": 107,
   "id": "05f17775",
   "metadata": {},
   "outputs": [],
   "source": [
    "y_x3 = np.array([[[1],\n",
    "                 [2],\n",
    "                 [99]]])\n",
    "# np.vstack([y_x3, grid_x3])"
   ]
  },
  {
   "cell_type": "markdown",
   "id": "bfb1e71d",
   "metadata": {},
   "source": [
    "#### Splitting of arrays"
   ]
  },
  {
   "cell_type": "markdown",
   "id": "4193886e",
   "metadata": {},
   "source": [
    "* Ngược lại với nối là tách, được thực hiện bởi các hàm np.split, np.hsplit và np.vsplit. Đối với mỗi điều này, chúng ta có thể chuyển một danh sách các chỉ số đưa ra các điểm phân tách:"
   ]
  },
  {
   "cell_type": "code",
   "execution_count": 108,
   "id": "a2ba6a8a",
   "metadata": {},
   "outputs": [
    {
     "name": "stdout",
     "output_type": "stream",
     "text": [
      "[1 2 3] [99 99] [3 2 1]\n"
     ]
    }
   ],
   "source": [
    "x = [1, 2, 3, 99, 99, 3, 2, 1]\n",
    "x1, x2, x3 = np.split(x, [3, 5])\n",
    "print(x1, x2, x3)"
   ]
  },
  {
   "cell_type": "markdown",
   "id": "b7daf55f",
   "metadata": {},
   "source": [
    "* Lưu ý rằng N điểm phân tách, dẫn đến N + 1 mảng con. Các chức năng liên quan np.hsplit và np.vsplit tương tự:"
   ]
  },
  {
   "cell_type": "code",
   "execution_count": 109,
   "id": "110868fa",
   "metadata": {},
   "outputs": [
    {
     "data": {
      "text/plain": [
       "array([[ 0,  1,  2,  3],\n",
       "       [ 4,  5,  6,  7],\n",
       "       [ 8,  9, 10, 11],\n",
       "       [12, 13, 14, 15]])"
      ]
     },
     "execution_count": 109,
     "metadata": {},
     "output_type": "execute_result"
    }
   ],
   "source": [
    "grid = np.arange(16).reshape((4, 4))\n",
    "grid"
   ]
  },
  {
   "cell_type": "code",
   "execution_count": 111,
   "id": "ba6aa5a5",
   "metadata": {},
   "outputs": [
    {
     "name": "stdout",
     "output_type": "stream",
     "text": [
      "[[0 1 2 3]\n",
      " [4 5 6 7]]\n"
     ]
    }
   ],
   "source": [
    "upper, lower = np.vsplit(grid, [2])\n",
    "print(upper)"
   ]
  },
  {
   "cell_type": "code",
   "execution_count": 112,
   "id": "fe827386",
   "metadata": {},
   "outputs": [
    {
     "name": "stdout",
     "output_type": "stream",
     "text": [
      "[[ 8  9 10 11]\n",
      " [12 13 14 15]]\n"
     ]
    }
   ],
   "source": [
    "print(lower)"
   ]
  },
  {
   "cell_type": "code",
   "execution_count": 113,
   "id": "df7857ab",
   "metadata": {},
   "outputs": [
    {
     "name": "stdout",
     "output_type": "stream",
     "text": [
      "[[ 0  1]\n",
      " [ 4  5]\n",
      " [ 8  9]\n",
      " [12 13]]\n",
      "[[ 2  3]\n",
      " [ 6  7]\n",
      " [10 11]\n",
      " [14 15]]\n"
     ]
    }
   ],
   "source": [
    "left, right = np.hsplit(grid, [2])\n",
    "print(left)"
   ]
  },
  {
   "cell_type": "code",
   "execution_count": 114,
   "id": "b106a864",
   "metadata": {},
   "outputs": [
    {
     "name": "stdout",
     "output_type": "stream",
     "text": [
      "[[ 2  3]\n",
      " [ 6  7]\n",
      " [10 11]\n",
      " [14 15]]\n"
     ]
    }
   ],
   "source": [
    "print(right)"
   ]
  },
  {
   "cell_type": "code",
   "execution_count": null,
   "id": "94f53fc7",
   "metadata": {},
   "outputs": [],
   "source": []
  },
  {
   "cell_type": "code",
   "execution_count": null,
   "id": "06e6b4ae",
   "metadata": {},
   "outputs": [],
   "source": []
  }
 ],
 "metadata": {
  "kernelspec": {
   "display_name": "Python 3 (ipykernel)",
   "language": "python",
   "name": "python3"
  },
  "language_info": {
   "codemirror_mode": {
    "name": "ipython",
    "version": 3
   },
   "file_extension": ".py",
   "mimetype": "text/x-python",
   "name": "python",
   "nbconvert_exporter": "python",
   "pygments_lexer": "ipython3",
   "version": "3.9.12"
  }
 },
 "nbformat": 4,
 "nbformat_minor": 5
}
