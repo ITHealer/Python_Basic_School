{
 "cells": [
  {
   "cell_type": "code",
   "execution_count": 3,
   "id": "52a40667",
   "metadata": {},
   "outputs": [],
   "source": [
    "import numpy as np"
   ]
  },
  {
   "cell_type": "code",
   "execution_count": 4,
   "id": "e6da6792",
   "metadata": {},
   "outputs": [],
   "source": [
    "# Xay dung ham\n",
    "def nhap_ma_tran_2_chieu(hang, cot):\n",
    "    \"\"\"\n",
    "    ham nhap vao ma tran va tra ve list da chieu\n",
    "    \"\"\"\n",
    "    ma_tran = []\n",
    "    for i in range(hang):\n",
    "        a = []\n",
    "        for j in range(cot):\n",
    "            print(\"\\tPhan tu thu [{0}][{1}] la:\".format(i+1, j+1), end=\" \")\n",
    "            a.append(int(input()))\n",
    "        ma_tran.append(a)\n",
    "    return ma_tran"
   ]
  },
  {
   "cell_type": "code",
   "execution_count": 5,
   "id": "aca26b42",
   "metadata": {},
   "outputs": [
    {
     "name": "stdout",
     "output_type": "stream",
     "text": [
      "Nhap vao so hang: 2\n",
      "Nhap vao so cot: 3\n",
      "Nhap vao ma tran A:\n",
      "\tPhan tu thu [1][1] la: 1\n",
      "\tPhan tu thu [1][2] la: 2\n",
      "\tPhan tu thu [1][3] la: 3\n",
      "\tPhan tu thu [2][1] la: 4\n",
      "\tPhan tu thu [2][2] la: 5\n",
      "\tPhan tu thu [2][3] la: 2\n",
      "Nhap vao ma tran B:\n",
      "\tPhan tu thu [1][1] la: 1\n",
      "\tPhan tu thu [1][2] la: 2\n",
      "\tPhan tu thu [1][3] la: 1\n",
      "\tPhan tu thu [2][1] la: 2\n",
      "\tPhan tu thu [2][2] la: 2\n",
      "\tPhan tu thu [2][3] la: 1\n",
      "Ma tran A vua nhap la:\n",
      "[[1 2 3]\n",
      " [4 5 2]]\n",
      "Ma tran B vua nhap la:\n",
      "[[1 2 1]\n",
      " [2 2 1]]\n",
      "Ma tran C la:\n",
      "[[2 4 4]\n",
      " [6 7 3]]\n"
     ]
    }
   ],
   "source": [
    "# Chuong trinh chinh\n",
    "hang = int(input(\"Nhap vao so hang: \"))\n",
    "cot = int(input(\"Nhap vao so cot: \"))\n",
    "print(\"Nhap vao ma tran A:\")\n",
    "matrix_a = np.array(nhap_ma_tran_2_chieu(hang, cot))\n",
    "print(\"Nhap vao ma tran B:\")\n",
    "matrix_b = np.array(nhap_ma_tran_2_chieu(hang, cot))\n",
    "\n",
    "# Tinh tong hai ma tran\n",
    "matrix_c = np.add(matrix_a, matrix_b)\n",
    "\n",
    "# hien thi\n",
    "print(\"Ma tran A vua nhap la:\")\n",
    "print(matrix_a)\n",
    "print(\"Ma tran B vua nhap la:\")\n",
    "print(matrix_b)\n",
    "print(\"Ma tran C la:\")\n",
    "print(matrix_c)"
   ]
  },
  {
   "cell_type": "code",
   "execution_count": null,
   "id": "c968466e",
   "metadata": {},
   "outputs": [],
   "source": []
  }
 ],
 "metadata": {
  "kernelspec": {
   "display_name": "Python 3 (ipykernel)",
   "language": "python",
   "name": "python3"
  },
  "language_info": {
   "codemirror_mode": {
    "name": "ipython",
    "version": 3
   },
   "file_extension": ".py",
   "mimetype": "text/x-python",
   "name": "python",
   "nbconvert_exporter": "python",
   "pygments_lexer": "ipython3",
   "version": "3.9.12"
  }
 },
 "nbformat": 4,
 "nbformat_minor": 5
}
